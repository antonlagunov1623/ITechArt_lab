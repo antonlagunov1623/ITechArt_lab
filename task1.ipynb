{
 "cells": [
  {
   "cell_type": "markdown",
   "metadata": {},
   "source": [
    "# Подключаем необходимые библиотеки"
   ]
  },
  {
   "cell_type": "code",
   "execution_count": 161,
   "metadata": {},
   "outputs": [],
   "source": [
    "import pandas as pd\n",
    "import numpy as np\n",
    "import matplotlib.pyplot as plt\n",
    "import scipy as sp\n",
    "import seaborn as sns\n",
    "import statsmodels.api as sm\n",
    "from sklearn.model_selection import train_test_split\n",
    "from pandas import datetime\n",
    "from sklearn.metrics import r2_score\n",
    "from sklearn.linear_model import LinearRegression\n",
    "from statsmodels.tsa.vector_ar.var_model import VAR\n",
    "from statsmodels.tsa.holtwinters import SimpleExpSmoothing\n",
    "from statsmodels.tsa.api import ExponentialSmoothing\n",
    "from sklearn.preprocessing import MinMaxScaler\n",
    "from pandas.tools.plotting import autocorrelation_plot\n",
    "from statsmodels.tsa.arima_model import ARIMA\n",
    "from sklearn.metrics import mean_squared_error"
   ]
  },
  {
   "cell_type": "markdown",
   "metadata": {},
   "source": [
    "# Считываем наши данные"
   ]
  },
  {
   "cell_type": "code",
   "execution_count": 2,
   "metadata": {
    "scrolled": true
   },
   "outputs": [
    {
     "name": "stderr",
     "output_type": "stream",
     "text": [
      "/usr/local/lib/python3.5/dist-packages/IPython/core/interactiveshell.py:3020: DtypeWarning: Columns (0,1,5,7,10) have mixed types. Specify dtype option on import or set low_memory=False.\n",
      "  interactivity=interactivity, compiler=compiler, result=result)\n"
     ]
    }
   ],
   "source": [
    "data = pd.read_csv('products.csv', sep='|', error_bad_lines=False)"
   ]
  },
  {
   "cell_type": "markdown",
   "metadata": {},
   "source": [
    "# Рассмотрим отдельный поднабор категории dry_eye"
   ]
  },
  {
   "cell_type": "code",
   "execution_count": 3,
   "metadata": {},
   "outputs": [],
   "source": [
    "dry_eye = data[data['PRODUCT_CATEGORY_LABEL']=='DRY EYE']"
   ]
  },
  {
   "cell_type": "markdown",
   "metadata": {},
   "source": [
    "# Рассмотрим его подробнее"
   ]
  },
  {
   "cell_type": "code",
   "execution_count": 4,
   "metadata": {},
   "outputs": [
    {
     "name": "stdout",
     "output_type": "stream",
     "text": [
      "<class 'pandas.core.frame.DataFrame'>\n",
      "Int64Index: 48186 entries, 1673 to 19461110\n",
      "Data columns (total 11 columns):\n",
      "WEEK                      48186 non-null object\n",
      "PLN                       48186 non-null object\n",
      "PLN_LABEL                 48186 non-null object\n",
      "PRODUCT_CATEGORY          48186 non-null object\n",
      "PRODUCT_CATEGORY_LABEL    48186 non-null object\n",
      "OPSTUDY                   48186 non-null object\n",
      "OPSTUDY_LABEL             48186 non-null object\n",
      "ACTUAL                    48186 non-null object\n",
      "BU                        47915 non-null object\n",
      "SEG                       48186 non-null object\n",
      "PROMO                     40513 non-null object\n",
      "dtypes: object(11)\n",
      "memory usage: 4.4+ MB\n"
     ]
    }
   ],
   "source": [
    "dry_eye.info()"
   ]
  },
  {
   "cell_type": "code",
   "execution_count": 5,
   "metadata": {},
   "outputs": [
    {
     "data": {
      "text/html": [
       "<div>\n",
       "<style scoped>\n",
       "    .dataframe tbody tr th:only-of-type {\n",
       "        vertical-align: middle;\n",
       "    }\n",
       "\n",
       "    .dataframe tbody tr th {\n",
       "        vertical-align: top;\n",
       "    }\n",
       "\n",
       "    .dataframe thead th {\n",
       "        text-align: right;\n",
       "    }\n",
       "</style>\n",
       "<table border=\"1\" class=\"dataframe\">\n",
       "  <thead>\n",
       "    <tr style=\"text-align: right;\">\n",
       "      <th></th>\n",
       "      <th>WEEK</th>\n",
       "      <th>PLN</th>\n",
       "      <th>PLN_LABEL</th>\n",
       "      <th>PRODUCT_CATEGORY</th>\n",
       "      <th>PRODUCT_CATEGORY_LABEL</th>\n",
       "      <th>OPSTUDY</th>\n",
       "      <th>OPSTUDY_LABEL</th>\n",
       "      <th>ACTUAL</th>\n",
       "      <th>BU</th>\n",
       "      <th>SEG</th>\n",
       "      <th>PROMO</th>\n",
       "    </tr>\n",
       "  </thead>\n",
       "  <tbody>\n",
       "    <tr>\n",
       "      <th>1673</th>\n",
       "      <td>1160529</td>\n",
       "      <td>40000415307</td>\n",
       "      <td>REFRESH OPTIVE ADVANCED      10ML</td>\n",
       "      <td>186-002</td>\n",
       "      <td>DRY EYE</td>\n",
       "      <td>186</td>\n",
       "      <td>EYE/EAR</td>\n",
       "      <td>150</td>\n",
       "      <td>Health/Wellness</td>\n",
       "      <td>A</td>\n",
       "      <td>N</td>\n",
       "    </tr>\n",
       "    <tr>\n",
       "      <th>1674</th>\n",
       "      <td>1160529</td>\n",
       "      <td>40000415307</td>\n",
       "      <td>REFRESH OPTIVE ADVANCED      10ML</td>\n",
       "      <td>186-002</td>\n",
       "      <td>DRY EYE</td>\n",
       "      <td>186</td>\n",
       "      <td>EYE/EAR</td>\n",
       "      <td>1113</td>\n",
       "      <td>Health/Wellness</td>\n",
       "      <td>C1</td>\n",
       "      <td>N</td>\n",
       "    </tr>\n",
       "    <tr>\n",
       "      <th>1675</th>\n",
       "      <td>1160529</td>\n",
       "      <td>40000415307</td>\n",
       "      <td>REFRESH OPTIVE ADVANCED      10ML</td>\n",
       "      <td>186-002</td>\n",
       "      <td>DRY EYE</td>\n",
       "      <td>186</td>\n",
       "      <td>EYE/EAR</td>\n",
       "      <td>295</td>\n",
       "      <td>Health/Wellness</td>\n",
       "      <td>B</td>\n",
       "      <td>N</td>\n",
       "    </tr>\n",
       "    <tr>\n",
       "      <th>1676</th>\n",
       "      <td>1160529</td>\n",
       "      <td>40000415307</td>\n",
       "      <td>REFRESH OPTIVE ADVANCED      10ML</td>\n",
       "      <td>186-002</td>\n",
       "      <td>DRY EYE</td>\n",
       "      <td>186</td>\n",
       "      <td>EYE/EAR</td>\n",
       "      <td>15</td>\n",
       "      <td>Health/Wellness</td>\n",
       "      <td>NoSegment-C</td>\n",
       "      <td>N</td>\n",
       "    </tr>\n",
       "    <tr>\n",
       "      <th>2474</th>\n",
       "      <td>1160529</td>\n",
       "      <td>40000684179</td>\n",
       "      <td>THERA TEARS LUB EYE DROPS    15ML</td>\n",
       "      <td>186-002</td>\n",
       "      <td>DRY EYE</td>\n",
       "      <td>186</td>\n",
       "      <td>EYE/EAR</td>\n",
       "      <td>153</td>\n",
       "      <td>Health/Wellness</td>\n",
       "      <td>A</td>\n",
       "      <td>N</td>\n",
       "    </tr>\n",
       "  </tbody>\n",
       "</table>\n",
       "</div>"
      ],
      "text/plain": [
       "         WEEK          PLN                          PLN_LABEL  \\\n",
       "1673  1160529  40000415307  REFRESH OPTIVE ADVANCED      10ML   \n",
       "1674  1160529  40000415307  REFRESH OPTIVE ADVANCED      10ML   \n",
       "1675  1160529  40000415307  REFRESH OPTIVE ADVANCED      10ML   \n",
       "1676  1160529  40000415307  REFRESH OPTIVE ADVANCED      10ML   \n",
       "2474  1160529  40000684179  THERA TEARS LUB EYE DROPS    15ML   \n",
       "\n",
       "     PRODUCT_CATEGORY PRODUCT_CATEGORY_LABEL OPSTUDY OPSTUDY_LABEL ACTUAL  \\\n",
       "1673          186-002                DRY EYE     186       EYE/EAR    150   \n",
       "1674          186-002                DRY EYE     186       EYE/EAR   1113   \n",
       "1675          186-002                DRY EYE     186       EYE/EAR    295   \n",
       "1676          186-002                DRY EYE     186       EYE/EAR     15   \n",
       "2474          186-002                DRY EYE     186       EYE/EAR    153   \n",
       "\n",
       "                   BU          SEG PROMO  \n",
       "1673  Health/Wellness            A     N  \n",
       "1674  Health/Wellness           C1     N  \n",
       "1675  Health/Wellness            B     N  \n",
       "1676  Health/Wellness  NoSegment-C     N  \n",
       "2474  Health/Wellness            A     N  "
      ]
     },
     "execution_count": 5,
     "metadata": {},
     "output_type": "execute_result"
    }
   ],
   "source": [
    "dry_eye.head()"
   ]
  },
  {
   "cell_type": "markdown",
   "metadata": {},
   "source": [
    "## Удаляем ненужные столбцы (признак BU можем удалить т.к. все наши данные итак принадлежат BU == 'Health/Wellness', аналогичная логика рассуждений и для других удаляемых признаков, ведь все они имеют одинаковые значения)"
   ]
  },
  {
   "cell_type": "code",
   "execution_count": 6,
   "metadata": {},
   "outputs": [
    {
     "name": "stderr",
     "output_type": "stream",
     "text": [
      "/usr/local/lib/python3.5/dist-packages/pandas/core/frame.py:3697: SettingWithCopyWarning: \n",
      "A value is trying to be set on a copy of a slice from a DataFrame\n",
      "\n",
      "See the caveats in the documentation: http://pandas.pydata.org/pandas-docs/stable/indexing.html#indexing-view-versus-copy\n",
      "  errors=errors)\n"
     ]
    }
   ],
   "source": [
    "dry_eye.drop(['BU', 'PRODUCT_CATEGORY_LABEL', 'PRODUCT_CATEGORY', 'OPSTUDY', 'OPSTUDY_LABEL'], axis=1, inplace=True)"
   ]
  },
  {
   "cell_type": "markdown",
   "metadata": {},
   "source": [
    "## Преобразуем признаки в необходимые типы"
   ]
  },
  {
   "cell_type": "code",
   "execution_count": 7,
   "metadata": {
    "scrolled": true
   },
   "outputs": [
    {
     "name": "stderr",
     "output_type": "stream",
     "text": [
      "/usr/local/lib/python3.5/dist-packages/ipykernel_launcher.py:1: SettingWithCopyWarning: \n",
      "A value is trying to be set on a copy of a slice from a DataFrame.\n",
      "Try using .loc[row_indexer,col_indexer] = value instead\n",
      "\n",
      "See the caveats in the documentation: http://pandas.pydata.org/pandas-docs/stable/indexing.html#indexing-view-versus-copy\n",
      "  \"\"\"Entry point for launching an IPython kernel.\n"
     ]
    }
   ],
   "source": [
    "dry_eye['WEEK'] = dry_eye['WEEK'].apply(lambda x: str(x))"
   ]
  },
  {
   "cell_type": "code",
   "execution_count": 8,
   "metadata": {},
   "outputs": [
    {
     "name": "stderr",
     "output_type": "stream",
     "text": [
      "/usr/local/lib/python3.5/dist-packages/ipykernel_launcher.py:1: SettingWithCopyWarning: \n",
      "A value is trying to be set on a copy of a slice from a DataFrame.\n",
      "Try using .loc[row_indexer,col_indexer] = value instead\n",
      "\n",
      "See the caveats in the documentation: http://pandas.pydata.org/pandas-docs/stable/indexing.html#indexing-view-versus-copy\n",
      "  \"\"\"Entry point for launching an IPython kernel.\n"
     ]
    }
   ],
   "source": [
    "dry_eye['PLN'] = dry_eye['PLN'].apply(lambda x: str(x))"
   ]
  },
  {
   "cell_type": "code",
   "execution_count": 9,
   "metadata": {},
   "outputs": [
    {
     "name": "stderr",
     "output_type": "stream",
     "text": [
      "/usr/local/lib/python3.5/dist-packages/ipykernel_launcher.py:1: SettingWithCopyWarning: \n",
      "A value is trying to be set on a copy of a slice from a DataFrame.\n",
      "Try using .loc[row_indexer,col_indexer] = value instead\n",
      "\n",
      "See the caveats in the documentation: http://pandas.pydata.org/pandas-docs/stable/indexing.html#indexing-view-versus-copy\n",
      "  \"\"\"Entry point for launching an IPython kernel.\n"
     ]
    }
   ],
   "source": [
    "dry_eye['PLN_LABEL'] = dry_eye['PLN_LABEL'].apply(lambda x: str(x))"
   ]
  },
  {
   "cell_type": "code",
   "execution_count": 10,
   "metadata": {},
   "outputs": [
    {
     "name": "stderr",
     "output_type": "stream",
     "text": [
      "/usr/local/lib/python3.5/dist-packages/ipykernel_launcher.py:1: SettingWithCopyWarning: \n",
      "A value is trying to be set on a copy of a slice from a DataFrame.\n",
      "Try using .loc[row_indexer,col_indexer] = value instead\n",
      "\n",
      "See the caveats in the documentation: http://pandas.pydata.org/pandas-docs/stable/indexing.html#indexing-view-versus-copy\n",
      "  \"\"\"Entry point for launching an IPython kernel.\n"
     ]
    }
   ],
   "source": [
    "dry_eye['ACTUAL'] = dry_eye['ACTUAL'].apply(lambda x: float(x))"
   ]
  },
  {
   "cell_type": "code",
   "execution_count": 11,
   "metadata": {},
   "outputs": [
    {
     "name": "stderr",
     "output_type": "stream",
     "text": [
      "/usr/local/lib/python3.5/dist-packages/ipykernel_launcher.py:1: SettingWithCopyWarning: \n",
      "A value is trying to be set on a copy of a slice from a DataFrame.\n",
      "Try using .loc[row_indexer,col_indexer] = value instead\n",
      "\n",
      "See the caveats in the documentation: http://pandas.pydata.org/pandas-docs/stable/indexing.html#indexing-view-versus-copy\n",
      "  \"\"\"Entry point for launching an IPython kernel.\n"
     ]
    }
   ],
   "source": [
    "dry_eye['SEG'] = dry_eye['SEG'].apply(lambda x: str(x))"
   ]
  },
  {
   "cell_type": "code",
   "execution_count": 12,
   "metadata": {
    "scrolled": true
   },
   "outputs": [
    {
     "name": "stderr",
     "output_type": "stream",
     "text": [
      "/usr/local/lib/python3.5/dist-packages/ipykernel_launcher.py:1: SettingWithCopyWarning: \n",
      "A value is trying to be set on a copy of a slice from a DataFrame.\n",
      "Try using .loc[row_indexer,col_indexer] = value instead\n",
      "\n",
      "See the caveats in the documentation: http://pandas.pydata.org/pandas-docs/stable/indexing.html#indexing-view-versus-copy\n",
      "  \"\"\"Entry point for launching an IPython kernel.\n"
     ]
    }
   ],
   "source": [
    "dry_eye['PROMO'] = dry_eye['PROMO'].apply(lambda x: str(x))"
   ]
  },
  {
   "cell_type": "markdown",
   "metadata": {},
   "source": [
    "## Преобразуем признак WEEK в datetime и создадим три новых колонки: YEAR, MONTH, DAY для того, чтобы, например, посмотреть как менялись продажи товара каждый месяц в разные года"
   ]
  },
  {
   "cell_type": "markdown",
   "metadata": {},
   "source": [
    "### Колонка WEEK имеет неподходящий вид для перевода в тип datetime, поэтому напишем функцию, чтобы немного преобразовать данные в этой колонке"
   ]
  },
  {
   "cell_type": "code",
   "execution_count": 13,
   "metadata": {},
   "outputs": [],
   "source": [
    "def date_divide(x):\n",
    "    x=x[1:]\n",
    "    x='20' + x\n",
    "    x=x[:4] + '-' + x[4:]\n",
    "    x=x[:7] + '-' + x[7:]\n",
    "    return x"
   ]
  },
  {
   "cell_type": "code",
   "execution_count": 14,
   "metadata": {
    "scrolled": true
   },
   "outputs": [
    {
     "name": "stderr",
     "output_type": "stream",
     "text": [
      "/usr/local/lib/python3.5/dist-packages/ipykernel_launcher.py:1: SettingWithCopyWarning: \n",
      "A value is trying to be set on a copy of a slice from a DataFrame.\n",
      "Try using .loc[row_indexer,col_indexer] = value instead\n",
      "\n",
      "See the caveats in the documentation: http://pandas.pydata.org/pandas-docs/stable/indexing.html#indexing-view-versus-copy\n",
      "  \"\"\"Entry point for launching an IPython kernel.\n"
     ]
    }
   ],
   "source": [
    "dry_eye['WEEK'] = dry_eye['WEEK'].apply(lambda x: date_divide(x))"
   ]
  },
  {
   "cell_type": "markdown",
   "metadata": {},
   "source": [
    "### Переводим данные в дату "
   ]
  },
  {
   "cell_type": "code",
   "execution_count": 15,
   "metadata": {},
   "outputs": [
    {
     "name": "stderr",
     "output_type": "stream",
     "text": [
      "/usr/local/lib/python3.5/dist-packages/ipykernel_launcher.py:1: SettingWithCopyWarning: \n",
      "A value is trying to be set on a copy of a slice from a DataFrame.\n",
      "Try using .loc[row_indexer,col_indexer] = value instead\n",
      "\n",
      "See the caveats in the documentation: http://pandas.pydata.org/pandas-docs/stable/indexing.html#indexing-view-versus-copy\n",
      "  \"\"\"Entry point for launching an IPython kernel.\n"
     ]
    }
   ],
   "source": [
    "dry_eye['WEEK'] = pd.to_datetime(dry_eye['WEEK'])"
   ]
  },
  {
   "cell_type": "markdown",
   "metadata": {},
   "source": [
    "### Создаем новые три колонки с годом, месяцем и днем (неделей) "
   ]
  },
  {
   "cell_type": "code",
   "execution_count": 16,
   "metadata": {},
   "outputs": [
    {
     "name": "stderr",
     "output_type": "stream",
     "text": [
      "/usr/local/lib/python3.5/dist-packages/ipykernel_launcher.py:1: SettingWithCopyWarning: \n",
      "A value is trying to be set on a copy of a slice from a DataFrame.\n",
      "Try using .loc[row_indexer,col_indexer] = value instead\n",
      "\n",
      "See the caveats in the documentation: http://pandas.pydata.org/pandas-docs/stable/indexing.html#indexing-view-versus-copy\n",
      "  \"\"\"Entry point for launching an IPython kernel.\n",
      "/usr/local/lib/python3.5/dist-packages/ipykernel_launcher.py:2: SettingWithCopyWarning: \n",
      "A value is trying to be set on a copy of a slice from a DataFrame.\n",
      "Try using .loc[row_indexer,col_indexer] = value instead\n",
      "\n",
      "See the caveats in the documentation: http://pandas.pydata.org/pandas-docs/stable/indexing.html#indexing-view-versus-copy\n",
      "  \n",
      "/usr/local/lib/python3.5/dist-packages/ipykernel_launcher.py:3: SettingWithCopyWarning: \n",
      "A value is trying to be set on a copy of a slice from a DataFrame.\n",
      "Try using .loc[row_indexer,col_indexer] = value instead\n",
      "\n",
      "See the caveats in the documentation: http://pandas.pydata.org/pandas-docs/stable/indexing.html#indexing-view-versus-copy\n",
      "  This is separate from the ipykernel package so we can avoid doing imports until\n"
     ]
    }
   ],
   "source": [
    "dry_eye['YEAR'] = [d.year for d in dry_eye['WEEK']]\n",
    "dry_eye['MONTH'] = [d.month for d in dry_eye['WEEK']]\n",
    "dry_eye['DAY'] = [d.day for d in dry_eye['WEEK']]"
   ]
  },
  {
   "cell_type": "markdown",
   "metadata": {},
   "source": [
    "## Заменим значения признака SEG на числовые "
   ]
  },
  {
   "cell_type": "markdown",
   "metadata": {},
   "source": [
    "### Создаем словарь, дге каждому строковому значению признака соответствует число "
   ]
  },
  {
   "cell_type": "code",
   "execution_count": 17,
   "metadata": {},
   "outputs": [],
   "source": [
    "seg_dic = {'A':0, 'NoSegmen-A':1, 'B':2, 'NoSegment-B':3, 'C1':4, 'C2':5, 'C3':6, 'C4':7, 'NoSegment-C':8, 'NoBuisnessUnit':9}"
   ]
  },
  {
   "cell_type": "code",
   "execution_count": 18,
   "metadata": {},
   "outputs": [
    {
     "name": "stderr",
     "output_type": "stream",
     "text": [
      "/usr/local/lib/python3.5/dist-packages/ipykernel_launcher.py:1: SettingWithCopyWarning: \n",
      "A value is trying to be set on a copy of a slice from a DataFrame.\n",
      "Try using .loc[row_indexer,col_indexer] = value instead\n",
      "\n",
      "See the caveats in the documentation: http://pandas.pydata.org/pandas-docs/stable/indexing.html#indexing-view-versus-copy\n",
      "  \"\"\"Entry point for launching an IPython kernel.\n"
     ]
    }
   ],
   "source": [
    "dry_eye['SEG'] = dry_eye['SEG'].replace(seg_dic)"
   ]
  },
  {
   "cell_type": "markdown",
   "metadata": {},
   "source": [
    "## Если в датасете имеются отрицательные значения продаж, то заменим их на нулевые"
   ]
  },
  {
   "cell_type": "code",
   "execution_count": 19,
   "metadata": {},
   "outputs": [],
   "source": [
    "def replace_negative(x):\n",
    "    if x<0:\n",
    "        return 0\n",
    "    else:\n",
    "        return x"
   ]
  },
  {
   "cell_type": "code",
   "execution_count": 20,
   "metadata": {},
   "outputs": [
    {
     "name": "stderr",
     "output_type": "stream",
     "text": [
      "/usr/local/lib/python3.5/dist-packages/ipykernel_launcher.py:1: SettingWithCopyWarning: \n",
      "A value is trying to be set on a copy of a slice from a DataFrame.\n",
      "Try using .loc[row_indexer,col_indexer] = value instead\n",
      "\n",
      "See the caveats in the documentation: http://pandas.pydata.org/pandas-docs/stable/indexing.html#indexing-view-versus-copy\n",
      "  \"\"\"Entry point for launching an IPython kernel.\n"
     ]
    }
   ],
   "source": [
    "dry_eye['ACTUAL'] = dry_eye['ACTUAL'].apply(lambda x: replace_negative(x))"
   ]
  },
  {
   "cell_type": "markdown",
   "metadata": {},
   "source": [
    "## Заменим значения PROMO 'Y', 'N' на 1, 0"
   ]
  },
  {
   "cell_type": "code",
   "execution_count": 21,
   "metadata": {},
   "outputs": [],
   "source": [
    "promo_dic = {'Y':1, 'N':0}"
   ]
  },
  {
   "cell_type": "code",
   "execution_count": 22,
   "metadata": {},
   "outputs": [
    {
     "name": "stderr",
     "output_type": "stream",
     "text": [
      "/usr/local/lib/python3.5/dist-packages/ipykernel_launcher.py:1: SettingWithCopyWarning: \n",
      "A value is trying to be set on a copy of a slice from a DataFrame.\n",
      "Try using .loc[row_indexer,col_indexer] = value instead\n",
      "\n",
      "See the caveats in the documentation: http://pandas.pydata.org/pandas-docs/stable/indexing.html#indexing-view-versus-copy\n",
      "  \"\"\"Entry point for launching an IPython kernel.\n"
     ]
    }
   ],
   "source": [
    "dry_eye['PROMO'] = dry_eye['PROMO'].replace(promo_dic)"
   ]
  },
  {
   "cell_type": "markdown",
   "metadata": {},
   "source": [
    "## Взглянем на получившейся набор после преобразований "
   ]
  },
  {
   "cell_type": "code",
   "execution_count": 23,
   "metadata": {},
   "outputs": [
    {
     "data": {
      "text/html": [
       "<div>\n",
       "<style scoped>\n",
       "    .dataframe tbody tr th:only-of-type {\n",
       "        vertical-align: middle;\n",
       "    }\n",
       "\n",
       "    .dataframe tbody tr th {\n",
       "        vertical-align: top;\n",
       "    }\n",
       "\n",
       "    .dataframe thead th {\n",
       "        text-align: right;\n",
       "    }\n",
       "</style>\n",
       "<table border=\"1\" class=\"dataframe\">\n",
       "  <thead>\n",
       "    <tr style=\"text-align: right;\">\n",
       "      <th></th>\n",
       "      <th>WEEK</th>\n",
       "      <th>PLN</th>\n",
       "      <th>PLN_LABEL</th>\n",
       "      <th>ACTUAL</th>\n",
       "      <th>SEG</th>\n",
       "      <th>PROMO</th>\n",
       "      <th>YEAR</th>\n",
       "      <th>MONTH</th>\n",
       "      <th>DAY</th>\n",
       "    </tr>\n",
       "  </thead>\n",
       "  <tbody>\n",
       "    <tr>\n",
       "      <th>1673</th>\n",
       "      <td>2016-05-29</td>\n",
       "      <td>40000415307</td>\n",
       "      <td>REFRESH OPTIVE ADVANCED      10ML</td>\n",
       "      <td>150.0</td>\n",
       "      <td>0</td>\n",
       "      <td>0</td>\n",
       "      <td>2016</td>\n",
       "      <td>5</td>\n",
       "      <td>29</td>\n",
       "    </tr>\n",
       "    <tr>\n",
       "      <th>1674</th>\n",
       "      <td>2016-05-29</td>\n",
       "      <td>40000415307</td>\n",
       "      <td>REFRESH OPTIVE ADVANCED      10ML</td>\n",
       "      <td>1113.0</td>\n",
       "      <td>4</td>\n",
       "      <td>0</td>\n",
       "      <td>2016</td>\n",
       "      <td>5</td>\n",
       "      <td>29</td>\n",
       "    </tr>\n",
       "    <tr>\n",
       "      <th>1675</th>\n",
       "      <td>2016-05-29</td>\n",
       "      <td>40000415307</td>\n",
       "      <td>REFRESH OPTIVE ADVANCED      10ML</td>\n",
       "      <td>295.0</td>\n",
       "      <td>2</td>\n",
       "      <td>0</td>\n",
       "      <td>2016</td>\n",
       "      <td>5</td>\n",
       "      <td>29</td>\n",
       "    </tr>\n",
       "    <tr>\n",
       "      <th>1676</th>\n",
       "      <td>2016-05-29</td>\n",
       "      <td>40000415307</td>\n",
       "      <td>REFRESH OPTIVE ADVANCED      10ML</td>\n",
       "      <td>15.0</td>\n",
       "      <td>8</td>\n",
       "      <td>0</td>\n",
       "      <td>2016</td>\n",
       "      <td>5</td>\n",
       "      <td>29</td>\n",
       "    </tr>\n",
       "    <tr>\n",
       "      <th>2474</th>\n",
       "      <td>2016-05-29</td>\n",
       "      <td>40000684179</td>\n",
       "      <td>THERA TEARS LUB EYE DROPS    15ML</td>\n",
       "      <td>153.0</td>\n",
       "      <td>0</td>\n",
       "      <td>0</td>\n",
       "      <td>2016</td>\n",
       "      <td>5</td>\n",
       "      <td>29</td>\n",
       "    </tr>\n",
       "  </tbody>\n",
       "</table>\n",
       "</div>"
      ],
      "text/plain": [
       "           WEEK          PLN                          PLN_LABEL  ACTUAL SEG  \\\n",
       "1673 2016-05-29  40000415307  REFRESH OPTIVE ADVANCED      10ML   150.0   0   \n",
       "1674 2016-05-29  40000415307  REFRESH OPTIVE ADVANCED      10ML  1113.0   4   \n",
       "1675 2016-05-29  40000415307  REFRESH OPTIVE ADVANCED      10ML   295.0   2   \n",
       "1676 2016-05-29  40000415307  REFRESH OPTIVE ADVANCED      10ML    15.0   8   \n",
       "2474 2016-05-29  40000684179  THERA TEARS LUB EYE DROPS    15ML   153.0   0   \n",
       "\n",
       "     PROMO  YEAR  MONTH  DAY  \n",
       "1673     0  2016      5   29  \n",
       "1674     0  2016      5   29  \n",
       "1675     0  2016      5   29  \n",
       "1676     0  2016      5   29  \n",
       "2474     0  2016      5   29  "
      ]
     },
     "execution_count": 23,
     "metadata": {},
     "output_type": "execute_result"
    }
   ],
   "source": [
    "dry_eye.head()"
   ]
  },
  {
   "cell_type": "markdown",
   "metadata": {},
   "source": [
    "## Выведем гистограму продаж"
   ]
  },
  {
   "cell_type": "code",
   "execution_count": 24,
   "metadata": {},
   "outputs": [
    {
     "data": {
      "image/png": "[encoded data removed]",
      "text/plain": [
       "<Figure size 432x288 with 1 Axes>"
      ]
     },
     "metadata": {
      "needs_background": "light"
     },
     "output_type": "display_data"
    }
   ],
   "source": [
    "dry_eye['ACTUAL'].hist(bins=100);"
   ]
  },
  {
   "cell_type": "markdown",
   "metadata": {},
   "source": [
    "### Видно из гистограммы, что продажи не распределены по нормальному закону "
   ]
  },
  {
   "cell_type": "markdown",
   "metadata": {},
   "source": [
    "## Диаграмма количества продаж в каждый месяц по годам"
   ]
  },
  {
   "cell_type": "code",
   "execution_count": 25,
   "metadata": {},
   "outputs": [
    {
     "name": "stderr",
     "output_type": "stream",
     "text": [
      "/usr/local/lib/python3.5/dist-packages/scipy/stats/stats.py:1713: FutureWarning: Using a non-tuple sequence for multidimensional indexing is deprecated; use `arr[tuple(seq)]` instead of `arr[seq]`. In the future this will be interpreted as an array index, `arr[np.array(seq)]`, which will result either in an error or a different result.\n",
      "  return np.add.reduce(sorted[indexer] * weights, axis=axis) / sumval\n"
     ]
    },
    {
     "data": {
      "image/png": "[encoded data removed]",
      "text/plain": [
       "<Figure size 421.375x360 with 1 Axes>"
      ]
     },
     "metadata": {
      "needs_background": "light"
     },
     "output_type": "display_data"
    }
   ],
   "source": [
    "sns.catplot(x='MONTH', y='ACTUAL', hue='YEAR', data=dry_eye, kind='bar', palette='muted');"
   ]
  },
  {
   "cell_type": "markdown",
   "metadata": {},
   "source": [
    "### Из графика продаж в принципе видно, что у данной категории нет никаких сезонных компонент"
   ]
  },
  {
   "cell_type": "markdown",
   "metadata": {},
   "source": [
    "## Рассмотрим подробнее и попытаемся спрогнозировать продажи самого популярного продукта данной категории"
   ]
  },
  {
   "cell_type": "code",
   "execution_count": 26,
   "metadata": {},
   "outputs": [
    {
     "data": {
      "text/plain": [
       "BLINK GEL TEAR LUB EYE DROPS.34OZ    942\n",
       "BLINK TEARS LUBRICATING DRPS .5OZ    935\n",
       "BLINK TEARS LUBRICATING DROPS 1OZ    898\n",
       "WALG ARTIFICIAL TEAR LBRCNT .5OZ     876\n",
       "B&L SOOTHE LUB EYE DRPS .02OZ 28S    849\n",
       "VISINE TEARS FOR DRY EYES    .5OZ    838\n",
       "VISINE TEARS L/LST RLF DRYEYE.5OZ    826\n",
       "SOOTHE HYDRATION DRY EYE DROP.5OZ    823\n",
       "WALG LUB E DRP SNGL USE .01OZ 30S    819\n",
       "SYSTANE ULT HIGH PERFORMANC .33OZ    797\n",
       "WALG SODIUM CHLR OPTH ONT 5%.13OZ    785\n",
       "SYSTANE LUB EYE DRP          .5OZ    782\n",
       "B&L SOOTHE XP                15ML    779\n",
       "SYSTANE BLNC LBRCNT EYE DROP.33OZ    776\n",
       "SYSTANE PM LUBE EYE OINTMENT.12OZ    763\n",
       "SYSTANE ULTRA            .33OZ 2S    753\n",
       "WALG LUB E DRP SNGL USE .01OZ 70S    751\n",
       "SYSTANE BALANCE EYE DROP .33OZ 2S    750\n",
       "SIMILASAN E/DROP D/EYE 30014.33OZ    747\n",
       "SIMILASAN CMPLT E RLF DRPS .33OZ     741\n",
       "WALGREENS MURO 128 DROPS    .500Z    736\n",
       "WALG ULT LUB EYEDRP VIAL .01OZ25S    726\n",
       "SYSTANE LUB EYE DRP          30ML    721\n",
       "SYSTANE ULTRA POCKET PACK.14OZ 2S    719\n",
       "SYSTANE GEL DROPS           .33OZ    712\n",
       "GENTEAL SEVERE LUB EYE GEL   10ML    709\n",
       "REFRESH LIQUIGEL LUB 92056   .5OZ    693\n",
       "REFRESH TEARS LUB EYE DROPS  15ML    693\n",
       "SYSTANE GEL OVERNIGHT THERPY.35OZ    692\n",
       "REFRESH OPTIVE ADV SENS .01OZ 30S    690\n",
       "                                    ... \n",
       "GENTEAL MILD/MOD LUB EYE DROP15ML    273\n",
       "WALGREEN STYE OINTMENT      .12OZ    265\n",
       "TRP AGING EYE RELIEF DROPS   .5OZ    219\n",
       "WALG LUBRICANT EYEDROPS .5OZ         217\n",
       "TEARS NATURALE II 0418-15  15ML X    193\n",
       "WALGREEN STYE OINTMENT     .125OZ    187\n",
       "WALG OPTIVE LUB EYE DRP   .5OZ 2S    180\n",
       "WALG ART TEARS VIALS .02OZ 32S       180\n",
       "REFRESH PLUS.01OZ 30S                173\n",
       "REFRESH ARTIFCL TEARS .01OZ 30S X    132\n",
       "REFRESH PLUS          .01OZ 50S X    129\n",
       "THERATEARS UNIT DOSE 3.2OZ    32S    121\n",
       "ROHTO DRY AID EYE DROPS .34OZ        116\n",
       "W(WALG)ART TEARS VIALS .02OZ 32S     116\n",
       "GENTEAL TEARS MILD LUB DROPS 15ML    114\n",
       "WALG EYE DROPS FORMULA .5OZ 2S       110\n",
       "REFRESH LIQUIGEL LUB 92057    1OZ    108\n",
       "REFRESH OPTIVE MEGA-3 PRSRVTV 30S    107\n",
       "OCUSOFT RETAINE PM INTMENT 0.18OZ     96\n",
       "SYSTANE ULT LUB EYE DROP .7ML 25S     70\n",
       "SYSTANE PF ARTF TRS VIALS.7ML 30S     70\n",
       "WALG LUBRICANT EYE DROPS .5OZ 2S      60\n",
       "WALGREENS PF A/TEARS VIAL 30S         26\n",
       "WALGREENS SENS EYE DROPS 60S          24\n",
       "GENTEAL PM LUB EYE OINTMNT .125OZ     12\n",
       "WALG BLNC LBRCNT EYE DROP   .33OZ     11\n",
       "B&L ADV EYE RELIEF REJUVENTN .5OZ      8\n",
       "REFRESH CELVSC 1%OPHT SOL .1OZ30S      8\n",
       "REFRESH LACRI-LUBE OPTH ONT 3.5GM      8\n",
       "CLEAR EYES PURE RLF DRY EYE .33OZ      4\n",
       "Name: PLN_LABEL, Length: 102, dtype: int64"
      ]
     },
     "execution_count": 26,
     "metadata": {},
     "output_type": "execute_result"
    }
   ],
   "source": [
    "dry_eye['PLN_LABEL'].value_counts()"
   ]
  },
  {
   "cell_type": "code",
   "execution_count": 27,
   "metadata": {},
   "outputs": [],
   "source": [
    "first_item = dry_eye[dry_eye['PLN_LABEL']=='BLINK GEL TEAR LUB EYE DROPS.34OZ']"
   ]
  },
  {
   "cell_type": "markdown",
   "metadata": {},
   "source": [
    "## Можем удалить колонки 'PLN' и 'PLN_LABEL', ведь мы уже определились с конкретным товаром "
   ]
  },
  {
   "cell_type": "code",
   "execution_count": 28,
   "metadata": {},
   "outputs": [],
   "source": [
    "first_item.drop(['PLN_LABEL', 'PLN'], axis=1, inplace=True)"
   ]
  },
  {
   "cell_type": "code",
   "execution_count": 30,
   "metadata": {},
   "outputs": [
    {
     "data": {
      "text/plain": [
       "2017-07-09    14\n",
       "2017-05-28     8\n",
       "2016-09-11     8\n",
       "2016-10-09     8\n",
       "2017-05-14     8\n",
       "2017-03-12     8\n",
       "2016-07-24     8\n",
       "2016-11-06     8\n",
       "2015-12-06     8\n",
       "2016-04-17     8\n",
       "2015-09-27     8\n",
       "2017-02-12     8\n",
       "2016-06-26     8\n",
       "2015-11-08     8\n",
       "2015-10-25     8\n",
       "2016-06-12     8\n",
       "2017-01-29     8\n",
       "2017-06-04     8\n",
       "2015-11-22     8\n",
       "2016-07-10     8\n",
       "2017-02-26     8\n",
       "2017-04-30     8\n",
       "2016-01-24     8\n",
       "2017-03-26     8\n",
       "2015-11-01     8\n",
       "2016-11-13     8\n",
       "2015-09-06     8\n",
       "2016-04-24     8\n",
       "2017-07-30     8\n",
       "2015-10-04     8\n",
       "              ..\n",
       "2015-07-26     4\n",
       "2015-08-23     4\n",
       "2016-05-08     4\n",
       "2015-03-01     4\n",
       "2015-03-29     4\n",
       "2015-04-26     4\n",
       "2017-11-05     4\n",
       "2015-05-24     4\n",
       "2015-06-21     4\n",
       "2016-02-07     4\n",
       "2015-04-05     4\n",
       "2017-08-20     4\n",
       "2016-03-27     4\n",
       "2017-01-01     4\n",
       "2015-02-15     4\n",
       "2016-05-22     4\n",
       "2017-01-08     4\n",
       "2015-03-15     4\n",
       "2015-04-12     4\n",
       "2015-05-10     4\n",
       "2017-11-19     4\n",
       "2015-06-07     4\n",
       "2015-07-05     4\n",
       "2016-02-21     4\n",
       "2015-08-02     4\n",
       "2016-03-20     4\n",
       "2015-08-30     4\n",
       "2015-02-08     4\n",
       "2016-05-15     4\n",
       "2016-03-06     4\n",
       "Name: WEEK, Length: 145, dtype: int64"
      ]
     },
     "execution_count": 30,
     "metadata": {},
     "output_type": "execute_result"
    }
   ],
   "source": [
    "first_item['WEEK'].value_counts()"
   ]
  },
  {
   "cell_type": "markdown",
   "metadata": {},
   "source": [
    "### Как видно выше недели повторяютя, сделаем так, чтобы на каждую конкретную неделю была только одна запись, для этого сложим все значения продаж для каждых повторяющихся недель. Также если хотя бы в одной из повторяющихся недель товар был на акции, то считаем, что и в \"суммированной\" недели он тоже будет на акции"
   ]
  },
  {
   "cell_type": "code",
   "execution_count": 31,
   "metadata": {},
   "outputs": [],
   "source": [
    "weeks = np.unique(first_item['WEEK'].values)\n",
    "sums = []\n",
    "promos = []\n",
    "indexes = first_item.index"
   ]
  },
  {
   "cell_type": "code",
   "execution_count": 32,
   "metadata": {},
   "outputs": [],
   "source": [
    "for w in weeks:\n",
    "    s = 0\n",
    "    promo = 0\n",
    "    for i in indexes:\n",
    "        if first_item.at[i, 'WEEK']==w:\n",
    "            s=s+first_item.at[i, 'ACTUAL']\n",
    "            if first_item.at[i, 'PROMO']==1:\n",
    "                promo = 1\n",
    "    sums.append(s)\n",
    "    promos.append(promo)"
   ]
  },
  {
   "cell_type": "code",
   "execution_count": 33,
   "metadata": {},
   "outputs": [],
   "source": [
    "first_item1 = pd.DataFrame({'WEEK': weeks, 'ACTUAL': sums, 'PROMO': promos})"
   ]
  },
  {
   "cell_type": "markdown",
   "metadata": {},
   "source": [
    "# Загрузим сразу данные на будующий год, для которого необходимо сделать прогноз "
   ]
  },
  {
   "cell_type": "code",
   "execution_count": 34,
   "metadata": {},
   "outputs": [],
   "source": [
    "future = pd.read_csv('future.csv', sep='|', error_bad_lines=False)"
   ]
  },
  {
   "cell_type": "code",
   "execution_count": 35,
   "metadata": {},
   "outputs": [
    {
     "name": "stdout",
     "output_type": "stream",
     "text": [
      "<class 'pandas.core.frame.DataFrame'>\n",
      "RangeIndex: 7199527 entries, 0 to 7199526\n",
      "Data columns (total 4 columns):\n",
      "1171126        int64\n",
      "40000980460    int64\n",
      "B              object\n",
      "N              object\n",
      "dtypes: int64(2), object(2)\n",
      "memory usage: 219.7+ MB\n"
     ]
    }
   ],
   "source": [
    "future.info()"
   ]
  },
  {
   "cell_type": "code",
   "execution_count": 36,
   "metadata": {},
   "outputs": [
    {
     "data": {
      "text/html": [
       "<div>\n",
       "<style scoped>\n",
       "    .dataframe tbody tr th:only-of-type {\n",
       "        vertical-align: middle;\n",
       "    }\n",
       "\n",
       "    .dataframe tbody tr th {\n",
       "        vertical-align: top;\n",
       "    }\n",
       "\n",
       "    .dataframe thead th {\n",
       "        text-align: right;\n",
       "    }\n",
       "</style>\n",
       "<table border=\"1\" class=\"dataframe\">\n",
       "  <thead>\n",
       "    <tr style=\"text-align: right;\">\n",
       "      <th></th>\n",
       "      <th>1171126</th>\n",
       "      <th>40000980460</th>\n",
       "      <th>B</th>\n",
       "      <th>N</th>\n",
       "    </tr>\n",
       "  </thead>\n",
       "  <tbody>\n",
       "    <tr>\n",
       "      <th>0</th>\n",
       "      <td>1171126</td>\n",
       "      <td>40000980460</td>\n",
       "      <td>NoSegment-C</td>\n",
       "      <td>N</td>\n",
       "    </tr>\n",
       "    <tr>\n",
       "      <th>1</th>\n",
       "      <td>1171126</td>\n",
       "      <td>40000980460</td>\n",
       "      <td>C4</td>\n",
       "      <td>N</td>\n",
       "    </tr>\n",
       "    <tr>\n",
       "      <th>2</th>\n",
       "      <td>1171126</td>\n",
       "      <td>40000223091</td>\n",
       "      <td>NoSegment-C</td>\n",
       "      <td>N</td>\n",
       "    </tr>\n",
       "    <tr>\n",
       "      <th>3</th>\n",
       "      <td>1171126</td>\n",
       "      <td>40000223091</td>\n",
       "      <td>C4</td>\n",
       "      <td>N</td>\n",
       "    </tr>\n",
       "    <tr>\n",
       "      <th>4</th>\n",
       "      <td>1171126</td>\n",
       "      <td>40000755059</td>\n",
       "      <td>A</td>\n",
       "      <td>N</td>\n",
       "    </tr>\n",
       "  </tbody>\n",
       "</table>\n",
       "</div>"
      ],
      "text/plain": [
       "   1171126  40000980460            B  N\n",
       "0  1171126  40000980460  NoSegment-C  N\n",
       "1  1171126  40000980460           C4  N\n",
       "2  1171126  40000223091  NoSegment-C  N\n",
       "3  1171126  40000223091           C4  N\n",
       "4  1171126  40000755059            A  N"
      ]
     },
     "execution_count": 36,
     "metadata": {},
     "output_type": "execute_result"
    }
   ],
   "source": [
    "future.head()"
   ]
  },
  {
   "cell_type": "markdown",
   "metadata": {},
   "source": [
    "## Переименуем столбцы"
   ]
  },
  {
   "cell_type": "code",
   "execution_count": 37,
   "metadata": {},
   "outputs": [],
   "source": [
    "future.rename(index=str, columns={'1171126':'WEEK', '40000980460':'PLN', 'B':'SEG', 'N':'PROMO'}, inplace=True)"
   ]
  },
  {
   "cell_type": "markdown",
   "metadata": {},
   "source": [
    "## Приведем данные в необходимые нам типы "
   ]
  },
  {
   "cell_type": "code",
   "execution_count": 38,
   "metadata": {
    "scrolled": true
   },
   "outputs": [],
   "source": [
    "future['WEEK'] = future['WEEK'].apply(lambda x: str(x))"
   ]
  },
  {
   "cell_type": "code",
   "execution_count": 39,
   "metadata": {},
   "outputs": [],
   "source": [
    "future['PLN'] = future['PLN'].apply(lambda x: str(x))"
   ]
  },
  {
   "cell_type": "code",
   "execution_count": 40,
   "metadata": {},
   "outputs": [],
   "source": [
    "future['SEG'] = future['SEG'].apply(lambda x: str(x))"
   ]
  },
  {
   "cell_type": "code",
   "execution_count": 41,
   "metadata": {},
   "outputs": [],
   "source": [
    "future['PROMO'] = future['PROMO'].apply(lambda x: str(x))"
   ]
  },
  {
   "cell_type": "markdown",
   "metadata": {},
   "source": [
    "## Переведем WEEK в datetime "
   ]
  },
  {
   "cell_type": "code",
   "execution_count": 42,
   "metadata": {},
   "outputs": [],
   "source": [
    "future['WEEK'] = future['WEEK'].apply(lambda x: date_divide(x))"
   ]
  },
  {
   "cell_type": "code",
   "execution_count": 43,
   "metadata": {},
   "outputs": [],
   "source": [
    "future['WEEK'] = pd.to_datetime(future['WEEK'])"
   ]
  },
  {
   "cell_type": "markdown",
   "metadata": {},
   "source": [
    "## Заменим данные SEG на числовые "
   ]
  },
  {
   "cell_type": "code",
   "execution_count": 44,
   "metadata": {},
   "outputs": [],
   "source": [
    "future['SEG'] = future['SEG'].replace(seg_dic)"
   ]
  },
  {
   "cell_type": "markdown",
   "metadata": {},
   "source": [
    "## Сделаем замену и для PROMO "
   ]
  },
  {
   "cell_type": "code",
   "execution_count": 45,
   "metadata": {},
   "outputs": [],
   "source": [
    "future['PROMO'] = future['PROMO'].replace(promo_dic)"
   ]
  },
  {
   "cell_type": "code",
   "execution_count": 46,
   "metadata": {},
   "outputs": [
    {
     "data": {
      "text/html": [
       "<div>\n",
       "<style scoped>\n",
       "    .dataframe tbody tr th:only-of-type {\n",
       "        vertical-align: middle;\n",
       "    }\n",
       "\n",
       "    .dataframe tbody tr th {\n",
       "        vertical-align: top;\n",
       "    }\n",
       "\n",
       "    .dataframe thead th {\n",
       "        text-align: right;\n",
       "    }\n",
       "</style>\n",
       "<table border=\"1\" class=\"dataframe\">\n",
       "  <thead>\n",
       "    <tr style=\"text-align: right;\">\n",
       "      <th></th>\n",
       "      <th>WEEK</th>\n",
       "      <th>PLN</th>\n",
       "      <th>SEG</th>\n",
       "      <th>PROMO</th>\n",
       "    </tr>\n",
       "  </thead>\n",
       "  <tbody>\n",
       "    <tr>\n",
       "      <th>0</th>\n",
       "      <td>2017-11-26</td>\n",
       "      <td>40000980460</td>\n",
       "      <td>8</td>\n",
       "      <td>0</td>\n",
       "    </tr>\n",
       "    <tr>\n",
       "      <th>1</th>\n",
       "      <td>2017-11-26</td>\n",
       "      <td>40000980460</td>\n",
       "      <td>7</td>\n",
       "      <td>0</td>\n",
       "    </tr>\n",
       "    <tr>\n",
       "      <th>2</th>\n",
       "      <td>2017-11-26</td>\n",
       "      <td>40000223091</td>\n",
       "      <td>8</td>\n",
       "      <td>0</td>\n",
       "    </tr>\n",
       "    <tr>\n",
       "      <th>3</th>\n",
       "      <td>2017-11-26</td>\n",
       "      <td>40000223091</td>\n",
       "      <td>7</td>\n",
       "      <td>0</td>\n",
       "    </tr>\n",
       "    <tr>\n",
       "      <th>4</th>\n",
       "      <td>2017-11-26</td>\n",
       "      <td>40000755059</td>\n",
       "      <td>0</td>\n",
       "      <td>0</td>\n",
       "    </tr>\n",
       "  </tbody>\n",
       "</table>\n",
       "</div>"
      ],
      "text/plain": [
       "        WEEK          PLN  SEG  PROMO\n",
       "0 2017-11-26  40000980460    8      0\n",
       "1 2017-11-26  40000980460    7      0\n",
       "2 2017-11-26  40000223091    8      0\n",
       "3 2017-11-26  40000223091    7      0\n",
       "4 2017-11-26  40000755059    0      0"
      ]
     },
     "execution_count": 46,
     "metadata": {},
     "output_type": "execute_result"
    }
   ],
   "source": [
    "future.head()"
   ]
  },
  {
   "cell_type": "markdown",
   "metadata": {},
   "source": [
    "## Возьмем отдуда необходимый нам продукт "
   ]
  },
  {
   "cell_type": "code",
   "execution_count": 48,
   "metadata": {},
   "outputs": [],
   "source": [
    "fut_first_prod = future[future['PLN']=='40000529197']"
   ]
  },
  {
   "cell_type": "code",
   "execution_count": 49,
   "metadata": {},
   "outputs": [],
   "source": [
    "fut_first_prod.drop(['SEG', 'PLN'], axis=1, inplace=True)"
   ]
  },
  {
   "cell_type": "code",
   "execution_count": 50,
   "metadata": {},
   "outputs": [
    {
     "data": {
      "text/html": [
       "<div>\n",
       "<style scoped>\n",
       "    .dataframe tbody tr th:only-of-type {\n",
       "        vertical-align: middle;\n",
       "    }\n",
       "\n",
       "    .dataframe tbody tr th {\n",
       "        vertical-align: top;\n",
       "    }\n",
       "\n",
       "    .dataframe thead th {\n",
       "        text-align: right;\n",
       "    }\n",
       "</style>\n",
       "<table border=\"1\" class=\"dataframe\">\n",
       "  <thead>\n",
       "    <tr style=\"text-align: right;\">\n",
       "      <th></th>\n",
       "      <th>WEEK</th>\n",
       "      <th>PROMO</th>\n",
       "    </tr>\n",
       "  </thead>\n",
       "  <tbody>\n",
       "    <tr>\n",
       "      <th>91117</th>\n",
       "      <td>2017-11-26</td>\n",
       "      <td>0</td>\n",
       "    </tr>\n",
       "    <tr>\n",
       "      <th>91118</th>\n",
       "      <td>2017-11-26</td>\n",
       "      <td>0</td>\n",
       "    </tr>\n",
       "    <tr>\n",
       "      <th>91119</th>\n",
       "      <td>2017-11-26</td>\n",
       "      <td>0</td>\n",
       "    </tr>\n",
       "    <tr>\n",
       "      <th>91120</th>\n",
       "      <td>2017-11-26</td>\n",
       "      <td>0</td>\n",
       "    </tr>\n",
       "    <tr>\n",
       "      <th>144951</th>\n",
       "      <td>2017-12-03</td>\n",
       "      <td>1</td>\n",
       "    </tr>\n",
       "  </tbody>\n",
       "</table>\n",
       "</div>"
      ],
      "text/plain": [
       "             WEEK  PROMO\n",
       "91117  2017-11-26      0\n",
       "91118  2017-11-26      0\n",
       "91119  2017-11-26      0\n",
       "91120  2017-11-26      0\n",
       "144951 2017-12-03      1"
      ]
     },
     "execution_count": 50,
     "metadata": {},
     "output_type": "execute_result"
    }
   ],
   "source": [
    "fut_first_prod.head()"
   ]
  },
  {
   "cell_type": "markdown",
   "metadata": {},
   "source": [
    "### Как и в основном нашем наборе недели повторяются"
   ]
  },
  {
   "cell_type": "code",
   "execution_count": 51,
   "metadata": {},
   "outputs": [
    {
     "data": {
      "text/plain": [
       "0    173\n",
       "1    163\n",
       "Name: PROMO, dtype: int64"
      ]
     },
     "execution_count": 51,
     "metadata": {},
     "output_type": "execute_result"
    }
   ],
   "source": [
    "fut_first_prod['PROMO'].value_counts()"
   ]
  },
  {
   "cell_type": "code",
   "execution_count": 52,
   "metadata": {},
   "outputs": [],
   "source": [
    "weeks = np.unique(fut_first_prod['WEEK'].values)\n",
    "promos = []\n",
    "indexes = fut_first_prod.index"
   ]
  },
  {
   "cell_type": "code",
   "execution_count": 53,
   "metadata": {},
   "outputs": [],
   "source": [
    "for w in weeks:\n",
    "    promo = 0\n",
    "    for i in indexes:\n",
    "        if fut_first_prod.at[i, 'WEEK']==w:\n",
    "            if fut_first_prod.at[i, 'PROMO']==1:\n",
    "                promo = 1\n",
    "    promos.append(promo)"
   ]
  },
  {
   "cell_type": "code",
   "execution_count": 54,
   "metadata": {},
   "outputs": [],
   "source": [
    "fut_first_prod1 = pd.DataFrame({'WEEK': weeks, 'PROMO': promos})"
   ]
  },
  {
   "cell_type": "code",
   "execution_count": 55,
   "metadata": {},
   "outputs": [
    {
     "data": {
      "text/html": [
       "<div>\n",
       "<style scoped>\n",
       "    .dataframe tbody tr th:only-of-type {\n",
       "        vertical-align: middle;\n",
       "    }\n",
       "\n",
       "    .dataframe tbody tr th {\n",
       "        vertical-align: top;\n",
       "    }\n",
       "\n",
       "    .dataframe thead th {\n",
       "        text-align: right;\n",
       "    }\n",
       "</style>\n",
       "<table border=\"1\" class=\"dataframe\">\n",
       "  <thead>\n",
       "    <tr style=\"text-align: right;\">\n",
       "      <th></th>\n",
       "      <th>PROMO</th>\n",
       "      <th>WEEK</th>\n",
       "    </tr>\n",
       "  </thead>\n",
       "  <tbody>\n",
       "    <tr>\n",
       "      <th>0</th>\n",
       "      <td>0</td>\n",
       "      <td>2017-11-26</td>\n",
       "    </tr>\n",
       "    <tr>\n",
       "      <th>1</th>\n",
       "      <td>1</td>\n",
       "      <td>2017-12-03</td>\n",
       "    </tr>\n",
       "    <tr>\n",
       "      <th>2</th>\n",
       "      <td>1</td>\n",
       "      <td>2017-12-10</td>\n",
       "    </tr>\n",
       "    <tr>\n",
       "      <th>3</th>\n",
       "      <td>1</td>\n",
       "      <td>2017-12-17</td>\n",
       "    </tr>\n",
       "    <tr>\n",
       "      <th>4</th>\n",
       "      <td>1</td>\n",
       "      <td>2017-12-24</td>\n",
       "    </tr>\n",
       "  </tbody>\n",
       "</table>\n",
       "</div>"
      ],
      "text/plain": [
       "   PROMO       WEEK\n",
       "0      0 2017-11-26\n",
       "1      1 2017-12-03\n",
       "2      1 2017-12-10\n",
       "3      1 2017-12-17\n",
       "4      1 2017-12-24"
      ]
     },
     "execution_count": 55,
     "metadata": {},
     "output_type": "execute_result"
    }
   ],
   "source": [
    "fut_first_prod1.head()"
   ]
  },
  {
   "cell_type": "markdown",
   "metadata": {},
   "source": [
    "## Анализ временных рядов "
   ]
  },
  {
   "cell_type": "markdown",
   "metadata": {},
   "source": [
    "### Перед тем, как строить какие-либо графики и проводить анализ, необходимо нормализировать наши данные, чтобы удобнее на одном графике было увидеть, например, зависимость промо-акций и продаж "
   ]
  },
  {
   "cell_type": "code",
   "execution_count": 56,
   "metadata": {},
   "outputs": [],
   "source": [
    "df1 = first_item1.copy()"
   ]
  },
  {
   "cell_type": "markdown",
   "metadata": {},
   "source": [
    "### Устанавливаем индексацию по неделям "
   ]
  },
  {
   "cell_type": "code",
   "execution_count": 57,
   "metadata": {},
   "outputs": [],
   "source": [
    "df1.set_index('WEEK', inplace=True)"
   ]
  },
  {
   "cell_type": "markdown",
   "metadata": {},
   "source": [
    "### Проводим нормализацию "
   ]
  },
  {
   "cell_type": "code",
   "execution_count": 58,
   "metadata": {},
   "outputs": [],
   "source": [
    "scaler = MinMaxScaler()"
   ]
  },
  {
   "cell_type": "code",
   "execution_count": 59,
   "metadata": {},
   "outputs": [
    {
     "name": "stderr",
     "output_type": "stream",
     "text": [
      "/usr/local/lib/python3.5/dist-packages/sklearn/preprocessing/data.py:323: DataConversionWarning: Data with input dtype int64, float64 were all converted to float64 by MinMaxScaler.\n",
      "  return self.partial_fit(X, y)\n"
     ]
    },
    {
     "data": {
      "text/plain": [
       "MinMaxScaler(copy=True, feature_range=(0, 1))"
      ]
     },
     "execution_count": 59,
     "metadata": {},
     "output_type": "execute_result"
    }
   ],
   "source": [
    "scaler.fit(df1)"
   ]
  },
  {
   "cell_type": "code",
   "execution_count": 60,
   "metadata": {},
   "outputs": [],
   "source": [
    "df1_values = scaler.transform(df1)"
   ]
  },
  {
   "cell_type": "code",
   "execution_count": 62,
   "metadata": {},
   "outputs": [],
   "source": [
    "df1 = pd.DataFrame({'WEEK': first_item1['WEEK'].values, 'ACTUAL': df1_values[:,0], 'PROMO': df1_values[:,1]})"
   ]
  },
  {
   "cell_type": "code",
   "execution_count": 63,
   "metadata": {},
   "outputs": [],
   "source": [
    "df1.set_index('WEEK', inplace=True)"
   ]
  },
  {
   "cell_type": "markdown",
   "metadata": {},
   "source": [
    "### Построим график продаж  "
   ]
  },
  {
   "cell_type": "code",
   "execution_count": 65,
   "metadata": {},
   "outputs": [
    {
     "data": {
      "image/png": "[encoded data removed]",
      "text/plain": [
       "<Figure size 432x288 with 1 Axes>"
      ]
     },
     "metadata": {
      "needs_background": "light"
     },
     "output_type": "display_data"
    }
   ],
   "source": [
    "df1['ACTUAL'].plot();"
   ]
  },
  {
   "cell_type": "markdown",
   "metadata": {},
   "source": [
    "### Как видно из графика, есть большое число каких-то колебаний (возможно связанных с промо-акциями) "
   ]
  },
  {
   "cell_type": "code",
   "execution_count": 66,
   "metadata": {},
   "outputs": [
    {
     "data": {
      "image/png": "[encoded data removed]",
      "text/plain": [
       "<Figure size 432x288 with 1 Axes>"
      ]
     },
     "metadata": {
      "needs_background": "light"
     },
     "output_type": "display_data"
    }
   ],
   "source": [
    "df1['PROMO'].plot();"
   ]
  },
  {
   "cell_type": "markdown",
   "metadata": {},
   "source": [
    "### Чтобы сгладить краткосрочные колебания и выявить тенденции построим скользящую среднюю"
   ]
  },
  {
   "cell_type": "code",
   "execution_count": 74,
   "metadata": {},
   "outputs": [
    {
     "data": {
      "image/png": "[encoded data removed]",
      "text/plain": [
       "<Figure size 432x288 with 1 Axes>"
      ]
     },
     "metadata": {
      "needs_background": "light"
     },
     "output_type": "display_data"
    }
   ],
   "source": [
    "df1['ACTUAL'].rolling(52).mean().plot();"
   ]
  },
  {
   "cell_type": "markdown",
   "metadata": {},
   "source": [
    "### Как видно из графика, имеется тенденция к росту продаж данного продукта "
   ]
  },
  {
   "cell_type": "markdown",
   "metadata": {},
   "source": [
    "### Построим разности первого порядка для промо и продаж "
   ]
  },
  {
   "cell_type": "code",
   "execution_count": 77,
   "metadata": {},
   "outputs": [
    {
     "data": {
      "image/png": "[encoded data removed]",
      "text/plain": [
       "<Figure size 432x288 with 1 Axes>"
      ]
     },
     "metadata": {
      "needs_background": "light"
     },
     "output_type": "display_data"
    }
   ],
   "source": [
    "df1.diff().plot();"
   ]
  },
  {
   "cell_type": "markdown",
   "metadata": {},
   "source": [
    "### Как видно из графика иногда резкие скачки в продажах сопровождаются наличием промо-акций, однако это не всегда так. Иногда присутствуют скачки в продажах, но акций в это время не было, возможно это вызвано какими-либо другими событиями и у нас не достаточно информации, чтобы это узнать "
   ]
  },
  {
   "cell_type": "markdown",
   "metadata": {},
   "source": [
    "### Теперь построим график автокорреляции "
   ]
  },
  {
   "cell_type": "code",
   "execution_count": 79,
   "metadata": {},
   "outputs": [
    {
     "name": "stderr",
     "output_type": "stream",
     "text": [
      "/usr/local/lib/python3.5/dist-packages/ipykernel_launcher.py:1: FutureWarning: 'pandas.tools.plotting.autocorrelation_plot' is deprecated, import 'pandas.plotting.autocorrelation_plot' instead.\n",
      "  \"\"\"Entry point for launching an IPython kernel.\n"
     ]
    },
    {
     "data": {
      "image/png": "[encoded data removed]",
      "text/plain": [
       "<Figure size 432x288 with 1 Axes>"
      ]
     },
     "metadata": {
      "needs_background": "light"
     },
     "output_type": "display_data"
    }
   ],
   "source": [
    "autocorrelation_plot(df1);"
   ]
  },
  {
   "cell_type": "markdown",
   "metadata": {},
   "source": [
    "### Из графика видно, что существует положительная корреляция с первыми ~90 лагами, для параметра AR можно взять число 53 "
   ]
  },
  {
   "cell_type": "markdown",
   "metadata": {},
   "source": [
    "## Для составления прогноза воспользуемся популярной моделью ARIMA"
   ]
  },
  {
   "cell_type": "markdown",
   "metadata": {},
   "source": [
    "### Ограничимся только двумя признаками: WEEK и ACTUAL "
   ]
  },
  {
   "cell_type": "code",
   "execution_count": 80,
   "metadata": {},
   "outputs": [],
   "source": [
    "arima_df = df1[['ACTUAL']].copy()"
   ]
  },
  {
   "cell_type": "markdown",
   "metadata": {},
   "source": [
    "###  Сперва разделим наши данные на тестовую и обучающую выборки и сделаем предсказание на 2017 год"
   ]
  },
  {
   "cell_type": "code",
   "execution_count": 82,
   "metadata": {},
   "outputs": [],
   "source": [
    "arima_train = arima_df[:'2017-01-01']\n",
    "arima_test = arima_df['2017-01-01':]"
   ]
  },
  {
   "cell_type": "code",
   "execution_count": 93,
   "metadata": {},
   "outputs": [
    {
     "name": "stderr",
     "output_type": "stream",
     "text": [
      "/usr/local/lib/python3.5/dist-packages/ipykernel_launcher.py:1: FutureWarning: 'pandas.tools.plotting.autocorrelation_plot' is deprecated, import 'pandas.plotting.autocorrelation_plot' instead.\n",
      "  \"\"\"Entry point for launching an IPython kernel.\n"
     ]
    },
    {
     "data": {
      "image/png": "[encoded data removed]",
      "text/plain": [
       "<Figure size 432x288 with 1 Axes>"
      ]
     },
     "metadata": {
      "needs_background": "light"
     },
     "output_type": "display_data"
    }
   ],
   "source": [
    "autocorrelation_plot(arima_train);"
   ]
  },
  {
   "cell_type": "markdown",
   "metadata": {},
   "source": [
    "### Обучим нашу модель "
   ]
  },
  {
   "cell_type": "code",
   "execution_count": 94,
   "metadata": {},
   "outputs": [
    {
     "name": "stderr",
     "output_type": "stream",
     "text": [
      "/usr/local/lib/python3.5/dist-packages/statsmodels/tsa/base/tsa_model.py:225: ValueWarning: A date index has been provided, but it has no associated frequency information and so will be ignored when e.g. forecasting.\n",
      "  ' ignored when e.g. forecasting.', ValueWarning)\n",
      "/usr/local/lib/python3.5/dist-packages/statsmodels/tsa/base/tsa_model.py:225: ValueWarning: A date index has been provided, but it has no associated frequency information and so will be ignored when e.g. forecasting.\n",
      "  ' ignored when e.g. forecasting.', ValueWarning)\n",
      "/usr/local/lib/python3.5/dist-packages/scipy/signal/signaltools.py:1341: FutureWarning: Using a non-tuple sequence for multidimensional indexing is deprecated; use `arr[tuple(seq)]` instead of `arr[seq]`. In the future this will be interpreted as an array index, `arr[np.array(seq)]`, which will result either in an error or a different result.\n",
      "  out_full[ind] += zi\n",
      "/usr/local/lib/python3.5/dist-packages/scipy/signal/signaltools.py:1344: FutureWarning: Using a non-tuple sequence for multidimensional indexing is deprecated; use `arr[tuple(seq)]` instead of `arr[seq]`. In the future this will be interpreted as an array index, `arr[np.array(seq)]`, which will result either in an error or a different result.\n",
      "  out = out_full[ind]\n",
      "/usr/local/lib/python3.5/dist-packages/scipy/signal/signaltools.py:1350: FutureWarning: Using a non-tuple sequence for multidimensional indexing is deprecated; use `arr[tuple(seq)]` instead of `arr[seq]`. In the future this will be interpreted as an array index, `arr[np.array(seq)]`, which will result either in an error or a different result.\n",
      "  zf = out_full[ind]\n"
     ]
    }
   ],
   "source": [
    "arima_model = ARIMA(arima_train, order=(0,1,0))\n",
    "arima_model_fit = arima_model.fit(disp=0)"
   ]
  },
  {
   "cell_type": "markdown",
   "metadata": {},
   "source": [
    "### Параметры нашей модели "
   ]
  },
  {
   "cell_type": "code",
   "execution_count": 95,
   "metadata": {},
   "outputs": [
    {
     "data": {
      "text/html": [
       "<table class=\"simpletable\">\n",
       "<caption>ARIMA Model Results</caption>\n",
       "<tr>\n",
       "  <th>Dep. Variable:</th>     <td>D.ACTUAL</td>     <th>  No. Observations:  </th>   <td>98</td>   \n",
       "</tr>\n",
       "<tr>\n",
       "  <th>Model:</th>          <td>ARIMA(0, 1, 0)</td>  <th>  Log Likelihood     </th> <td>-10.671</td>\n",
       "</tr>\n",
       "<tr>\n",
       "  <th>Method:</th>               <td>css</td>       <th>  S.D. of innovations</th>  <td>0.270</td> \n",
       "</tr>\n",
       "<tr>\n",
       "  <th>Date:</th>          <td>Sat, 19 Jan 2019</td> <th>  AIC                </th> <td>25.342</td> \n",
       "</tr>\n",
       "<tr>\n",
       "  <th>Time:</th>              <td>20:40:21</td>     <th>  BIC                </th> <td>30.512</td> \n",
       "</tr>\n",
       "<tr>\n",
       "  <th>Sample:</th>                <td>1</td>        <th>  HQIC               </th> <td>27.433</td> \n",
       "</tr>\n",
       "<tr>\n",
       "  <th></th>                       <td> </td>        <th>                     </th>    <td> </td>   \n",
       "</tr>\n",
       "</table>\n",
       "<table class=\"simpletable\">\n",
       "<tr>\n",
       "    <td></td>       <th>coef</th>     <th>std err</th>      <th>z</th>      <th>P>|z|</th>  <th>[0.025</th>    <th>0.975]</th>  \n",
       "</tr>\n",
       "<tr>\n",
       "  <th>const</th> <td>   -0.0013</td> <td>    0.027</td> <td>   -0.049</td> <td> 0.961</td> <td>   -0.055</td> <td>    0.052</td>\n",
       "</tr>\n",
       "</table>"
      ],
      "text/plain": [
       "<class 'statsmodels.iolib.summary.Summary'>\n",
       "\"\"\"\n",
       "                             ARIMA Model Results                              \n",
       "==============================================================================\n",
       "Dep. Variable:               D.ACTUAL   No. Observations:                   98\n",
       "Model:                 ARIMA(0, 1, 0)   Log Likelihood                 -10.671\n",
       "Method:                           css   S.D. of innovations              0.270\n",
       "Date:                Sat, 19 Jan 2019   AIC                             25.342\n",
       "Time:                        20:40:21   BIC                             30.512\n",
       "Sample:                             1   HQIC                            27.433\n",
       "                                                                              \n",
       "==============================================================================\n",
       "                 coef    std err          z      P>|z|      [0.025      0.975]\n",
       "------------------------------------------------------------------------------\n",
       "const         -0.0013      0.027     -0.049      0.961      -0.055       0.052\n",
       "==============================================================================\n",
       "\"\"\""
      ]
     },
     "execution_count": 95,
     "metadata": {},
     "output_type": "execute_result"
    }
   ],
   "source": [
    "arima_model_fit.summary()"
   ]
  },
  {
   "cell_type": "markdown",
   "metadata": {},
   "source": [
    "### Выведем график остаточных ошибок "
   ]
  },
  {
   "cell_type": "code",
   "execution_count": 96,
   "metadata": {},
   "outputs": [
    {
     "data": {
      "image/png": "[encoded data removed]",
      "text/plain": [
       "<Figure size 432x288 with 1 Axes>"
      ]
     },
     "metadata": {
      "needs_background": "light"
     },
     "output_type": "display_data"
    }
   ],
   "source": [
    "residuals = pd.DataFrame(arima_model_fit.resid)\n",
    "residuals.plot();"
   ]
  },
  {
   "cell_type": "markdown",
   "metadata": {},
   "source": [
    "### График плотности значений остаточных ошибок, предполагая, что ошибки являются гауссовыми"
   ]
  },
  {
   "cell_type": "code",
   "execution_count": 97,
   "metadata": {},
   "outputs": [
    {
     "data": {
      "image/png": "[encoded data removed]",
      "text/plain": [
       "<Figure size 432x288 with 1 Axes>"
      ]
     },
     "metadata": {
      "needs_background": "light"
     },
     "output_type": "display_data"
    }
   ],
   "source": [
    "residuals.plot(kind='kde');"
   ]
  },
  {
   "cell_type": "markdown",
   "metadata": {},
   "source": [
    "### Теперь сделаем прогноз "
   ]
  },
  {
   "cell_type": "code",
   "execution_count": 132,
   "metadata": {},
   "outputs": [
    {
     "name": "stderr",
     "output_type": "stream",
     "text": [
      "/usr/local/lib/python3.5/dist-packages/scipy/signal/signaltools.py:1341: FutureWarning: Using a non-tuple sequence for multidimensional indexing is deprecated; use `arr[tuple(seq)]` instead of `arr[seq]`. In the future this will be interpreted as an array index, `arr[np.array(seq)]`, which will result either in an error or a different result.\n",
      "  out_full[ind] += zi\n",
      "/usr/local/lib/python3.5/dist-packages/scipy/signal/signaltools.py:1344: FutureWarning: Using a non-tuple sequence for multidimensional indexing is deprecated; use `arr[tuple(seq)]` instead of `arr[seq]`. In the future this will be interpreted as an array index, `arr[np.array(seq)]`, which will result either in an error or a different result.\n",
      "  out = out_full[ind]\n",
      "/usr/local/lib/python3.5/dist-packages/scipy/signal/signaltools.py:1350: FutureWarning: Using a non-tuple sequence for multidimensional indexing is deprecated; use `arr[tuple(seq)]` instead of `arr[seq]`. In the future this will be interpreted as an array index, `arr[np.array(seq)]`, which will result either in an error or a different result.\n",
      "  zf = out_full[ind]\n"
     ]
    },
    {
     "name": "stdout",
     "output_type": "stream",
     "text": [
      "предсказанное=0.032854, ожидаемое=0.034194\n",
      "предсказанное=0.032868, ожидаемое=0.026329\n",
      "предсказанное=0.024938, ожидаемое=0.036758\n",
      "предсказанное=0.035484, ожидаемое=0.686613\n",
      "предсказанное=0.691722, ожидаемое=0.106514\n",
      "предсказанное=0.105941, ожидаемое=0.115575\n",
      "предсказанное=0.115095, ожидаемое=0.122927\n",
      "предсказанное=0.122522, ожидаемое=0.102582\n",
      "предсказанное=0.101988, ожидаемое=0.249786\n",
      "предсказанное=0.250574, ожидаемое=0.232860\n",
      "предсказанное=0.233484, ожидаемое=0.219012\n",
      "предсказанное=0.219503, ожидаемое=0.320055\n",
      "предсказанное=0.321460, ожидаемое=0.173705\n",
      "предсказанное=0.173779, ожидаемое=0.195589\n",
      "предсказанное=0.195858, ожидаемое=0.171653\n",
      "предсказанное=0.171708, ожидаемое=0.181057\n",
      "предсказанное=0.181193, ожидаемое=0.181228\n",
      "предсказанное=0.181364, ожидаемое=0.285348\n",
      "предсказанное=0.286381, ожидаемое=0.210976\n",
      "предсказанное=0.211365, ожидаемое=0.211489\n",
      "предсказанное=0.211879, ожидаемое=0.199863\n",
      "предсказанное=0.200152, ожидаемое=0.231835\n",
      "предсказанное=0.232387, ожидаемое=0.076081\n",
      "предсказанное=0.075342, ожидаемое=0.066165\n",
      "предсказанное=0.065351, ожидаемое=0.096940\n",
      "предсказанное=0.096382, ожидаемое=0.198495\n",
      "предсказанное=0.198762, ожидаемое=0.221405\n",
      "предсказанное=0.221853, ожидаемое=0.686442\n",
      "предсказанное=0.690577, ожидаемое=0.219867\n",
      "предсказанное=0.220295, ожидаемое=0.220721\n",
      "предсказанное=0.221153, ожидаемое=0.751410\n",
      "предсказанное=0.755952, ожидаемое=0.091469\n",
      "предсказанное=0.090899, ожидаемое=0.242264\n",
      "предсказанное=0.242850, ожидаемое=0.090101\n",
      "предсказанное=0.089530, ожидаемое=0.163960\n",
      "предсказанное=0.163948, ожидаемое=0.177808\n",
      "предсказанное=0.177900, ожидаемое=0.162421\n",
      "предсказанное=0.162398, ожидаемое=0.171482\n",
      "предсказанное=0.171526, ожидаемое=0.178492\n",
      "предсказанное=0.178587, ожидаемое=0.179689\n",
      "предсказанное=0.179792, ожидаемое=0.166182\n",
      "предсказанное=0.166187, ожидаемое=0.153531\n",
      "предсказанное=0.153445, ожидаемое=0.139682\n",
      "предсказанное=0.139499, ожидаемое=0.151479\n",
      "предсказанное=0.151380, ожидаемое=0.094033\n",
      "предсказанное=0.093533, ожидаемое=0.073859\n",
      "предсказанное=0.073222, ожидаемое=0.052830\n"
     ]
    }
   ],
   "source": [
    "train = arima_train.values\n",
    "test = arima_test.values\n",
    "new_train = [x for x in train]\n",
    "prediction = []\n",
    "for i in range(len(test)):\n",
    "    arima_model = ARIMA(new_train, order=(0,1,0))\n",
    "    arima_model_fit = arima_model.fit(disp=0)\n",
    "    pred = arima_model_fit.forecast()\n",
    "    prediction.append(pred[0])\n",
    "    new_train.append(test[i])\n",
    "    print('предсказанное=%f, ожидаемое=%f' % (pred[0], test[i]))"
   ]
  },
  {
   "cell_type": "markdown",
   "metadata": {},
   "source": [
    "### Среднеквадратическая ошибка "
   ]
  },
  {
   "cell_type": "code",
   "execution_count": 133,
   "metadata": {},
   "outputs": [
    {
     "data": {
      "text/plain": [
       "0.044552621675615176"
      ]
     },
     "execution_count": 133,
     "metadata": {},
     "output_type": "execute_result"
    }
   ],
   "source": [
    "mean_squared_error(test, prediction)"
   ]
  },
  {
   "cell_type": "markdown",
   "metadata": {},
   "source": [
    "### Графики ожидаемого и предсказанного "
   ]
  },
  {
   "cell_type": "code",
   "execution_count": 134,
   "metadata": {},
   "outputs": [
    {
     "data": {
      "image/png": "[encoded data removed]",
      "text/plain": [
       "<Figure size 432x288 with 1 Axes>"
      ]
     },
     "metadata": {
      "needs_background": "light"
     },
     "output_type": "display_data"
    }
   ],
   "source": [
    "plt.plot(test);\n",
    "plt.plot(prediction, color='red');"
   ]
  },
  {
   "cell_type": "markdown",
   "metadata": {},
   "source": [
    "### Предсказание оказалось достаточно хорошим "
   ]
  },
  {
   "cell_type": "markdown",
   "metadata": {},
   "source": [
    "### Проделаем теперь тоже самое, но для прогноза на новый год (на 52 недели)"
   ]
  },
  {
   "cell_type": "code",
   "execution_count": 135,
   "metadata": {},
   "outputs": [
    {
     "name": "stderr",
     "output_type": "stream",
     "text": [
      "/usr/local/lib/python3.5/dist-packages/scipy/signal/signaltools.py:1341: FutureWarning: Using a non-tuple sequence for multidimensional indexing is deprecated; use `arr[tuple(seq)]` instead of `arr[seq]`. In the future this will be interpreted as an array index, `arr[np.array(seq)]`, which will result either in an error or a different result.\n",
      "  out_full[ind] += zi\n",
      "/usr/local/lib/python3.5/dist-packages/scipy/signal/signaltools.py:1344: FutureWarning: Using a non-tuple sequence for multidimensional indexing is deprecated; use `arr[tuple(seq)]` instead of `arr[seq]`. In the future this will be interpreted as an array index, `arr[np.array(seq)]`, which will result either in an error or a different result.\n",
      "  out = out_full[ind]\n",
      "/usr/local/lib/python3.5/dist-packages/scipy/signal/signaltools.py:1350: FutureWarning: Using a non-tuple sequence for multidimensional indexing is deprecated; use `arr[tuple(seq)]` instead of `arr[seq]`. In the future this will be interpreted as an array index, `arr[np.array(seq)]`, which will result either in an error or a different result.\n",
      "  zf = out_full[ind]\n",
      "/usr/local/lib/python3.5/dist-packages/statsmodels/base/model.py:508: ConvergenceWarning: Maximum Likelihood optimization failed to converge. Check mle_retvals\n",
      "  \"Check mle_retvals\", ConvergenceWarning)\n",
      "/usr/local/lib/python3.5/dist-packages/statsmodels/base/model.py:508: ConvergenceWarning: Maximum Likelihood optimization failed to converge. Check mle_retvals\n",
      "  \"Check mle_retvals\", ConvergenceWarning)\n",
      "/usr/local/lib/python3.5/dist-packages/statsmodels/base/model.py:508: ConvergenceWarning: Maximum Likelihood optimization failed to converge. Check mle_retvals\n",
      "  \"Check mle_retvals\", ConvergenceWarning)\n"
     ]
    }
   ],
   "source": [
    "new_arima = [x for x in arima_df.values]\n",
    "prediction = []\n",
    "for i in range(52):\n",
    "    arima_model = ARIMA(new_arima, order=(0,1,0))\n",
    "    arima_model_fit = arima_model.fit(disp=0)\n",
    "    pred = arima_model_fit.forecast()\n",
    "    prediction.append(pred[0])\n",
    "    new_arima.append(pred[0])"
   ]
  },
  {
   "cell_type": "markdown",
   "metadata": {},
   "source": [
    "### Выведем предсказания "
   ]
  },
  {
   "cell_type": "code",
   "execution_count": 136,
   "metadata": {},
   "outputs": [
    {
     "data": {
      "text/plain": [
       "[array([0.05204712]),\n",
       " array([0.0512647]),\n",
       " array([0.05048227]),\n",
       " array([0.04969985]),\n",
       " array([0.04891743]),\n",
       " array([0.048135]),\n",
       " array([0.04735258]),\n",
       " array([0.04657015]),\n",
       " array([0.04578773]),\n",
       " array([0.04500531]),\n",
       " array([0.04422288]),\n",
       " array([0.04344046]),\n",
       " array([0.04265803]),\n",
       " array([0.04187561]),\n",
       " array([0.04109319]),\n",
       " array([0.04031076]),\n",
       " array([0.03952834]),\n",
       " array([0.03874592]),\n",
       " array([0.03796349]),\n",
       " array([0.03718107]),\n",
       " array([0.03639864]),\n",
       " array([0.03561622]),\n",
       " array([0.03483379]),\n",
       " array([0.03405137]),\n",
       " array([0.03326895]),\n",
       " array([0.03248652]),\n",
       " array([0.0317041]),\n",
       " array([0.03092167]),\n",
       " array([0.03013925]),\n",
       " array([0.02935683]),\n",
       " array([0.0285744]),\n",
       " array([0.02779198]),\n",
       " array([0.02700955]),\n",
       " array([0.02622713]),\n",
       " array([0.0254447]),\n",
       " array([0.02466228]),\n",
       " array([0.02387986]),\n",
       " array([0.02309743]),\n",
       " array([0.02231501]),\n",
       " array([0.02153258]),\n",
       " array([0.02075016]),\n",
       " array([0.01996773]),\n",
       " array([0.01918531]),\n",
       " array([0.01840289]),\n",
       " array([0.01762046]),\n",
       " array([0.01683804]),\n",
       " array([0.01605561]),\n",
       " array([0.01527319]),\n",
       " array([0.01449077]),\n",
       " array([0.01370834]),\n",
       " array([0.01292592]),\n",
       " array([0.0121435])]"
      ]
     },
     "execution_count": 136,
     "metadata": {},
     "output_type": "execute_result"
    }
   ],
   "source": [
    "prediction"
   ]
  },
  {
   "cell_type": "markdown",
   "metadata": {},
   "source": [
    "### График предсказаний "
   ]
  },
  {
   "cell_type": "code",
   "execution_count": 137,
   "metadata": {},
   "outputs": [
    {
     "data": {
      "image/png": "[encoded data removed]",
      "text/plain": [
       "<Figure size 432x288 with 1 Axes>"
      ]
     },
     "metadata": {
      "needs_background": "light"
     },
     "output_type": "display_data"
    }
   ],
   "source": [
    "plt.plot(prediction);"
   ]
  },
  {
   "cell_type": "markdown",
   "metadata": {},
   "source": [
    "## Прогноз при помощи Simple Exponential Smoothing"
   ]
  },
  {
   "cell_type": "markdown",
   "metadata": {},
   "source": [
    "###  Метод простого экспоненциального сглаживания (SES) моделирует следующий временной шаг как экспоненциально взвешенную линейную функцию наблюдений на предыдущих временных шагах."
   ]
  },
  {
   "cell_type": "code",
   "execution_count": 189,
   "metadata": {},
   "outputs": [],
   "source": [
    "ses_train = df1[['ACTUAL']].copy()[:'2017-01-01']\n",
    "ses_test = df1[['ACTUAL']].copy()['2017-01-01':]"
   ]
  },
  {
   "cell_type": "code",
   "execution_count": 191,
   "metadata": {},
   "outputs": [
    {
     "name": "stdout",
     "output_type": "stream",
     "text": [
      "предсказанное=0.146980, ожидаемое=0.034194\n",
      "предсказанное=0.145852, ожидаемое=0.026329\n",
      "предсказанное=0.144669, ожидаемое=0.036758\n",
      "предсказанное=0.143611, ожидаемое=0.686613\n",
      "предсказанное=0.148883, ожидаемое=0.106514\n",
      "предсказанное=0.148475, ожидаемое=0.115575\n",
      "предсказанное=0.148162, ожидаемое=0.122927\n",
      "предсказанное=0.147924, ожидаемое=0.102582\n",
      "предсказанное=0.147500, ожидаемое=0.249786\n",
      "предсказанное=0.148447, ожидаемое=0.232860\n",
      "предсказанное=0.149222, ожидаемое=0.219012\n",
      "предсказанное=0.149856, ожидаемое=0.320055\n",
      "предсказанное=0.151390, ожидаемое=0.173705\n",
      "предсказанное=0.151589, ожидаемое=0.195589\n",
      "предсказанное=0.151978, ожидаемое=0.171653\n",
      "предсказанное=0.152151, ожидаемое=0.181057\n",
      "предсказанное=0.152402, ожидаемое=0.181228\n",
      "предсказанное=0.152651, ожидаемое=0.285348\n",
      "предсказанное=0.153785, ожидаемое=0.210976\n",
      "предсказанное=0.154269, ожидаемое=0.211489\n",
      "предсказанное=0.154750, ожидаемое=0.199863\n",
      "предсказанное=0.155126, ожидаемое=0.231835\n",
      "предсказанное=0.155760, ожидаемое=0.076081\n",
      "предсказанное=0.155107, ожидаемое=0.066165\n",
      "предсказанное=0.154384, ожидаемое=0.096940\n",
      "предсказанное=0.153921, ожидаемое=0.198495\n",
      "предсказанное=0.154277, ожидаемое=0.221405\n",
      "предсказанное=0.154810, ожидаемое=0.686442\n",
      "предсказанное=0.158996, ожидаемое=0.219867\n",
      "предсказанное=0.159472, ожидаемое=0.220721\n",
      "предсказанное=0.159947, ожидаемое=0.751410\n",
      "предсказанное=0.164496, ожидаемое=0.091469\n",
      "предсказанное=0.163939, ожидаемое=0.242264\n",
      "предсказанное=0.164532, ожидаемое=0.090101\n",
      "предсказанное=0.163973, ожидаемое=0.163960\n",
      "предсказанное=0.163972, ожидаемое=0.177808\n",
      "предсказанное=0.164075, ожидаемое=0.162421\n",
      "предсказанное=0.164063, ожидаемое=0.171482\n",
      "предсказанное=0.164117, ожидаемое=0.178492\n",
      "предсказанное=0.164221, ожидаемое=0.179689\n",
      "предсказанное=0.164332, ожидаемое=0.166182\n",
      "предсказанное=0.164346, ожидаемое=0.153531\n",
      "предсказанное=0.164269, ожидаемое=0.139682\n",
      "предсказанное=0.164096, ожидаемое=0.151479\n",
      "предсказанное=0.164007, ожидаемое=0.094033\n",
      "предсказанное=0.163522, ожидаемое=0.073859\n",
      "предсказанное=0.162903, ожидаемое=0.052830\n"
     ]
    }
   ],
   "source": [
    "train = ses_train.values\n",
    "test = ses_test.values\n",
    "new_train = [x for x in train]\n",
    "prediction = []\n",
    "for i in range(len(test)):\n",
    "    ses_model = SimpleExpSmoothing(new_train)\n",
    "    ses_model_fit = ses_model.fit()\n",
    "    pred = ses_model_fit.forecast(12)\n",
    "    prediction.append(pred[0])\n",
    "    new_train.append(test[i])\n",
    "    print('предсказанное=%f, ожидаемое=%f' % (pred[0], test[i]))"
   ]
  },
  {
   "cell_type": "markdown",
   "metadata": {},
   "source": [
    "### Среднеквадратическая ошибка "
   ]
  },
  {
   "cell_type": "code",
   "execution_count": 167,
   "metadata": {},
   "outputs": [
    {
     "data": {
      "text/plain": [
       "0.02414190988070223"
      ]
     },
     "execution_count": 167,
     "metadata": {},
     "output_type": "execute_result"
    }
   ],
   "source": [
    "mean_squared_error(test, prediction)"
   ]
  },
  {
   "cell_type": "markdown",
   "metadata": {},
   "source": [
    "### Графики ожидаемого и предсказанного "
   ]
  },
  {
   "cell_type": "code",
   "execution_count": 192,
   "metadata": {},
   "outputs": [
    {
     "data": {
      "image/png": "[encoded data removed]",
      "text/plain": [
       "<Figure size 432x288 with 1 Axes>"
      ]
     },
     "metadata": {
      "needs_background": "light"
     },
     "output_type": "display_data"
    }
   ],
   "source": [
    "plt.plot(test);\n",
    "plt.plot(prediction, color='red');"
   ]
  },
  {
   "cell_type": "markdown",
   "metadata": {},
   "source": [
    "### Сделаем теперь предсказание на новый год "
   ]
  },
  {
   "cell_type": "code",
   "execution_count": 156,
   "metadata": {},
   "outputs": [],
   "source": [
    "new_ses = [x for x in df1[['ACTUAL']].copy().values]\n",
    "prediction = []\n",
    "for i in range(52):\n",
    "    ses_model = SimpleExpSmoothing(new_ses)\n",
    "    ses_model_fit = ses_model.fit()\n",
    "    pred = ses_model_fit.predict(len(new_ses), len(new_ses))\n",
    "    prediction.append(pred)\n",
    "    new_arima.append(pred)"
   ]
  },
  {
   "cell_type": "markdown",
   "metadata": {},
   "source": [
    "### Выведем предсказания "
   ]
  },
  {
   "cell_type": "code",
   "execution_count": 157,
   "metadata": {},
   "outputs": [
    {
     "data": {
      "text/plain": [
       "[array([0.1630317]),\n",
       " array([0.1630317]),\n",
       " array([0.1630317]),\n",
       " array([0.1630317]),\n",
       " array([0.1630317]),\n",
       " array([0.1630317]),\n",
       " array([0.1630317]),\n",
       " array([0.1630317]),\n",
       " array([0.1630317]),\n",
       " array([0.1630317]),\n",
       " array([0.1630317]),\n",
       " array([0.1630317]),\n",
       " array([0.1630317]),\n",
       " array([0.1630317]),\n",
       " array([0.1630317]),\n",
       " array([0.1630317]),\n",
       " array([0.1630317]),\n",
       " array([0.1630317]),\n",
       " array([0.1630317]),\n",
       " array([0.1630317]),\n",
       " array([0.1630317]),\n",
       " array([0.1630317]),\n",
       " array([0.1630317]),\n",
       " array([0.1630317]),\n",
       " array([0.1630317]),\n",
       " array([0.1630317]),\n",
       " array([0.1630317]),\n",
       " array([0.1630317]),\n",
       " array([0.1630317]),\n",
       " array([0.1630317]),\n",
       " array([0.1630317]),\n",
       " array([0.1630317]),\n",
       " array([0.1630317]),\n",
       " array([0.1630317]),\n",
       " array([0.1630317]),\n",
       " array([0.1630317]),\n",
       " array([0.1630317]),\n",
       " array([0.1630317]),\n",
       " array([0.1630317]),\n",
       " array([0.1630317]),\n",
       " array([0.1630317]),\n",
       " array([0.1630317]),\n",
       " array([0.1630317]),\n",
       " array([0.1630317]),\n",
       " array([0.1630317]),\n",
       " array([0.1630317]),\n",
       " array([0.1630317]),\n",
       " array([0.1630317]),\n",
       " array([0.1630317]),\n",
       " array([0.1630317]),\n",
       " array([0.1630317]),\n",
       " array([0.1630317])]"
      ]
     },
     "execution_count": 157,
     "metadata": {},
     "output_type": "execute_result"
    }
   ],
   "source": [
    "prediction"
   ]
  },
  {
   "cell_type": "markdown",
   "metadata": {},
   "source": [
    "### График предсказаний "
   ]
  },
  {
   "cell_type": "code",
   "execution_count": 158,
   "metadata": {},
   "outputs": [
    {
     "data": {
      "image/png": "[encoded data removed]",
      "text/plain": [
       "<Figure size 432x288 with 1 Axes>"
      ]
     },
     "metadata": {
      "needs_background": "light"
     },
     "output_type": "display_data"
    }
   ],
   "source": [
    "plt.plot(prediction);"
   ]
  },
  {
   "cell_type": "markdown",
   "metadata": {},
   "source": [
    "### Видно, что модель делает прогноз плохо "
   ]
  },
  {
   "cell_type": "markdown",
   "metadata": {},
   "source": [
    "## Посмотрим теперь работу линейной регрессии на этих данных "
   ]
  },
  {
   "cell_type": "markdown",
   "metadata": {},
   "source": [
    "### В очередной раз проверим работу на тестовой выборке "
   ]
  },
  {
   "cell_type": "code",
   "execution_count": 171,
   "metadata": {},
   "outputs": [],
   "source": [
    "X = df1[['PROMO']].copy()"
   ]
  },
  {
   "cell_type": "code",
   "execution_count": 172,
   "metadata": {},
   "outputs": [],
   "source": [
    "y = df1[['ACTUAL']].copy()"
   ]
  },
  {
   "cell_type": "code",
   "execution_count": 173,
   "metadata": {},
   "outputs": [],
   "source": [
    "X_train, X_test, y_train, y_test = train_test_split(X, y, test_size=0.33, random_state=42)"
   ]
  },
  {
   "cell_type": "markdown",
   "metadata": {},
   "source": [
    "### Обучаем модель "
   ]
  },
  {
   "cell_type": "code",
   "execution_count": 175,
   "metadata": {},
   "outputs": [],
   "source": [
    "reg = LinearRegression().fit(X_train, y_train)"
   ]
  },
  {
   "cell_type": "markdown",
   "metadata": {},
   "source": [
    "### Строим прогноз "
   ]
  },
  {
   "cell_type": "code",
   "execution_count": 176,
   "metadata": {},
   "outputs": [],
   "source": [
    "prediction = reg.predict(X_test)"
   ]
  },
  {
   "cell_type": "markdown",
   "metadata": {},
   "source": [
    "### Среднеквадратическая ошибка "
   ]
  },
  {
   "cell_type": "code",
   "execution_count": 182,
   "metadata": {},
   "outputs": [
    {
     "data": {
      "text/plain": [
       "0.04534889320792337"
      ]
     },
     "execution_count": 182,
     "metadata": {},
     "output_type": "execute_result"
    }
   ],
   "source": [
    "mean_squared_error(np.asarray(y_test), prediction)"
   ]
  },
  {
   "cell_type": "markdown",
   "metadata": {},
   "source": [
    "### Выводим графики ожидаемого и предсказанного "
   ]
  },
  {
   "cell_type": "code",
   "execution_count": 181,
   "metadata": {},
   "outputs": [
    {
     "data": {
      "image/png": "[encoded data removed]",
      "text/plain": [
       "<Figure size 432x288 with 1 Axes>"
      ]
     },
     "metadata": {
      "needs_background": "light"
     },
     "output_type": "display_data"
    }
   ],
   "source": [
    "plt.plot(np.asarray(y_test));\n",
    "plt.plot(prediction, color='red');"
   ]
  },
  {
   "cell_type": "markdown",
   "metadata": {},
   "source": [
    "### Видно из графика, что модель достаточно хорошо предсказывает увеличение продаж во время акций, однако не может точно предсказать на сколько они вырастут"
   ]
  },
  {
   "cell_type": "markdown",
   "metadata": {},
   "source": [
    "### Сделаем прогноз на следующий год "
   ]
  },
  {
   "cell_type": "code",
   "execution_count": 185,
   "metadata": {},
   "outputs": [],
   "source": [
    "fut_first_prod1.set_index('WEEK', inplace=True)"
   ]
  },
  {
   "cell_type": "code",
   "execution_count": 183,
   "metadata": {},
   "outputs": [],
   "source": [
    "reg = LinearRegression().fit(X, y)"
   ]
  },
  {
   "cell_type": "code",
   "execution_count": 186,
   "metadata": {},
   "outputs": [],
   "source": [
    "prediction = reg.predict(fut_first_prod1)"
   ]
  },
  {
   "cell_type": "code",
   "execution_count": 187,
   "metadata": {},
   "outputs": [
    {
     "data": {
      "text/plain": [
       "array([[0.09456003],\n",
       "       [0.19798078],\n",
       "       [0.19798078],\n",
       "       [0.19798078],\n",
       "       [0.19798078],\n",
       "       [0.19798078],\n",
       "       [0.19798078],\n",
       "       [0.19798078],\n",
       "       [0.19798078],\n",
       "       [0.19798078],\n",
       "       [0.19798078],\n",
       "       [0.19798078],\n",
       "       [0.19798078],\n",
       "       [0.19798078],\n",
       "       [0.19798078],\n",
       "       [0.19798078],\n",
       "       [0.19798078],\n",
       "       [0.19798078],\n",
       "       [0.19798078],\n",
       "       [0.19798078],\n",
       "       [0.19798078],\n",
       "       [0.19798078],\n",
       "       [0.19798078],\n",
       "       [0.19798078],\n",
       "       [0.19798078],\n",
       "       [0.19798078],\n",
       "       [0.19798078],\n",
       "       [0.19798078],\n",
       "       [0.19798078],\n",
       "       [0.19798078],\n",
       "       [0.19798078],\n",
       "       [0.19798078],\n",
       "       [0.19798078],\n",
       "       [0.19798078],\n",
       "       [0.19798078],\n",
       "       [0.19798078],\n",
       "       [0.09456003],\n",
       "       [0.09456003],\n",
       "       [0.09456003],\n",
       "       [0.09456003],\n",
       "       [0.09456003],\n",
       "       [0.19798078],\n",
       "       [0.09456003],\n",
       "       [0.09456003],\n",
       "       [0.19798078],\n",
       "       [0.19798078],\n",
       "       [0.19798078],\n",
       "       [0.19798078],\n",
       "       [0.19798078],\n",
       "       [0.19798078],\n",
       "       [0.19798078],\n",
       "       [0.19798078],\n",
       "       [0.19798078]])"
      ]
     },
     "execution_count": 187,
     "metadata": {},
     "output_type": "execute_result"
    }
   ],
   "source": [
    "prediction"
   ]
  },
  {
   "cell_type": "code",
   "execution_count": 188,
   "metadata": {},
   "outputs": [
    {
     "data": {
      "image/png": "[encoded data removed]",
      "text/plain": [
       "<Figure size 432x288 with 1 Axes>"
      ]
     },
     "metadata": {
      "needs_background": "light"
     },
     "output_type": "display_data"
    }
   ],
   "source": [
    "plt.plot(prediction, color='red');"
   ]
  }
 ],
 "metadata": {
  "kernelspec": {
   "display_name": "Python 3",
   "language": "python",
   "name": "python3"
  },
  "language_info": {
   "codemirror_mode": {
    "name": "ipython",
    "version": 3
   },
   "file_extension": ".py",
   "mimetype": "text/x-python",
   "name": "python",
   "nbconvert_exporter": "python",
   "pygments_lexer": "ipython3",
   "version": "3.5.2"
  }
 },
 "nbformat": 4,
 "nbformat_minor": 2
}
