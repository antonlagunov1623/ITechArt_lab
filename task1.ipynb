{
 "cells": [
  {
   "cell_type": "markdown",
   "metadata": {},
   "source": [
    "# Подключаем необходимые библиотеки"
   ]
  },
  {
   "cell_type": "code",
   "execution_count": 147,
   "metadata": {},
   "outputs": [],
   "source": [
    "import pandas as pd\n",
    "import numpy as np\n",
    "import matplotlib.pyplot as plt\n",
    "import scipy as sp\n",
    "import seaborn as sns\n",
    "import statsmodels.api as sm\n",
    "from sklearn.model_selection import train_test_split\n",
    "from pandas import datetime\n",
    "from sklearn.metrics import r2_score\n",
    "from sklearn.linear_model import LinearRegression\n",
    "from statsmodels.tsa.vector_ar.var_model import VAR\n",
    "from statsmodels.tsa.holtwinters import SimpleExpSmoothing\n",
    "from statsmodels.tsa.api import ExponentialSmoothing\n",
    "from sklearn.preprocessing import MinMaxScaler\n",
    "from pandas.tools.plotting import autocorrelation_plot\n",
    "from statsmodels.tsa.arima_model import ARIMA\n",
    "from sklearn.metrics import mean_squared_error\n",
    "import warnings"
   ]
  },
  {
   "cell_type": "code",
   "execution_count": 148,
   "metadata": {},
   "outputs": [],
   "source": [
    "warnings.simplefilter('ignore')"
   ]
  },
  {
   "cell_type": "markdown",
   "metadata": {},
   "source": [
    "# Считываем наши данные"
   ]
  },
  {
   "cell_type": "code",
   "execution_count": 149,
   "metadata": {
    "scrolled": true
   },
   "outputs": [],
   "source": [
    "data = pd.read_csv('products.csv', sep='|', error_bad_lines=False)"
   ]
  },
  {
   "cell_type": "markdown",
   "metadata": {},
   "source": [
    "# Рассмотрим отдельный поднабор категории dry_eye"
   ]
  },
  {
   "cell_type": "code",
   "execution_count": 150,
   "metadata": {},
   "outputs": [],
   "source": [
    "dry_eye = data[data['PRODUCT_CATEGORY_LABEL']=='DRY EYE']"
   ]
  },
  {
   "cell_type": "markdown",
   "metadata": {},
   "source": [
    "# Рассмотрим его подробнее"
   ]
  },
  {
   "cell_type": "code",
   "execution_count": 151,
   "metadata": {},
   "outputs": [
    {
     "name": "stdout",
     "output_type": "stream",
     "text": [
      "<class 'pandas.core.frame.DataFrame'>\n",
      "Int64Index: 48186 entries, 1673 to 19461110\n",
      "Data columns (total 11 columns):\n",
      "WEEK                      48186 non-null object\n",
      "PLN                       48186 non-null object\n",
      "PLN_LABEL                 48186 non-null object\n",
      "PRODUCT_CATEGORY          48186 non-null object\n",
      "PRODUCT_CATEGORY_LABEL    48186 non-null object\n",
      "OPSTUDY                   48186 non-null object\n",
      "OPSTUDY_LABEL             48186 non-null object\n",
      "ACTUAL                    48186 non-null object\n",
      "BU                        47915 non-null object\n",
      "SEG                       48186 non-null object\n",
      "PROMO                     40513 non-null object\n",
      "dtypes: object(11)\n",
      "memory usage: 4.4+ MB\n"
     ]
    }
   ],
   "source": [
    "dry_eye.info()"
   ]
  },
  {
   "cell_type": "code",
   "execution_count": 152,
   "metadata": {},
   "outputs": [
    {
     "data": {
      "text/html": [
       "<div>\n",
       "<style scoped>\n",
       "    .dataframe tbody tr th:only-of-type {\n",
       "        vertical-align: middle;\n",
       "    }\n",
       "\n",
       "    .dataframe tbody tr th {\n",
       "        vertical-align: top;\n",
       "    }\n",
       "\n",
       "    .dataframe thead th {\n",
       "        text-align: right;\n",
       "    }\n",
       "</style>\n",
       "<table border=\"1\" class=\"dataframe\">\n",
       "  <thead>\n",
       "    <tr style=\"text-align: right;\">\n",
       "      <th></th>\n",
       "      <th>WEEK</th>\n",
       "      <th>PLN</th>\n",
       "      <th>PLN_LABEL</th>\n",
       "      <th>PRODUCT_CATEGORY</th>\n",
       "      <th>PRODUCT_CATEGORY_LABEL</th>\n",
       "      <th>OPSTUDY</th>\n",
       "      <th>OPSTUDY_LABEL</th>\n",
       "      <th>ACTUAL</th>\n",
       "      <th>BU</th>\n",
       "      <th>SEG</th>\n",
       "      <th>PROMO</th>\n",
       "    </tr>\n",
       "  </thead>\n",
       "  <tbody>\n",
       "    <tr>\n",
       "      <th>1673</th>\n",
       "      <td>1160529</td>\n",
       "      <td>40000415307</td>\n",
       "      <td>REFRESH OPTIVE ADVANCED      10ML</td>\n",
       "      <td>186-002</td>\n",
       "      <td>DRY EYE</td>\n",
       "      <td>186</td>\n",
       "      <td>EYE/EAR</td>\n",
       "      <td>150</td>\n",
       "      <td>Health/Wellness</td>\n",
       "      <td>A</td>\n",
       "      <td>N</td>\n",
       "    </tr>\n",
       "    <tr>\n",
       "      <th>1674</th>\n",
       "      <td>1160529</td>\n",
       "      <td>40000415307</td>\n",
       "      <td>REFRESH OPTIVE ADVANCED      10ML</td>\n",
       "      <td>186-002</td>\n",
       "      <td>DRY EYE</td>\n",
       "      <td>186</td>\n",
       "      <td>EYE/EAR</td>\n",
       "      <td>1113</td>\n",
       "      <td>Health/Wellness</td>\n",
       "      <td>C1</td>\n",
       "      <td>N</td>\n",
       "    </tr>\n",
       "    <tr>\n",
       "      <th>1675</th>\n",
       "      <td>1160529</td>\n",
       "      <td>40000415307</td>\n",
       "      <td>REFRESH OPTIVE ADVANCED      10ML</td>\n",
       "      <td>186-002</td>\n",
       "      <td>DRY EYE</td>\n",
       "      <td>186</td>\n",
       "      <td>EYE/EAR</td>\n",
       "      <td>295</td>\n",
       "      <td>Health/Wellness</td>\n",
       "      <td>B</td>\n",
       "      <td>N</td>\n",
       "    </tr>\n",
       "    <tr>\n",
       "      <th>1676</th>\n",
       "      <td>1160529</td>\n",
       "      <td>40000415307</td>\n",
       "      <td>REFRESH OPTIVE ADVANCED      10ML</td>\n",
       "      <td>186-002</td>\n",
       "      <td>DRY EYE</td>\n",
       "      <td>186</td>\n",
       "      <td>EYE/EAR</td>\n",
       "      <td>15</td>\n",
       "      <td>Health/Wellness</td>\n",
       "      <td>NoSegment-C</td>\n",
       "      <td>N</td>\n",
       "    </tr>\n",
       "    <tr>\n",
       "      <th>2474</th>\n",
       "      <td>1160529</td>\n",
       "      <td>40000684179</td>\n",
       "      <td>THERA TEARS LUB EYE DROPS    15ML</td>\n",
       "      <td>186-002</td>\n",
       "      <td>DRY EYE</td>\n",
       "      <td>186</td>\n",
       "      <td>EYE/EAR</td>\n",
       "      <td>153</td>\n",
       "      <td>Health/Wellness</td>\n",
       "      <td>A</td>\n",
       "      <td>N</td>\n",
       "    </tr>\n",
       "  </tbody>\n",
       "</table>\n",
       "</div>"
      ],
      "text/plain": [
       "         WEEK          PLN                          PLN_LABEL  \\\n",
       "1673  1160529  40000415307  REFRESH OPTIVE ADVANCED      10ML   \n",
       "1674  1160529  40000415307  REFRESH OPTIVE ADVANCED      10ML   \n",
       "1675  1160529  40000415307  REFRESH OPTIVE ADVANCED      10ML   \n",
       "1676  1160529  40000415307  REFRESH OPTIVE ADVANCED      10ML   \n",
       "2474  1160529  40000684179  THERA TEARS LUB EYE DROPS    15ML   \n",
       "\n",
       "     PRODUCT_CATEGORY PRODUCT_CATEGORY_LABEL OPSTUDY OPSTUDY_LABEL ACTUAL  \\\n",
       "1673          186-002                DRY EYE     186       EYE/EAR    150   \n",
       "1674          186-002                DRY EYE     186       EYE/EAR   1113   \n",
       "1675          186-002                DRY EYE     186       EYE/EAR    295   \n",
       "1676          186-002                DRY EYE     186       EYE/EAR     15   \n",
       "2474          186-002                DRY EYE     186       EYE/EAR    153   \n",
       "\n",
       "                   BU          SEG PROMO  \n",
       "1673  Health/Wellness            A     N  \n",
       "1674  Health/Wellness           C1     N  \n",
       "1675  Health/Wellness            B     N  \n",
       "1676  Health/Wellness  NoSegment-C     N  \n",
       "2474  Health/Wellness            A     N  "
      ]
     },
     "execution_count": 152,
     "metadata": {},
     "output_type": "execute_result"
    }
   ],
   "source": [
    "dry_eye.head()"
   ]
  },
  {
   "cell_type": "markdown",
   "metadata": {},
   "source": [
    "## Удаляем ненужные столбцы (признак BU можем удалить т.к. все наши данные итак принадлежат BU == 'Health/Wellness', аналогичная логика рассуждений и для других удаляемых признаков, ведь все они имеют одинаковые значения)"
   ]
  },
  {
   "cell_type": "code",
   "execution_count": 153,
   "metadata": {
    "scrolled": false
   },
   "outputs": [],
   "source": [
    "dry_eye.drop(['BU', 'PRODUCT_CATEGORY_LABEL', 'PRODUCT_CATEGORY', 'OPSTUDY', 'OPSTUDY_LABEL'], axis=1, inplace=True)"
   ]
  },
  {
   "cell_type": "markdown",
   "metadata": {},
   "source": [
    "## Преобразуем признаки в необходимые типы"
   ]
  },
  {
   "cell_type": "code",
   "execution_count": 154,
   "metadata": {
    "scrolled": false
   },
   "outputs": [],
   "source": [
    "dry_eye['WEEK'] = dry_eye['WEEK'].apply(lambda x: str(x))"
   ]
  },
  {
   "cell_type": "code",
   "execution_count": 155,
   "metadata": {},
   "outputs": [],
   "source": [
    "dry_eye['PLN'] = dry_eye['PLN'].apply(lambda x: str(x))"
   ]
  },
  {
   "cell_type": "code",
   "execution_count": 156,
   "metadata": {},
   "outputs": [],
   "source": [
    "dry_eye['PLN_LABEL'] = dry_eye['PLN_LABEL'].apply(lambda x: str(x))"
   ]
  },
  {
   "cell_type": "code",
   "execution_count": 157,
   "metadata": {},
   "outputs": [],
   "source": [
    "dry_eye['ACTUAL'] = dry_eye['ACTUAL'].apply(lambda x: float(x))"
   ]
  },
  {
   "cell_type": "code",
   "execution_count": 158,
   "metadata": {},
   "outputs": [],
   "source": [
    "dry_eye['SEG'] = dry_eye['SEG'].apply(lambda x: str(x))"
   ]
  },
  {
   "cell_type": "code",
   "execution_count": 159,
   "metadata": {
    "scrolled": true
   },
   "outputs": [],
   "source": [
    "dry_eye['PROMO'] = dry_eye['PROMO'].apply(lambda x: str(x))"
   ]
  },
  {
   "cell_type": "markdown",
   "metadata": {},
   "source": [
    "## Преобразуем признак WEEK в datetime и создадим три новых колонки: YEAR, MONTH, DAY для того, чтобы, например, посмотреть как менялись продажи товара каждый месяц в разные года"
   ]
  },
  {
   "cell_type": "markdown",
   "metadata": {},
   "source": [
    "### Колонка WEEK имеет неподходящий вид для перевода в тип datetime, поэтому напишем функцию, чтобы немного преобразовать данные в этой колонке"
   ]
  },
  {
   "cell_type": "code",
   "execution_count": 160,
   "metadata": {},
   "outputs": [],
   "source": [
    "def date_divide(x):\n",
    "    x=x[1:]\n",
    "    x='20' + x\n",
    "    x=x[:4] + '-' + x[4:]\n",
    "    x=x[:7] + '-' + x[7:]\n",
    "    return x"
   ]
  },
  {
   "cell_type": "code",
   "execution_count": 161,
   "metadata": {
    "scrolled": true
   },
   "outputs": [],
   "source": [
    "dry_eye['WEEK'] = dry_eye['WEEK'].apply(lambda x: date_divide(x))"
   ]
  },
  {
   "cell_type": "markdown",
   "metadata": {},
   "source": [
    "### Переводим данные в дату "
   ]
  },
  {
   "cell_type": "code",
   "execution_count": 162,
   "metadata": {},
   "outputs": [],
   "source": [
    "dry_eye['WEEK'] = pd.to_datetime(dry_eye['WEEK'])"
   ]
  },
  {
   "cell_type": "markdown",
   "metadata": {},
   "source": [
    "### Создаем новые три колонки с годом, месяцем и днем (неделей) "
   ]
  },
  {
   "cell_type": "code",
   "execution_count": 163,
   "metadata": {
    "scrolled": true
   },
   "outputs": [],
   "source": [
    "dry_eye['YEAR'] = [d.year for d in dry_eye['WEEK']]\n",
    "dry_eye['MONTH'] = [d.month for d in dry_eye['WEEK']]\n",
    "dry_eye['DAY'] = [d.day for d in dry_eye['WEEK']]"
   ]
  },
  {
   "cell_type": "markdown",
   "metadata": {},
   "source": [
    "## Заменим значения признака SEG на числовые "
   ]
  },
  {
   "cell_type": "markdown",
   "metadata": {},
   "source": [
    "### Создаем словарь, дге каждому строковому значению признака соответствует число "
   ]
  },
  {
   "cell_type": "code",
   "execution_count": 164,
   "metadata": {},
   "outputs": [],
   "source": [
    "seg_dic = {'A':0, 'NoSegmen-A':1, 'B':2, 'NoSegment-B':3, 'C1':4, 'C2':5, 'C3':6, 'C4':7, 'NoSegment-C':8, 'NoBuisnessUnit':9}"
   ]
  },
  {
   "cell_type": "code",
   "execution_count": 165,
   "metadata": {},
   "outputs": [],
   "source": [
    "dry_eye['SEG'] = dry_eye['SEG'].replace(seg_dic)"
   ]
  },
  {
   "cell_type": "markdown",
   "metadata": {},
   "source": [
    "## Если в датасете имеются отрицательные значения продаж, то заменим их на нулевые"
   ]
  },
  {
   "cell_type": "code",
   "execution_count": 166,
   "metadata": {},
   "outputs": [],
   "source": [
    "def replace_negative(x):\n",
    "    if x<0:\n",
    "        return 0\n",
    "    else:\n",
    "        return x"
   ]
  },
  {
   "cell_type": "code",
   "execution_count": 167,
   "metadata": {},
   "outputs": [],
   "source": [
    "dry_eye['ACTUAL'] = dry_eye['ACTUAL'].apply(lambda x: replace_negative(x))"
   ]
  },
  {
   "cell_type": "markdown",
   "metadata": {},
   "source": [
    "## Заменим значения PROMO 'Y', 'N' на 1, 0"
   ]
  },
  {
   "cell_type": "code",
   "execution_count": 168,
   "metadata": {},
   "outputs": [],
   "source": [
    "promo_dic = {'Y':1, 'N':0}"
   ]
  },
  {
   "cell_type": "code",
   "execution_count": 169,
   "metadata": {
    "scrolled": true
   },
   "outputs": [],
   "source": [
    "dry_eye['PROMO'] = dry_eye['PROMO'].replace(promo_dic)"
   ]
  },
  {
   "cell_type": "markdown",
   "metadata": {},
   "source": [
    "## Взглянем на получившейся набор после преобразований "
   ]
  },
  {
   "cell_type": "code",
   "execution_count": 170,
   "metadata": {},
   "outputs": [
    {
     "data": {
      "text/html": [
       "<div>\n",
       "<style scoped>\n",
       "    .dataframe tbody tr th:only-of-type {\n",
       "        vertical-align: middle;\n",
       "    }\n",
       "\n",
       "    .dataframe tbody tr th {\n",
       "        vertical-align: top;\n",
       "    }\n",
       "\n",
       "    .dataframe thead th {\n",
       "        text-align: right;\n",
       "    }\n",
       "</style>\n",
       "<table border=\"1\" class=\"dataframe\">\n",
       "  <thead>\n",
       "    <tr style=\"text-align: right;\">\n",
       "      <th></th>\n",
       "      <th>WEEK</th>\n",
       "      <th>PLN</th>\n",
       "      <th>PLN_LABEL</th>\n",
       "      <th>ACTUAL</th>\n",
       "      <th>SEG</th>\n",
       "      <th>PROMO</th>\n",
       "      <th>YEAR</th>\n",
       "      <th>MONTH</th>\n",
       "      <th>DAY</th>\n",
       "    </tr>\n",
       "  </thead>\n",
       "  <tbody>\n",
       "    <tr>\n",
       "      <th>1673</th>\n",
       "      <td>2016-05-29</td>\n",
       "      <td>40000415307</td>\n",
       "      <td>REFRESH OPTIVE ADVANCED      10ML</td>\n",
       "      <td>150.0</td>\n",
       "      <td>0</td>\n",
       "      <td>0</td>\n",
       "      <td>2016</td>\n",
       "      <td>5</td>\n",
       "      <td>29</td>\n",
       "    </tr>\n",
       "    <tr>\n",
       "      <th>1674</th>\n",
       "      <td>2016-05-29</td>\n",
       "      <td>40000415307</td>\n",
       "      <td>REFRESH OPTIVE ADVANCED      10ML</td>\n",
       "      <td>1113.0</td>\n",
       "      <td>4</td>\n",
       "      <td>0</td>\n",
       "      <td>2016</td>\n",
       "      <td>5</td>\n",
       "      <td>29</td>\n",
       "    </tr>\n",
       "    <tr>\n",
       "      <th>1675</th>\n",
       "      <td>2016-05-29</td>\n",
       "      <td>40000415307</td>\n",
       "      <td>REFRESH OPTIVE ADVANCED      10ML</td>\n",
       "      <td>295.0</td>\n",
       "      <td>2</td>\n",
       "      <td>0</td>\n",
       "      <td>2016</td>\n",
       "      <td>5</td>\n",
       "      <td>29</td>\n",
       "    </tr>\n",
       "    <tr>\n",
       "      <th>1676</th>\n",
       "      <td>2016-05-29</td>\n",
       "      <td>40000415307</td>\n",
       "      <td>REFRESH OPTIVE ADVANCED      10ML</td>\n",
       "      <td>15.0</td>\n",
       "      <td>8</td>\n",
       "      <td>0</td>\n",
       "      <td>2016</td>\n",
       "      <td>5</td>\n",
       "      <td>29</td>\n",
       "    </tr>\n",
       "    <tr>\n",
       "      <th>2474</th>\n",
       "      <td>2016-05-29</td>\n",
       "      <td>40000684179</td>\n",
       "      <td>THERA TEARS LUB EYE DROPS    15ML</td>\n",
       "      <td>153.0</td>\n",
       "      <td>0</td>\n",
       "      <td>0</td>\n",
       "      <td>2016</td>\n",
       "      <td>5</td>\n",
       "      <td>29</td>\n",
       "    </tr>\n",
       "  </tbody>\n",
       "</table>\n",
       "</div>"
      ],
      "text/plain": [
       "           WEEK          PLN                          PLN_LABEL  ACTUAL SEG  \\\n",
       "1673 2016-05-29  40000415307  REFRESH OPTIVE ADVANCED      10ML   150.0   0   \n",
       "1674 2016-05-29  40000415307  REFRESH OPTIVE ADVANCED      10ML  1113.0   4   \n",
       "1675 2016-05-29  40000415307  REFRESH OPTIVE ADVANCED      10ML   295.0   2   \n",
       "1676 2016-05-29  40000415307  REFRESH OPTIVE ADVANCED      10ML    15.0   8   \n",
       "2474 2016-05-29  40000684179  THERA TEARS LUB EYE DROPS    15ML   153.0   0   \n",
       "\n",
       "     PROMO  YEAR  MONTH  DAY  \n",
       "1673     0  2016      5   29  \n",
       "1674     0  2016      5   29  \n",
       "1675     0  2016      5   29  \n",
       "1676     0  2016      5   29  \n",
       "2474     0  2016      5   29  "
      ]
     },
     "execution_count": 170,
     "metadata": {},
     "output_type": "execute_result"
    }
   ],
   "source": [
    "dry_eye.head()"
   ]
  },
  {
   "cell_type": "markdown",
   "metadata": {},
   "source": [
    "## Выведем гистограму продаж"
   ]
  },
  {
   "cell_type": "code",
   "execution_count": 171,
   "metadata": {},
   "outputs": [
    {
     "data": {
      "image/png": "[encoded data removed]",
      "text/plain": [
       "<Figure size 432x288 with 1 Axes>"
      ]
     },
     "metadata": {
      "needs_background": "light"
     },
     "output_type": "display_data"
    }
   ],
   "source": [
    "dry_eye['ACTUAL'].hist(bins=100);"
   ]
  },
  {
   "cell_type": "markdown",
   "metadata": {},
   "source": [
    "### Видно из гистограммы, что продажи не распределены по нормальному закону "
   ]
  },
  {
   "cell_type": "markdown",
   "metadata": {},
   "source": [
    "## Диаграмма количества продаж в каждый месяц по годам"
   ]
  },
  {
   "cell_type": "code",
   "execution_count": 172,
   "metadata": {},
   "outputs": [
    {
     "data": {
      "image/png": "[encoded data removed]",
      "text/plain": [
       "<Figure size 421.375x360 with 1 Axes>"
      ]
     },
     "metadata": {
      "needs_background": "light"
     },
     "output_type": "display_data"
    }
   ],
   "source": [
    "sns.catplot(x='MONTH', y='ACTUAL', hue='YEAR', data=dry_eye, kind='bar', palette='muted');"
   ]
  },
  {
   "cell_type": "markdown",
   "metadata": {},
   "source": [
    "### Из графика продаж в принципе видно, что у данной категории нет никаких сезонных компонент"
   ]
  },
  {
   "cell_type": "markdown",
   "metadata": {},
   "source": [
    "## Рассмотрим подробнее и попытаемся спрогнозировать продажи самого популярного продукта данной категории"
   ]
  },
  {
   "cell_type": "code",
   "execution_count": 173,
   "metadata": {},
   "outputs": [
    {
     "data": {
      "text/plain": [
       "BLINK GEL TEAR LUB EYE DROPS.34OZ    942\n",
       "BLINK TEARS LUBRICATING DRPS .5OZ    935\n",
       "BLINK TEARS LUBRICATING DROPS 1OZ    898\n",
       "WALG ARTIFICIAL TEAR LBRCNT .5OZ     876\n",
       "B&L SOOTHE LUB EYE DRPS .02OZ 28S    849\n",
       "VISINE TEARS FOR DRY EYES    .5OZ    838\n",
       "VISINE TEARS L/LST RLF DRYEYE.5OZ    826\n",
       "SOOTHE HYDRATION DRY EYE DROP.5OZ    823\n",
       "WALG LUB E DRP SNGL USE .01OZ 30S    819\n",
       "SYSTANE ULT HIGH PERFORMANC .33OZ    797\n",
       "WALG SODIUM CHLR OPTH ONT 5%.13OZ    785\n",
       "SYSTANE LUB EYE DRP          .5OZ    782\n",
       "B&L SOOTHE XP                15ML    779\n",
       "SYSTANE BLNC LBRCNT EYE DROP.33OZ    776\n",
       "SYSTANE PM LUBE EYE OINTMENT.12OZ    763\n",
       "SYSTANE ULTRA            .33OZ 2S    753\n",
       "WALG LUB E DRP SNGL USE .01OZ 70S    751\n",
       "SYSTANE BALANCE EYE DROP .33OZ 2S    750\n",
       "SIMILASAN E/DROP D/EYE 30014.33OZ    747\n",
       "SIMILASAN CMPLT E RLF DRPS .33OZ     741\n",
       "WALGREENS MURO 128 DROPS    .500Z    736\n",
       "WALG ULT LUB EYEDRP VIAL .01OZ25S    726\n",
       "SYSTANE LUB EYE DRP          30ML    721\n",
       "SYSTANE ULTRA POCKET PACK.14OZ 2S    719\n",
       "SYSTANE GEL DROPS           .33OZ    712\n",
       "GENTEAL SEVERE LUB EYE GEL   10ML    709\n",
       "REFRESH LIQUIGEL LUB 92056   .5OZ    693\n",
       "REFRESH TEARS LUB EYE DROPS  15ML    693\n",
       "SYSTANE GEL OVERNIGHT THERPY.35OZ    692\n",
       "REFRESH OPTIVE ADV SENS .01OZ 30S    690\n",
       "                                    ... \n",
       "GENTEAL MILD/MOD LUB EYE DROP15ML    273\n",
       "WALGREEN STYE OINTMENT      .12OZ    265\n",
       "TRP AGING EYE RELIEF DROPS   .5OZ    219\n",
       "WALG LUBRICANT EYEDROPS .5OZ         217\n",
       "TEARS NATURALE II 0418-15  15ML X    193\n",
       "WALGREEN STYE OINTMENT     .125OZ    187\n",
       "WALG ART TEARS VIALS .02OZ 32S       180\n",
       "WALG OPTIVE LUB EYE DRP   .5OZ 2S    180\n",
       "REFRESH PLUS.01OZ 30S                173\n",
       "REFRESH ARTIFCL TEARS .01OZ 30S X    132\n",
       "REFRESH PLUS          .01OZ 50S X    129\n",
       "THERATEARS UNIT DOSE 3.2OZ    32S    121\n",
       "ROHTO DRY AID EYE DROPS .34OZ        116\n",
       "W(WALG)ART TEARS VIALS .02OZ 32S     116\n",
       "GENTEAL TEARS MILD LUB DROPS 15ML    114\n",
       "WALG EYE DROPS FORMULA .5OZ 2S       110\n",
       "REFRESH LIQUIGEL LUB 92057    1OZ    108\n",
       "REFRESH OPTIVE MEGA-3 PRSRVTV 30S    107\n",
       "OCUSOFT RETAINE PM INTMENT 0.18OZ     96\n",
       "SYSTANE PF ARTF TRS VIALS.7ML 30S     70\n",
       "SYSTANE ULT LUB EYE DROP .7ML 25S     70\n",
       "WALG LUBRICANT EYE DROPS .5OZ 2S      60\n",
       "WALGREENS PF A/TEARS VIAL 30S         26\n",
       "WALGREENS SENS EYE DROPS 60S          24\n",
       "GENTEAL PM LUB EYE OINTMNT .125OZ     12\n",
       "WALG BLNC LBRCNT EYE DROP   .33OZ     11\n",
       "REFRESH CELVSC 1%OPHT SOL .1OZ30S      8\n",
       "B&L ADV EYE RELIEF REJUVENTN .5OZ      8\n",
       "REFRESH LACRI-LUBE OPTH ONT 3.5GM      8\n",
       "CLEAR EYES PURE RLF DRY EYE .33OZ      4\n",
       "Name: PLN_LABEL, Length: 102, dtype: int64"
      ]
     },
     "execution_count": 173,
     "metadata": {},
     "output_type": "execute_result"
    }
   ],
   "source": [
    "dry_eye['PLN_LABEL'].value_counts()"
   ]
  },
  {
   "cell_type": "code",
   "execution_count": 174,
   "metadata": {},
   "outputs": [],
   "source": [
    "first_item = dry_eye[dry_eye['PLN_LABEL']=='BLINK GEL TEAR LUB EYE DROPS.34OZ']"
   ]
  },
  {
   "cell_type": "markdown",
   "metadata": {},
   "source": [
    "## Можем удалить колонки 'PLN' и 'PLN_LABEL', ведь мы уже определились с конкретным товаром "
   ]
  },
  {
   "cell_type": "code",
   "execution_count": 175,
   "metadata": {},
   "outputs": [],
   "source": [
    "first_item.drop(['PLN_LABEL', 'PLN'], axis=1, inplace=True)"
   ]
  },
  {
   "cell_type": "code",
   "execution_count": 176,
   "metadata": {},
   "outputs": [
    {
     "data": {
      "text/plain": [
       "2017-07-09    14\n",
       "2017-05-28     8\n",
       "2016-09-11     8\n",
       "2016-10-09     8\n",
       "2017-05-14     8\n",
       "2017-03-12     8\n",
       "2016-07-24     8\n",
       "2016-11-06     8\n",
       "2015-12-06     8\n",
       "2016-04-17     8\n",
       "2015-09-27     8\n",
       "2017-02-12     8\n",
       "2016-06-26     8\n",
       "2015-11-08     8\n",
       "2015-10-25     8\n",
       "2016-06-12     8\n",
       "2017-01-29     8\n",
       "2017-06-04     8\n",
       "2015-11-22     8\n",
       "2016-07-10     8\n",
       "2017-02-26     8\n",
       "2017-04-30     8\n",
       "2016-01-24     8\n",
       "2017-03-26     8\n",
       "2015-11-01     8\n",
       "2016-11-13     8\n",
       "2015-09-06     8\n",
       "2016-04-24     8\n",
       "2017-07-30     8\n",
       "2015-10-04     8\n",
       "              ..\n",
       "2015-07-26     4\n",
       "2015-08-23     4\n",
       "2016-05-08     4\n",
       "2015-03-01     4\n",
       "2015-03-29     4\n",
       "2015-04-26     4\n",
       "2017-11-05     4\n",
       "2015-05-24     4\n",
       "2015-06-21     4\n",
       "2016-02-07     4\n",
       "2015-04-05     4\n",
       "2017-08-20     4\n",
       "2016-03-27     4\n",
       "2017-01-01     4\n",
       "2015-02-15     4\n",
       "2016-05-22     4\n",
       "2017-01-08     4\n",
       "2015-03-15     4\n",
       "2015-04-12     4\n",
       "2015-05-10     4\n",
       "2017-11-19     4\n",
       "2015-06-07     4\n",
       "2015-07-05     4\n",
       "2016-02-21     4\n",
       "2015-08-02     4\n",
       "2016-03-20     4\n",
       "2015-08-30     4\n",
       "2015-02-08     4\n",
       "2016-05-15     4\n",
       "2016-03-06     4\n",
       "Name: WEEK, Length: 145, dtype: int64"
      ]
     },
     "execution_count": 176,
     "metadata": {},
     "output_type": "execute_result"
    }
   ],
   "source": [
    "first_item['WEEK'].value_counts()"
   ]
  },
  {
   "cell_type": "markdown",
   "metadata": {},
   "source": [
    "### Как видно выше недели повторяютя, сделаем так, чтобы на каждую конкретную неделю была только одна запись, для этого сложим все значения продаж для каждых повторяющихся недель. Также если хотя бы в одной из повторяющихся недель товар был на акции, то считаем, что и в \"суммированной\" недели он тоже будет на акции"
   ]
  },
  {
   "cell_type": "code",
   "execution_count": 177,
   "metadata": {},
   "outputs": [],
   "source": [
    "weeks = np.unique(first_item['WEEK'].values)\n",
    "sums = []\n",
    "promos = []\n",
    "indexes = first_item.index"
   ]
  },
  {
   "cell_type": "code",
   "execution_count": 178,
   "metadata": {},
   "outputs": [],
   "source": [
    "for w in weeks:\n",
    "    s = 0\n",
    "    promo = 0\n",
    "    for i in indexes:\n",
    "        if first_item.at[i, 'WEEK']==w:\n",
    "            s=s+first_item.at[i, 'ACTUAL']\n",
    "            if first_item.at[i, 'PROMO']==1:\n",
    "                promo = 1\n",
    "    sums.append(s)\n",
    "    promos.append(promo)"
   ]
  },
  {
   "cell_type": "code",
   "execution_count": 179,
   "metadata": {},
   "outputs": [],
   "source": [
    "first_item1 = pd.DataFrame({'WEEK': weeks, 'ACTUAL': sums, 'PROMO': promos})"
   ]
  },
  {
   "cell_type": "markdown",
   "metadata": {},
   "source": [
    "# Загрузим сразу данные на будующий год, для которого необходимо сделать прогноз "
   ]
  },
  {
   "cell_type": "code",
   "execution_count": 180,
   "metadata": {},
   "outputs": [],
   "source": [
    "future = pd.read_csv('future.csv', sep='|', error_bad_lines=False)"
   ]
  },
  {
   "cell_type": "code",
   "execution_count": 181,
   "metadata": {},
   "outputs": [
    {
     "name": "stdout",
     "output_type": "stream",
     "text": [
      "<class 'pandas.core.frame.DataFrame'>\n",
      "RangeIndex: 7199527 entries, 0 to 7199526\n",
      "Data columns (total 4 columns):\n",
      "1171126        int64\n",
      "40000980460    int64\n",
      "B              object\n",
      "N              object\n",
      "dtypes: int64(2), object(2)\n",
      "memory usage: 219.7+ MB\n"
     ]
    }
   ],
   "source": [
    "future.info()"
   ]
  },
  {
   "cell_type": "code",
   "execution_count": 182,
   "metadata": {},
   "outputs": [
    {
     "data": {
      "text/html": [
       "<div>\n",
       "<style scoped>\n",
       "    .dataframe tbody tr th:only-of-type {\n",
       "        vertical-align: middle;\n",
       "    }\n",
       "\n",
       "    .dataframe tbody tr th {\n",
       "        vertical-align: top;\n",
       "    }\n",
       "\n",
       "    .dataframe thead th {\n",
       "        text-align: right;\n",
       "    }\n",
       "</style>\n",
       "<table border=\"1\" class=\"dataframe\">\n",
       "  <thead>\n",
       "    <tr style=\"text-align: right;\">\n",
       "      <th></th>\n",
       "      <th>1171126</th>\n",
       "      <th>40000980460</th>\n",
       "      <th>B</th>\n",
       "      <th>N</th>\n",
       "    </tr>\n",
       "  </thead>\n",
       "  <tbody>\n",
       "    <tr>\n",
       "      <th>0</th>\n",
       "      <td>1171126</td>\n",
       "      <td>40000980460</td>\n",
       "      <td>NoSegment-C</td>\n",
       "      <td>N</td>\n",
       "    </tr>\n",
       "    <tr>\n",
       "      <th>1</th>\n",
       "      <td>1171126</td>\n",
       "      <td>40000980460</td>\n",
       "      <td>C4</td>\n",
       "      <td>N</td>\n",
       "    </tr>\n",
       "    <tr>\n",
       "      <th>2</th>\n",
       "      <td>1171126</td>\n",
       "      <td>40000223091</td>\n",
       "      <td>NoSegment-C</td>\n",
       "      <td>N</td>\n",
       "    </tr>\n",
       "    <tr>\n",
       "      <th>3</th>\n",
       "      <td>1171126</td>\n",
       "      <td>40000223091</td>\n",
       "      <td>C4</td>\n",
       "      <td>N</td>\n",
       "    </tr>\n",
       "    <tr>\n",
       "      <th>4</th>\n",
       "      <td>1171126</td>\n",
       "      <td>40000755059</td>\n",
       "      <td>A</td>\n",
       "      <td>N</td>\n",
       "    </tr>\n",
       "  </tbody>\n",
       "</table>\n",
       "</div>"
      ],
      "text/plain": [
       "   1171126  40000980460            B  N\n",
       "0  1171126  40000980460  NoSegment-C  N\n",
       "1  1171126  40000980460           C4  N\n",
       "2  1171126  40000223091  NoSegment-C  N\n",
       "3  1171126  40000223091           C4  N\n",
       "4  1171126  40000755059            A  N"
      ]
     },
     "execution_count": 182,
     "metadata": {},
     "output_type": "execute_result"
    }
   ],
   "source": [
    "future.head()"
   ]
  },
  {
   "cell_type": "markdown",
   "metadata": {},
   "source": [
    "## Переименуем столбцы"
   ]
  },
  {
   "cell_type": "code",
   "execution_count": 183,
   "metadata": {},
   "outputs": [],
   "source": [
    "future.rename(index=str, columns={'1171126':'WEEK', '40000980460':'PLN', 'B':'SEG', 'N':'PROMO'}, inplace=True)"
   ]
  },
  {
   "cell_type": "markdown",
   "metadata": {},
   "source": [
    "## Приведем данные в необходимые нам типы "
   ]
  },
  {
   "cell_type": "code",
   "execution_count": 184,
   "metadata": {
    "scrolled": true
   },
   "outputs": [],
   "source": [
    "future['WEEK'] = future['WEEK'].apply(lambda x: str(x))"
   ]
  },
  {
   "cell_type": "code",
   "execution_count": 185,
   "metadata": {},
   "outputs": [],
   "source": [
    "future['PLN'] = future['PLN'].apply(lambda x: str(x))"
   ]
  },
  {
   "cell_type": "code",
   "execution_count": 186,
   "metadata": {},
   "outputs": [],
   "source": [
    "future['SEG'] = future['SEG'].apply(lambda x: str(x))"
   ]
  },
  {
   "cell_type": "code",
   "execution_count": 187,
   "metadata": {},
   "outputs": [],
   "source": [
    "future['PROMO'] = future['PROMO'].apply(lambda x: str(x))"
   ]
  },
  {
   "cell_type": "markdown",
   "metadata": {},
   "source": [
    "## Переведем WEEK в datetime "
   ]
  },
  {
   "cell_type": "code",
   "execution_count": 188,
   "metadata": {},
   "outputs": [],
   "source": [
    "future['WEEK'] = future['WEEK'].apply(lambda x: date_divide(x))"
   ]
  },
  {
   "cell_type": "code",
   "execution_count": 189,
   "metadata": {},
   "outputs": [],
   "source": [
    "future['WEEK'] = pd.to_datetime(future['WEEK'])"
   ]
  },
  {
   "cell_type": "markdown",
   "metadata": {},
   "source": [
    "## Заменим данные SEG на числовые "
   ]
  },
  {
   "cell_type": "code",
   "execution_count": 190,
   "metadata": {},
   "outputs": [],
   "source": [
    "future['SEG'] = future['SEG'].replace(seg_dic)"
   ]
  },
  {
   "cell_type": "markdown",
   "metadata": {},
   "source": [
    "## Сделаем замену и для PROMO "
   ]
  },
  {
   "cell_type": "code",
   "execution_count": 191,
   "metadata": {},
   "outputs": [],
   "source": [
    "future['PROMO'] = future['PROMO'].replace(promo_dic)"
   ]
  },
  {
   "cell_type": "code",
   "execution_count": 192,
   "metadata": {},
   "outputs": [
    {
     "data": {
      "text/html": [
       "<div>\n",
       "<style scoped>\n",
       "    .dataframe tbody tr th:only-of-type {\n",
       "        vertical-align: middle;\n",
       "    }\n",
       "\n",
       "    .dataframe tbody tr th {\n",
       "        vertical-align: top;\n",
       "    }\n",
       "\n",
       "    .dataframe thead th {\n",
       "        text-align: right;\n",
       "    }\n",
       "</style>\n",
       "<table border=\"1\" class=\"dataframe\">\n",
       "  <thead>\n",
       "    <tr style=\"text-align: right;\">\n",
       "      <th></th>\n",
       "      <th>WEEK</th>\n",
       "      <th>PLN</th>\n",
       "      <th>SEG</th>\n",
       "      <th>PROMO</th>\n",
       "    </tr>\n",
       "  </thead>\n",
       "  <tbody>\n",
       "    <tr>\n",
       "      <th>0</th>\n",
       "      <td>2017-11-26</td>\n",
       "      <td>40000980460</td>\n",
       "      <td>8</td>\n",
       "      <td>0</td>\n",
       "    </tr>\n",
       "    <tr>\n",
       "      <th>1</th>\n",
       "      <td>2017-11-26</td>\n",
       "      <td>40000980460</td>\n",
       "      <td>7</td>\n",
       "      <td>0</td>\n",
       "    </tr>\n",
       "    <tr>\n",
       "      <th>2</th>\n",
       "      <td>2017-11-26</td>\n",
       "      <td>40000223091</td>\n",
       "      <td>8</td>\n",
       "      <td>0</td>\n",
       "    </tr>\n",
       "    <tr>\n",
       "      <th>3</th>\n",
       "      <td>2017-11-26</td>\n",
       "      <td>40000223091</td>\n",
       "      <td>7</td>\n",
       "      <td>0</td>\n",
       "    </tr>\n",
       "    <tr>\n",
       "      <th>4</th>\n",
       "      <td>2017-11-26</td>\n",
       "      <td>40000755059</td>\n",
       "      <td>0</td>\n",
       "      <td>0</td>\n",
       "    </tr>\n",
       "  </tbody>\n",
       "</table>\n",
       "</div>"
      ],
      "text/plain": [
       "        WEEK          PLN  SEG  PROMO\n",
       "0 2017-11-26  40000980460    8      0\n",
       "1 2017-11-26  40000980460    7      0\n",
       "2 2017-11-26  40000223091    8      0\n",
       "3 2017-11-26  40000223091    7      0\n",
       "4 2017-11-26  40000755059    0      0"
      ]
     },
     "execution_count": 192,
     "metadata": {},
     "output_type": "execute_result"
    }
   ],
   "source": [
    "future.head()"
   ]
  },
  {
   "cell_type": "markdown",
   "metadata": {},
   "source": [
    "## Возьмем отдуда необходимый нам продукт "
   ]
  },
  {
   "cell_type": "code",
   "execution_count": 193,
   "metadata": {},
   "outputs": [],
   "source": [
    "fut_first_prod = future[future['PLN']=='40000529197']"
   ]
  },
  {
   "cell_type": "code",
   "execution_count": 194,
   "metadata": {},
   "outputs": [],
   "source": [
    "fut_first_prod.drop(['SEG', 'PLN'], axis=1, inplace=True)"
   ]
  },
  {
   "cell_type": "code",
   "execution_count": 195,
   "metadata": {},
   "outputs": [
    {
     "data": {
      "text/html": [
       "<div>\n",
       "<style scoped>\n",
       "    .dataframe tbody tr th:only-of-type {\n",
       "        vertical-align: middle;\n",
       "    }\n",
       "\n",
       "    .dataframe tbody tr th {\n",
       "        vertical-align: top;\n",
       "    }\n",
       "\n",
       "    .dataframe thead th {\n",
       "        text-align: right;\n",
       "    }\n",
       "</style>\n",
       "<table border=\"1\" class=\"dataframe\">\n",
       "  <thead>\n",
       "    <tr style=\"text-align: right;\">\n",
       "      <th></th>\n",
       "      <th>WEEK</th>\n",
       "      <th>PROMO</th>\n",
       "    </tr>\n",
       "  </thead>\n",
       "  <tbody>\n",
       "    <tr>\n",
       "      <th>91117</th>\n",
       "      <td>2017-11-26</td>\n",
       "      <td>0</td>\n",
       "    </tr>\n",
       "    <tr>\n",
       "      <th>91118</th>\n",
       "      <td>2017-11-26</td>\n",
       "      <td>0</td>\n",
       "    </tr>\n",
       "    <tr>\n",
       "      <th>91119</th>\n",
       "      <td>2017-11-26</td>\n",
       "      <td>0</td>\n",
       "    </tr>\n",
       "    <tr>\n",
       "      <th>91120</th>\n",
       "      <td>2017-11-26</td>\n",
       "      <td>0</td>\n",
       "    </tr>\n",
       "    <tr>\n",
       "      <th>144951</th>\n",
       "      <td>2017-12-03</td>\n",
       "      <td>1</td>\n",
       "    </tr>\n",
       "  </tbody>\n",
       "</table>\n",
       "</div>"
      ],
      "text/plain": [
       "             WEEK  PROMO\n",
       "91117  2017-11-26      0\n",
       "91118  2017-11-26      0\n",
       "91119  2017-11-26      0\n",
       "91120  2017-11-26      0\n",
       "144951 2017-12-03      1"
      ]
     },
     "execution_count": 195,
     "metadata": {},
     "output_type": "execute_result"
    }
   ],
   "source": [
    "fut_first_prod.head()"
   ]
  },
  {
   "cell_type": "markdown",
   "metadata": {},
   "source": [
    "### Как и в основном нашем наборе недели повторяются"
   ]
  },
  {
   "cell_type": "code",
   "execution_count": 196,
   "metadata": {},
   "outputs": [
    {
     "data": {
      "text/plain": [
       "0    173\n",
       "1    163\n",
       "Name: PROMO, dtype: int64"
      ]
     },
     "execution_count": 196,
     "metadata": {},
     "output_type": "execute_result"
    }
   ],
   "source": [
    "fut_first_prod['PROMO'].value_counts()"
   ]
  },
  {
   "cell_type": "code",
   "execution_count": 197,
   "metadata": {},
   "outputs": [],
   "source": [
    "weeks = np.unique(fut_first_prod['WEEK'].values)\n",
    "promos = []\n",
    "indexes = fut_first_prod.index"
   ]
  },
  {
   "cell_type": "code",
   "execution_count": 198,
   "metadata": {},
   "outputs": [],
   "source": [
    "for w in weeks:\n",
    "    promo = 0\n",
    "    for i in indexes:\n",
    "        if fut_first_prod.at[i, 'WEEK']==w:\n",
    "            if fut_first_prod.at[i, 'PROMO']==1:\n",
    "                promo = 1\n",
    "    promos.append(promo)"
   ]
  },
  {
   "cell_type": "code",
   "execution_count": 199,
   "metadata": {},
   "outputs": [],
   "source": [
    "fut_first_prod1 = pd.DataFrame({'WEEK': weeks, 'PROMO': promos})"
   ]
  },
  {
   "cell_type": "code",
   "execution_count": 200,
   "metadata": {},
   "outputs": [
    {
     "data": {
      "text/html": [
       "<div>\n",
       "<style scoped>\n",
       "    .dataframe tbody tr th:only-of-type {\n",
       "        vertical-align: middle;\n",
       "    }\n",
       "\n",
       "    .dataframe tbody tr th {\n",
       "        vertical-align: top;\n",
       "    }\n",
       "\n",
       "    .dataframe thead th {\n",
       "        text-align: right;\n",
       "    }\n",
       "</style>\n",
       "<table border=\"1\" class=\"dataframe\">\n",
       "  <thead>\n",
       "    <tr style=\"text-align: right;\">\n",
       "      <th></th>\n",
       "      <th>WEEK</th>\n",
       "      <th>PROMO</th>\n",
       "    </tr>\n",
       "  </thead>\n",
       "  <tbody>\n",
       "    <tr>\n",
       "      <th>0</th>\n",
       "      <td>2017-11-26</td>\n",
       "      <td>0</td>\n",
       "    </tr>\n",
       "    <tr>\n",
       "      <th>1</th>\n",
       "      <td>2017-12-03</td>\n",
       "      <td>1</td>\n",
       "    </tr>\n",
       "    <tr>\n",
       "      <th>2</th>\n",
       "      <td>2017-12-10</td>\n",
       "      <td>1</td>\n",
       "    </tr>\n",
       "    <tr>\n",
       "      <th>3</th>\n",
       "      <td>2017-12-17</td>\n",
       "      <td>1</td>\n",
       "    </tr>\n",
       "    <tr>\n",
       "      <th>4</th>\n",
       "      <td>2017-12-24</td>\n",
       "      <td>1</td>\n",
       "    </tr>\n",
       "  </tbody>\n",
       "</table>\n",
       "</div>"
      ],
      "text/plain": [
       "        WEEK  PROMO\n",
       "0 2017-11-26      0\n",
       "1 2017-12-03      1\n",
       "2 2017-12-10      1\n",
       "3 2017-12-17      1\n",
       "4 2017-12-24      1"
      ]
     },
     "execution_count": 200,
     "metadata": {},
     "output_type": "execute_result"
    }
   ],
   "source": [
    "fut_first_prod1.head()"
   ]
  },
  {
   "cell_type": "markdown",
   "metadata": {},
   "source": [
    "## Анализ временных рядов "
   ]
  },
  {
   "cell_type": "markdown",
   "metadata": {},
   "source": [
    "### Перед тем, как строить какие-либо графики и проводить анализ, необходимо нормализировать наши данные, чтобы удобнее на одном графике было увидеть, например, зависимость промо-акций и продаж "
   ]
  },
  {
   "cell_type": "code",
   "execution_count": 201,
   "metadata": {},
   "outputs": [],
   "source": [
    "df1 = first_item1.copy()"
   ]
  },
  {
   "cell_type": "markdown",
   "metadata": {},
   "source": [
    "### Устанавливаем индексацию по неделям "
   ]
  },
  {
   "cell_type": "code",
   "execution_count": 202,
   "metadata": {},
   "outputs": [],
   "source": [
    "df1.set_index('WEEK', inplace=True)"
   ]
  },
  {
   "cell_type": "markdown",
   "metadata": {},
   "source": [
    "### Проводим нормализацию "
   ]
  },
  {
   "cell_type": "code",
   "execution_count": 203,
   "metadata": {},
   "outputs": [],
   "source": [
    "scaler = MinMaxScaler()"
   ]
  },
  {
   "cell_type": "code",
   "execution_count": 204,
   "metadata": {},
   "outputs": [
    {
     "data": {
      "text/plain": [
       "MinMaxScaler(copy=True, feature_range=(0, 1))"
      ]
     },
     "execution_count": 204,
     "metadata": {},
     "output_type": "execute_result"
    }
   ],
   "source": [
    "scaler.fit(df1)"
   ]
  },
  {
   "cell_type": "code",
   "execution_count": 205,
   "metadata": {},
   "outputs": [],
   "source": [
    "df1_values = scaler.transform(df1)"
   ]
  },
  {
   "cell_type": "code",
   "execution_count": 206,
   "metadata": {},
   "outputs": [],
   "source": [
    "df1 = pd.DataFrame({'WEEK': first_item1['WEEK'].values, 'ACTUAL': df1_values[:,0], 'PROMO': df1_values[:,1]})"
   ]
  },
  {
   "cell_type": "code",
   "execution_count": 207,
   "metadata": {},
   "outputs": [],
   "source": [
    "df1.set_index('WEEK', inplace=True)"
   ]
  },
  {
   "cell_type": "markdown",
   "metadata": {},
   "source": [
    "### Построим график продаж  "
   ]
  },
  {
   "cell_type": "code",
   "execution_count": 208,
   "metadata": {},
   "outputs": [
    {
     "data": {
      "image/png": "[encoded data removed]",
      "text/plain": [
       "<Figure size 432x288 with 1 Axes>"
      ]
     },
     "metadata": {
      "needs_background": "light"
     },
     "output_type": "display_data"
    }
   ],
   "source": [
    "df1['ACTUAL'].plot();"
   ]
  },
  {
   "cell_type": "markdown",
   "metadata": {},
   "source": [
    "### Как видно из графика, есть большое число каких-то колебаний (возможно связанных с промо-акциями) "
   ]
  },
  {
   "cell_type": "code",
   "execution_count": 209,
   "metadata": {},
   "outputs": [
    {
     "data": {
      "image/png": "[encoded data removed]",
      "text/plain": [
       "<Figure size 432x288 with 1 Axes>"
      ]
     },
     "metadata": {
      "needs_background": "light"
     },
     "output_type": "display_data"
    }
   ],
   "source": [
    "df1['PROMO'].plot();"
   ]
  },
  {
   "cell_type": "markdown",
   "metadata": {},
   "source": [
    "### Чтобы сгладить краткосрочные колебания и выявить тенденции построим скользящую среднюю"
   ]
  },
  {
   "cell_type": "code",
   "execution_count": 210,
   "metadata": {},
   "outputs": [
    {
     "data": {
      "image/png": "[encoded data removed]",
      "text/plain": [
       "<Figure size 432x288 with 1 Axes>"
      ]
     },
     "metadata": {
      "needs_background": "light"
     },
     "output_type": "display_data"
    }
   ],
   "source": [
    "df1['ACTUAL'].rolling(52).mean().plot();"
   ]
  },
  {
   "cell_type": "markdown",
   "metadata": {},
   "source": [
    "### Как видно из графика, имеется тенденция к росту продаж данного продукта "
   ]
  },
  {
   "cell_type": "markdown",
   "metadata": {},
   "source": [
    "### Построим разности первого порядка для промо и продаж "
   ]
  },
  {
   "cell_type": "code",
   "execution_count": 211,
   "metadata": {},
   "outputs": [
    {
     "data": {
      "image/png": "[encoded data removed]",
      "text/plain": [
       "<Figure size 432x288 with 1 Axes>"
      ]
     },
     "metadata": {
      "needs_background": "light"
     },
     "output_type": "display_data"
    }
   ],
   "source": [
    "df1.diff().plot();"
   ]
  },
  {
   "cell_type": "markdown",
   "metadata": {},
   "source": [
    "### Как видно из графика иногда резкие скачки в продажах сопровождаются наличием промо-акций, однако это не всегда так. Иногда присутствуют скачки в продажах, но акций в это время не было, возможно это вызвано какими-либо другими событиями и у нас не достаточно информации, чтобы это узнать "
   ]
  },
  {
   "cell_type": "markdown",
   "metadata": {},
   "source": [
    "### Теперь построим график автокорреляции "
   ]
  },
  {
   "cell_type": "code",
   "execution_count": 212,
   "metadata": {},
   "outputs": [
    {
     "data": {
      "image/png": "[encoded data removed]",
      "text/plain": [
       "<Figure size 432x288 with 1 Axes>"
      ]
     },
     "metadata": {
      "needs_background": "light"
     },
     "output_type": "display_data"
    }
   ],
   "source": [
    "autocorrelation_plot(df1);"
   ]
  },
  {
   "cell_type": "markdown",
   "metadata": {},
   "source": [
    "### Из графика видно, что существует положительная корреляция с первыми ~90 лагами, для параметра AR можно взять число 53 "
   ]
  },
  {
   "cell_type": "markdown",
   "metadata": {},
   "source": [
    "## Для составления прогноза воспользуемся популярной моделью ARIMA"
   ]
  },
  {
   "cell_type": "markdown",
   "metadata": {},
   "source": [
    "### Ограничимся только двумя признаками: WEEK и ACTUAL "
   ]
  },
  {
   "cell_type": "code",
   "execution_count": 213,
   "metadata": {},
   "outputs": [],
   "source": [
    "arima_df = df1[['ACTUAL']].copy()"
   ]
  },
  {
   "cell_type": "markdown",
   "metadata": {},
   "source": [
    "###  Сперва разделим наши данные на тестовую и обучающую выборки и сделаем предсказание на 2017 год"
   ]
  },
  {
   "cell_type": "code",
   "execution_count": 214,
   "metadata": {},
   "outputs": [],
   "source": [
    "arima_train = arima_df[:'2017-01-01']\n",
    "arima_test = arima_df['2017-01-01':]"
   ]
  },
  {
   "cell_type": "code",
   "execution_count": 215,
   "metadata": {},
   "outputs": [
    {
     "data": {
      "image/png": "[encoded data removed]",
      "text/plain": [
       "<Figure size 432x288 with 1 Axes>"
      ]
     },
     "metadata": {
      "needs_background": "light"
     },
     "output_type": "display_data"
    }
   ],
   "source": [
    "autocorrelation_plot(arima_train);"
   ]
  },
  {
   "cell_type": "markdown",
   "metadata": {},
   "source": [
    "### Обучим нашу модель "
   ]
  },
  {
   "cell_type": "code",
   "execution_count": 216,
   "metadata": {},
   "outputs": [],
   "source": [
    "arima_model = ARIMA(arima_train, order=(0,1,0))\n",
    "arima_model_fit = arima_model.fit(disp=0)"
   ]
  },
  {
   "cell_type": "markdown",
   "metadata": {},
   "source": [
    "### Параметры нашей модели "
   ]
  },
  {
   "cell_type": "code",
   "execution_count": 217,
   "metadata": {},
   "outputs": [
    {
     "data": {
      "text/html": [
       "<table class=\"simpletable\">\n",
       "<caption>ARIMA Model Results</caption>\n",
       "<tr>\n",
       "  <th>Dep. Variable:</th>     <td>D.ACTUAL</td>     <th>  No. Observations:  </th>   <td>98</td>   \n",
       "</tr>\n",
       "<tr>\n",
       "  <th>Model:</th>          <td>ARIMA(0, 1, 0)</td>  <th>  Log Likelihood     </th> <td>-10.671</td>\n",
       "</tr>\n",
       "<tr>\n",
       "  <th>Method:</th>               <td>css</td>       <th>  S.D. of innovations</th>  <td>0.270</td> \n",
       "</tr>\n",
       "<tr>\n",
       "  <th>Date:</th>          <td>Mon, 28 Jan 2019</td> <th>  AIC                </th> <td>25.342</td> \n",
       "</tr>\n",
       "<tr>\n",
       "  <th>Time:</th>              <td>11:58:02</td>     <th>  BIC                </th> <td>30.512</td> \n",
       "</tr>\n",
       "<tr>\n",
       "  <th>Sample:</th>                <td>1</td>        <th>  HQIC               </th> <td>27.433</td> \n",
       "</tr>\n",
       "<tr>\n",
       "  <th></th>                       <td> </td>        <th>                     </th>    <td> </td>   \n",
       "</tr>\n",
       "</table>\n",
       "<table class=\"simpletable\">\n",
       "<tr>\n",
       "    <td></td>       <th>coef</th>     <th>std err</th>      <th>z</th>      <th>P>|z|</th>  <th>[0.025</th>    <th>0.975]</th>  \n",
       "</tr>\n",
       "<tr>\n",
       "  <th>const</th> <td>   -0.0013</td> <td>    0.027</td> <td>   -0.049</td> <td> 0.961</td> <td>   -0.055</td> <td>    0.052</td>\n",
       "</tr>\n",
       "</table>"
      ],
      "text/plain": [
       "<class 'statsmodels.iolib.summary.Summary'>\n",
       "\"\"\"\n",
       "                             ARIMA Model Results                              \n",
       "==============================================================================\n",
       "Dep. Variable:               D.ACTUAL   No. Observations:                   98\n",
       "Model:                 ARIMA(0, 1, 0)   Log Likelihood                 -10.671\n",
       "Method:                           css   S.D. of innovations              0.270\n",
       "Date:                Mon, 28 Jan 2019   AIC                             25.342\n",
       "Time:                        11:58:02   BIC                             30.512\n",
       "Sample:                             1   HQIC                            27.433\n",
       "                                                                              \n",
       "==============================================================================\n",
       "                 coef    std err          z      P>|z|      [0.025      0.975]\n",
       "------------------------------------------------------------------------------\n",
       "const         -0.0013      0.027     -0.049      0.961      -0.055       0.052\n",
       "==============================================================================\n",
       "\"\"\""
      ]
     },
     "execution_count": 217,
     "metadata": {},
     "output_type": "execute_result"
    }
   ],
   "source": [
    "arima_model_fit.summary()"
   ]
  },
  {
   "cell_type": "markdown",
   "metadata": {},
   "source": [
    "### Выведем график остаточных ошибок "
   ]
  },
  {
   "cell_type": "code",
   "execution_count": 218,
   "metadata": {},
   "outputs": [
    {
     "data": {
      "image/png": "[encoded data removed]",
      "text/plain": [
       "<Figure size 432x288 with 1 Axes>"
      ]
     },
     "metadata": {
      "needs_background": "light"
     },
     "output_type": "display_data"
    }
   ],
   "source": [
    "residuals = pd.DataFrame(arima_model_fit.resid)\n",
    "residuals.plot();"
   ]
  },
  {
   "cell_type": "markdown",
   "metadata": {},
   "source": [
    "### График плотности значений остаточных ошибок, предполагая, что ошибки являются гауссовыми"
   ]
  },
  {
   "cell_type": "code",
   "execution_count": 219,
   "metadata": {},
   "outputs": [
    {
     "data": {
      "image/png": "[encoded data removed]",
      "text/plain": [
       "<Figure size 432x288 with 1 Axes>"
      ]
     },
     "metadata": {
      "needs_background": "light"
     },
     "output_type": "display_data"
    }
   ],
   "source": [
    "residuals.plot(kind='kde');"
   ]
  },
  {
   "cell_type": "markdown",
   "metadata": {},
   "source": [
    "### Теперь сделаем прогноз "
   ]
  },
  {
   "cell_type": "code",
   "execution_count": 288,
   "metadata": {},
   "outputs": [
    {
     "name": "stdout",
     "output_type": "stream",
     "text": [
      "предсказанное=0.032854, ожидаемое=0.034194\n",
      "предсказанное=0.032868, ожидаемое=0.026329\n",
      "предсказанное=0.024938, ожидаемое=0.036758\n",
      "предсказанное=0.035484, ожидаемое=0.686613\n",
      "предсказанное=0.691722, ожидаемое=0.106514\n",
      "предсказанное=0.105941, ожидаемое=0.115575\n",
      "предсказанное=0.115095, ожидаемое=0.122927\n",
      "предсказанное=0.122522, ожидаемое=0.102582\n",
      "предсказанное=0.101988, ожидаемое=0.249786\n",
      "предсказанное=0.250574, ожидаемое=0.232860\n",
      "предсказанное=0.233484, ожидаемое=0.219012\n",
      "предсказанное=0.219503, ожидаемое=0.320055\n",
      "предсказанное=0.321460, ожидаемое=0.173705\n",
      "предсказанное=0.173779, ожидаемое=0.195589\n",
      "предсказанное=0.195858, ожидаемое=0.171653\n",
      "предсказанное=0.171708, ожидаемое=0.181057\n",
      "предсказанное=0.181193, ожидаемое=0.181228\n",
      "предсказанное=0.181364, ожидаемое=0.285348\n",
      "предсказанное=0.286381, ожидаемое=0.210976\n",
      "предсказанное=0.211365, ожидаемое=0.211489\n",
      "предсказанное=0.211879, ожидаемое=0.199863\n",
      "предсказанное=0.200152, ожидаемое=0.231835\n",
      "предсказанное=0.232387, ожидаемое=0.076081\n",
      "предсказанное=0.075342, ожидаемое=0.066165\n",
      "предсказанное=0.065351, ожидаемое=0.096940\n",
      "предсказанное=0.096382, ожидаемое=0.198495\n",
      "предсказанное=0.198762, ожидаемое=0.221405\n",
      "предсказанное=0.221853, ожидаемое=0.686442\n",
      "предсказанное=0.690577, ожидаемое=0.219867\n",
      "предсказанное=0.220295, ожидаемое=0.220721\n",
      "предсказанное=0.221153, ожидаемое=0.751410\n",
      "предсказанное=0.755952, ожидаемое=0.091469\n",
      "предсказанное=0.090899, ожидаемое=0.242264\n",
      "предсказанное=0.242850, ожидаемое=0.090101\n",
      "предсказанное=0.089530, ожидаемое=0.163960\n",
      "предсказанное=0.163948, ожидаемое=0.177808\n",
      "предсказанное=0.177900, ожидаемое=0.162421\n",
      "предсказанное=0.162398, ожидаемое=0.171482\n",
      "предсказанное=0.171526, ожидаемое=0.178492\n",
      "предсказанное=0.178587, ожидаемое=0.179689\n",
      "предсказанное=0.179792, ожидаемое=0.166182\n",
      "предсказанное=0.166187, ожидаемое=0.153531\n",
      "предсказанное=0.153445, ожидаемое=0.139682\n",
      "предсказанное=0.139499, ожидаемое=0.151479\n",
      "предсказанное=0.151380, ожидаемое=0.094033\n",
      "предсказанное=0.093533, ожидаемое=0.073859\n",
      "предсказанное=0.073222, ожидаемое=0.052830\n"
     ]
    }
   ],
   "source": [
    "train = arima_train.values\n",
    "test = arima_test.values\n",
    "new_train = [x for x in train]\n",
    "prediction = []\n",
    "for i in range(len(test)):\n",
    "    arima_model = ARIMA(new_train, order=(0,1,0))\n",
    "    arima_model_fit = arima_model.fit(disp=0)\n",
    "    pred = arima_model_fit.forecast()\n",
    "    prediction.append(pred[0])\n",
    "    new_train.append(test[i])\n",
    "    print('предсказанное=%f, ожидаемое=%f' % (pred[0], test[i]))"
   ]
  },
  {
   "cell_type": "markdown",
   "metadata": {},
   "source": [
    "### Среднеквадратическая ошибка "
   ]
  },
  {
   "cell_type": "code",
   "execution_count": 221,
   "metadata": {},
   "outputs": [
    {
     "data": {
      "text/plain": [
       "0.044552621543539825"
      ]
     },
     "execution_count": 221,
     "metadata": {},
     "output_type": "execute_result"
    }
   ],
   "source": [
    "mean_squared_error(test, prediction)"
   ]
  },
  {
   "cell_type": "markdown",
   "metadata": {},
   "source": [
    "### Графики ожидаемого и предсказанного "
   ]
  },
  {
   "cell_type": "code",
   "execution_count": 222,
   "metadata": {},
   "outputs": [
    {
     "data": {
      "image/png": "[encoded data removed]",
      "text/plain": [
       "<Figure size 432x288 with 1 Axes>"
      ]
     },
     "metadata": {
      "needs_background": "light"
     },
     "output_type": "display_data"
    }
   ],
   "source": [
    "plt.plot(test);\n",
    "plt.plot(prediction, color='red');"
   ]
  },
  {
   "cell_type": "markdown",
   "metadata": {},
   "source": [
    "### Предсказание оказалось достаточно хорошим "
   ]
  },
  {
   "cell_type": "markdown",
   "metadata": {},
   "source": [
    "### Проделаем теперь тоже самое, но для прогноза на новый год (на 52 недели)"
   ]
  },
  {
   "cell_type": "code",
   "execution_count": 333,
   "metadata": {},
   "outputs": [],
   "source": [
    "arima_data2 = first_item1.copy()"
   ]
  },
  {
   "cell_type": "code",
   "execution_count": 334,
   "metadata": {},
   "outputs": [],
   "source": [
    "arima_data2.set_index('WEEK', inplace=True)"
   ]
  },
  {
   "cell_type": "code",
   "execution_count": 335,
   "metadata": {},
   "outputs": [],
   "source": [
    "arima_data2.drop('PROMO', axis=1, inplace=True)"
   ]
  },
  {
   "cell_type": "code",
   "execution_count": 336,
   "metadata": {},
   "outputs": [],
   "source": [
    "def difference(dataset, interval=1):\n",
    "    diff = list()\n",
    "    for i in range(interval, len(dataset)):\n",
    "        value = dataset[i] - dataset[i - interval]\n",
    "        diff.append(value)\n",
    "    return np.array(diff)"
   ]
  },
  {
   "cell_type": "code",
   "execution_count": 337,
   "metadata": {},
   "outputs": [],
   "source": [
    "def inverse_difference(history, yhat, interval=1):\n",
    "    return yhat + history[-interval]"
   ]
  },
  {
   "cell_type": "code",
   "execution_count": 338,
   "metadata": {},
   "outputs": [],
   "source": [
    "new_arima = [x for x in arima_data2.values]"
   ]
  },
  {
   "cell_type": "code",
   "execution_count": 345,
   "metadata": {},
   "outputs": [],
   "source": [
    "differenced = difference(new_arima, 52)"
   ]
  },
  {
   "cell_type": "markdown",
   "metadata": {},
   "source": [
    "### График ниже находится полностью в границах доверительных интервалов, следовательно параметр AR=0 "
   ]
  },
  {
   "cell_type": "code",
   "execution_count": 349,
   "metadata": {},
   "outputs": [
    {
     "data": {
      "image/png": "[encoded data removed]",
      "text/plain": [
       "<Figure size 432x288 with 1 Axes>"
      ]
     },
     "metadata": {
      "needs_background": "light"
     },
     "output_type": "display_data"
    }
   ],
   "source": [
    "autocorrelation_plot(differenced);"
   ]
  },
  {
   "cell_type": "code",
   "execution_count": 354,
   "metadata": {},
   "outputs": [],
   "source": [
    "arima_model = ARIMA(differenced, order=(0,1,0))\n",
    "arima_model_fit = arima_model.fit(disp=0)"
   ]
  },
  {
   "cell_type": "code",
   "execution_count": 369,
   "metadata": {},
   "outputs": [],
   "source": [
    "start_index = len(differenced)\n",
    "end_index = start_index + 52\n",
    "forecast = arima_model_fit.forecast(steps=52)[0]\n",
    "history = [x for x in new_arima]\n",
    "prediction = []\n",
    "for yhat in forecast:\n",
    "    inverted = inverse_difference(history, yhat, 52)\n",
    "    prediction.append(inverted)\n",
    "    history.append(inverted)"
   ]
  },
  {
   "cell_type": "markdown",
   "metadata": {},
   "source": [
    "### Выведем предсказания "
   ]
  },
  {
   "cell_type": "code",
   "execution_count": 370,
   "metadata": {},
   "outputs": [
    {
     "data": {
      "text/plain": [
       "[array([1379.56521739]),\n",
       " array([6340.13043478]),\n",
       " array([847.69565217]),\n",
       " array([991.26086957]),\n",
       " array([809.82608696]),\n",
       " array([705.39130435]),\n",
       " array([662.95652174]),\n",
       " array([727.52173913]),\n",
       " array([4532.08695652]),\n",
       " array([1142.65217391]),\n",
       " array([1199.2173913]),\n",
       " array([1245.7826087]),\n",
       " array([1130.34782609]),\n",
       " array([1994.91304348]),\n",
       " array([1899.47826087]),\n",
       " array([1822.04347826]),\n",
       " array([2416.60869565]),\n",
       " array([1564.17391304]),\n",
       " array([1695.73913043]),\n",
       " array([1559.30434783]),\n",
       " array([1617.86956522]),\n",
       " array([1622.43478261]),\n",
       " array([2235.]),\n",
       " array([1803.56521739]),\n",
       " array([1810.13043478]),\n",
       " array([1745.69565217]),\n",
       " array([1936.26086957]),\n",
       " array([1028.82608696]),\n",
       " array([974.39130435]),\n",
       " array([1157.95652174]),\n",
       " array([1755.52173913]),\n",
       " array([1893.08695652]),\n",
       " array([4616.65217391]),\n",
       " array([1891.2173913]),\n",
       " array([1899.7826087]),\n",
       " array([5007.34782609]),\n",
       " array([1150.91304348]),\n",
       " array([2036.47826087]),\n",
       " array([1150.04347826]),\n",
       " array([1585.60869565]),\n",
       " array([1670.17391304]),\n",
       " array([1583.73913043]),\n",
       " array([1640.30434783]),\n",
       " array([1684.86956522]),\n",
       " array([1695.43478261]),\n",
       " array([1620.]),\n",
       " array([1549.56521739]),\n",
       " array([1472.13043478]),\n",
       " array([1544.69565217]),\n",
       " array([1212.26086957]),\n",
       " array([1097.82608696]),\n",
       " array([978.39130435])]"
      ]
     },
     "execution_count": 370,
     "metadata": {},
     "output_type": "execute_result"
    }
   ],
   "source": [
    "prediction"
   ]
  },
  {
   "cell_type": "markdown",
   "metadata": {},
   "source": [
    "### График предсказаний "
   ]
  },
  {
   "cell_type": "code",
   "execution_count": 371,
   "metadata": {},
   "outputs": [
    {
     "data": {
      "image/png": "[encoded data removed]",
      "text/plain": [
       "<Figure size 432x288 with 1 Axes>"
      ]
     },
     "metadata": {
      "needs_background": "light"
     },
     "output_type": "display_data"
    }
   ],
   "source": [
    "plt.plot(prediction);"
   ]
  },
  {
   "cell_type": "markdown",
   "metadata": {},
   "source": [
    "## Прогноз при помощи Simple Exponential Smoothing"
   ]
  },
  {
   "cell_type": "markdown",
   "metadata": {},
   "source": [
    "###  Метод простого экспоненциального сглаживания (SES) моделирует следующий временной шаг как экспоненциально взвешенную линейную функцию наблюдений на предыдущих временных шагах."
   ]
  },
  {
   "cell_type": "code",
   "execution_count": 226,
   "metadata": {},
   "outputs": [],
   "source": [
    "ses_train = df1[['ACTUAL']].copy()[:'2017-01-01']\n",
    "ses_test = df1[['ACTUAL']].copy()['2017-01-01':]"
   ]
  },
  {
   "cell_type": "code",
   "execution_count": 227,
   "metadata": {},
   "outputs": [
    {
     "name": "stdout",
     "output_type": "stream",
     "text": [
      "предсказанное=0.146980, ожидаемое=0.034194\n",
      "предсказанное=0.145852, ожидаемое=0.026329\n",
      "предсказанное=0.144669, ожидаемое=0.036758\n",
      "предсказанное=0.143611, ожидаемое=0.686613\n",
      "предсказанное=0.148883, ожидаемое=0.106514\n",
      "предсказанное=0.148475, ожидаемое=0.115575\n",
      "предсказанное=0.148162, ожидаемое=0.122927\n",
      "предсказанное=0.147924, ожидаемое=0.102582\n",
      "предсказанное=0.147500, ожидаемое=0.249786\n",
      "предсказанное=0.148447, ожидаемое=0.232860\n",
      "предсказанное=0.149222, ожидаемое=0.219012\n",
      "предсказанное=0.149856, ожидаемое=0.320055\n",
      "предсказанное=0.151390, ожидаемое=0.173705\n",
      "предсказанное=0.151589, ожидаемое=0.195589\n",
      "предсказанное=0.151978, ожидаемое=0.171653\n",
      "предсказанное=0.152151, ожидаемое=0.181057\n",
      "предсказанное=0.152402, ожидаемое=0.181228\n",
      "предсказанное=0.152651, ожидаемое=0.285348\n",
      "предсказанное=0.153785, ожидаемое=0.210976\n",
      "предсказанное=0.154269, ожидаемое=0.211489\n",
      "предсказанное=0.154750, ожидаемое=0.199863\n",
      "предсказанное=0.155126, ожидаемое=0.231835\n",
      "предсказанное=0.155760, ожидаемое=0.076081\n",
      "предсказанное=0.155107, ожидаемое=0.066165\n",
      "предсказанное=0.154384, ожидаемое=0.096940\n",
      "предсказанное=0.153921, ожидаемое=0.198495\n",
      "предсказанное=0.154277, ожидаемое=0.221405\n",
      "предсказанное=0.154810, ожидаемое=0.686442\n",
      "предсказанное=0.158996, ожидаемое=0.219867\n",
      "предсказанное=0.159472, ожидаемое=0.220721\n",
      "предсказанное=0.159947, ожидаемое=0.751410\n",
      "предсказанное=0.164496, ожидаемое=0.091469\n",
      "предсказанное=0.163939, ожидаемое=0.242264\n",
      "предсказанное=0.164532, ожидаемое=0.090101\n",
      "предсказанное=0.163973, ожидаемое=0.163960\n",
      "предсказанное=0.163972, ожидаемое=0.177808\n",
      "предсказанное=0.164075, ожидаемое=0.162421\n",
      "предсказанное=0.164063, ожидаемое=0.171482\n",
      "предсказанное=0.164117, ожидаемое=0.178492\n",
      "предсказанное=0.164221, ожидаемое=0.179689\n",
      "предсказанное=0.164332, ожидаемое=0.166182\n",
      "предсказанное=0.164346, ожидаемое=0.153531\n",
      "предсказанное=0.164269, ожидаемое=0.139682\n",
      "предсказанное=0.164096, ожидаемое=0.151479\n",
      "предсказанное=0.164007, ожидаемое=0.094033\n",
      "предсказанное=0.163522, ожидаемое=0.073859\n",
      "предсказанное=0.162903, ожидаемое=0.052830\n"
     ]
    }
   ],
   "source": [
    "train = ses_train.values\n",
    "test = ses_test.values\n",
    "new_train = [x for x in train]\n",
    "prediction = []\n",
    "for i in range(len(test)):\n",
    "    ses_model = SimpleExpSmoothing(new_train)\n",
    "    ses_model_fit = ses_model.fit()\n",
    "    pred = ses_model_fit.forecast(12)\n",
    "    prediction.append(pred[0])\n",
    "    new_train.append(test[i])\n",
    "    print('предсказанное=%f, ожидаемое=%f' % (pred[0], test[i]))"
   ]
  },
  {
   "cell_type": "markdown",
   "metadata": {},
   "source": [
    "### Среднеквадратическая ошибка "
   ]
  },
  {
   "cell_type": "code",
   "execution_count": 228,
   "metadata": {},
   "outputs": [
    {
     "data": {
      "text/plain": [
       "0.024141909764570497"
      ]
     },
     "execution_count": 228,
     "metadata": {},
     "output_type": "execute_result"
    }
   ],
   "source": [
    "mean_squared_error(test, prediction)"
   ]
  },
  {
   "cell_type": "markdown",
   "metadata": {},
   "source": [
    "### Графики ожидаемого и предсказанного "
   ]
  },
  {
   "cell_type": "code",
   "execution_count": 229,
   "metadata": {},
   "outputs": [
    {
     "data": {
      "image/png": "[encoded data removed]",
      "text/plain": [
       "<Figure size 432x288 with 1 Axes>"
      ]
     },
     "metadata": {
      "needs_background": "light"
     },
     "output_type": "display_data"
    }
   ],
   "source": [
    "plt.plot(test);\n",
    "plt.plot(prediction, color='red');"
   ]
  },
  {
   "cell_type": "markdown",
   "metadata": {},
   "source": [
    "### Сделаем теперь предсказание на новый год "
   ]
  },
  {
   "cell_type": "code",
   "execution_count": 230,
   "metadata": {},
   "outputs": [],
   "source": [
    "new_ses = [x for x in df1[['ACTUAL']].copy().values]\n",
    "prediction = []\n",
    "for i in range(52):\n",
    "    ses_model = SimpleExpSmoothing(new_ses)\n",
    "    ses_model_fit = ses_model.fit()\n",
    "    pred = ses_model_fit.predict(len(new_ses), len(new_ses))\n",
    "    prediction.append(pred)\n",
    "    new_arima.append(pred)"
   ]
  },
  {
   "cell_type": "markdown",
   "metadata": {},
   "source": [
    "### Выведем предсказания "
   ]
  },
  {
   "cell_type": "code",
   "execution_count": 231,
   "metadata": {},
   "outputs": [
    {
     "data": {
      "text/plain": [
       "[array([0.1630317]),\n",
       " array([0.1630317]),\n",
       " array([0.1630317]),\n",
       " array([0.1630317]),\n",
       " array([0.1630317]),\n",
       " array([0.1630317]),\n",
       " array([0.1630317]),\n",
       " array([0.1630317]),\n",
       " array([0.1630317]),\n",
       " array([0.1630317]),\n",
       " array([0.1630317]),\n",
       " array([0.1630317]),\n",
       " array([0.1630317]),\n",
       " array([0.1630317]),\n",
       " array([0.1630317]),\n",
       " array([0.1630317]),\n",
       " array([0.1630317]),\n",
       " array([0.1630317]),\n",
       " array([0.1630317]),\n",
       " array([0.1630317]),\n",
       " array([0.1630317]),\n",
       " array([0.1630317]),\n",
       " array([0.1630317]),\n",
       " array([0.1630317]),\n",
       " array([0.1630317]),\n",
       " array([0.1630317]),\n",
       " array([0.1630317]),\n",
       " array([0.1630317]),\n",
       " array([0.1630317]),\n",
       " array([0.1630317]),\n",
       " array([0.1630317]),\n",
       " array([0.1630317]),\n",
       " array([0.1630317]),\n",
       " array([0.1630317]),\n",
       " array([0.1630317]),\n",
       " array([0.1630317]),\n",
       " array([0.1630317]),\n",
       " array([0.1630317]),\n",
       " array([0.1630317]),\n",
       " array([0.1630317]),\n",
       " array([0.1630317]),\n",
       " array([0.1630317]),\n",
       " array([0.1630317]),\n",
       " array([0.1630317]),\n",
       " array([0.1630317]),\n",
       " array([0.1630317]),\n",
       " array([0.1630317]),\n",
       " array([0.1630317]),\n",
       " array([0.1630317]),\n",
       " array([0.1630317]),\n",
       " array([0.1630317]),\n",
       " array([0.1630317])]"
      ]
     },
     "execution_count": 231,
     "metadata": {},
     "output_type": "execute_result"
    }
   ],
   "source": [
    "prediction"
   ]
  },
  {
   "cell_type": "markdown",
   "metadata": {},
   "source": [
    "### График предсказаний "
   ]
  },
  {
   "cell_type": "code",
   "execution_count": 232,
   "metadata": {},
   "outputs": [
    {
     "data": {
      "image/png": "[encoded data removed]",
      "text/plain": [
       "<Figure size 432x288 with 1 Axes>"
      ]
     },
     "metadata": {
      "needs_background": "light"
     },
     "output_type": "display_data"
    }
   ],
   "source": [
    "plt.plot(prediction);"
   ]
  },
  {
   "cell_type": "markdown",
   "metadata": {},
   "source": [
    "### Видно, что модель делает прогноз плохо "
   ]
  },
  {
   "cell_type": "markdown",
   "metadata": {},
   "source": [
    "## Посмотрим теперь работу линейной регрессии на этих данных "
   ]
  },
  {
   "cell_type": "markdown",
   "metadata": {},
   "source": [
    "### В очередной раз проверим работу на тестовой выборке "
   ]
  },
  {
   "cell_type": "code",
   "execution_count": 233,
   "metadata": {},
   "outputs": [],
   "source": [
    "X = df1[['PROMO']].copy()"
   ]
  },
  {
   "cell_type": "code",
   "execution_count": 234,
   "metadata": {},
   "outputs": [],
   "source": [
    "y = df1[['ACTUAL']].copy()"
   ]
  },
  {
   "cell_type": "code",
   "execution_count": 235,
   "metadata": {},
   "outputs": [],
   "source": [
    "X_train, X_test, y_train, y_test = train_test_split(X, y, test_size=0.33, random_state=42)"
   ]
  },
  {
   "cell_type": "markdown",
   "metadata": {},
   "source": [
    "### Обучаем модель "
   ]
  },
  {
   "cell_type": "code",
   "execution_count": 236,
   "metadata": {},
   "outputs": [],
   "source": [
    "reg = LinearRegression().fit(X_train, y_train)"
   ]
  },
  {
   "cell_type": "markdown",
   "metadata": {},
   "source": [
    "### Строим прогноз "
   ]
  },
  {
   "cell_type": "code",
   "execution_count": 237,
   "metadata": {},
   "outputs": [],
   "source": [
    "prediction = reg.predict(X_test)"
   ]
  },
  {
   "cell_type": "markdown",
   "metadata": {},
   "source": [
    "### Среднеквадратическая ошибка "
   ]
  },
  {
   "cell_type": "code",
   "execution_count": 238,
   "metadata": {},
   "outputs": [
    {
     "data": {
      "text/plain": [
       "0.04534889320792337"
      ]
     },
     "execution_count": 238,
     "metadata": {},
     "output_type": "execute_result"
    }
   ],
   "source": [
    "mean_squared_error(np.asarray(y_test), prediction)"
   ]
  },
  {
   "cell_type": "markdown",
   "metadata": {},
   "source": [
    "### Выводим графики ожидаемого и предсказанного "
   ]
  },
  {
   "cell_type": "code",
   "execution_count": 239,
   "metadata": {},
   "outputs": [
    {
     "data": {
      "image/png": "[encoded data removed]",
      "text/plain": [
       "<Figure size 432x288 with 1 Axes>"
      ]
     },
     "metadata": {
      "needs_background": "light"
     },
     "output_type": "display_data"
    }
   ],
   "source": [
    "plt.plot(np.asarray(y_test));\n",
    "plt.plot(prediction, color='red');"
   ]
  },
  {
   "cell_type": "markdown",
   "metadata": {},
   "source": [
    "### Видно из графика, что модель достаточно хорошо предсказывает увеличение продаж во время акций, однако не может точно предсказать на сколько они вырастут"
   ]
  },
  {
   "cell_type": "markdown",
   "metadata": {},
   "source": [
    "### Сделаем прогноз на следующий год "
   ]
  },
  {
   "cell_type": "code",
   "execution_count": 240,
   "metadata": {},
   "outputs": [],
   "source": [
    "fut_first_prod1.set_index('WEEK', inplace=True)"
   ]
  },
  {
   "cell_type": "code",
   "execution_count": 241,
   "metadata": {},
   "outputs": [],
   "source": [
    "reg = LinearRegression().fit(X, y)"
   ]
  },
  {
   "cell_type": "code",
   "execution_count": 242,
   "metadata": {},
   "outputs": [],
   "source": [
    "prediction = reg.predict(fut_first_prod1)"
   ]
  },
  {
   "cell_type": "code",
   "execution_count": 243,
   "metadata": {},
   "outputs": [
    {
     "data": {
      "text/plain": [
       "array([[0.09456003],\n",
       "       [0.19798078],\n",
       "       [0.19798078],\n",
       "       [0.19798078],\n",
       "       [0.19798078],\n",
       "       [0.19798078],\n",
       "       [0.19798078],\n",
       "       [0.19798078],\n",
       "       [0.19798078],\n",
       "       [0.19798078],\n",
       "       [0.19798078],\n",
       "       [0.19798078],\n",
       "       [0.19798078],\n",
       "       [0.19798078],\n",
       "       [0.19798078],\n",
       "       [0.19798078],\n",
       "       [0.19798078],\n",
       "       [0.19798078],\n",
       "       [0.19798078],\n",
       "       [0.19798078],\n",
       "       [0.19798078],\n",
       "       [0.19798078],\n",
       "       [0.19798078],\n",
       "       [0.19798078],\n",
       "       [0.19798078],\n",
       "       [0.19798078],\n",
       "       [0.19798078],\n",
       "       [0.19798078],\n",
       "       [0.19798078],\n",
       "       [0.19798078],\n",
       "       [0.19798078],\n",
       "       [0.19798078],\n",
       "       [0.19798078],\n",
       "       [0.19798078],\n",
       "       [0.19798078],\n",
       "       [0.19798078],\n",
       "       [0.09456003],\n",
       "       [0.09456003],\n",
       "       [0.09456003],\n",
       "       [0.09456003],\n",
       "       [0.09456003],\n",
       "       [0.19798078],\n",
       "       [0.09456003],\n",
       "       [0.09456003],\n",
       "       [0.19798078],\n",
       "       [0.19798078],\n",
       "       [0.19798078],\n",
       "       [0.19798078],\n",
       "       [0.19798078],\n",
       "       [0.19798078],\n",
       "       [0.19798078],\n",
       "       [0.19798078],\n",
       "       [0.19798078]])"
      ]
     },
     "execution_count": 243,
     "metadata": {},
     "output_type": "execute_result"
    }
   ],
   "source": [
    "prediction"
   ]
  },
  {
   "cell_type": "code",
   "execution_count": 244,
   "metadata": {},
   "outputs": [
    {
     "data": {
      "image/png": "[encoded data removed]",
      "text/plain": [
       "<Figure size 432x288 with 1 Axes>"
      ]
     },
     "metadata": {
      "needs_background": "light"
     },
     "output_type": "display_data"
    }
   ],
   "source": [
    "plt.plot(prediction, color='red');"
   ]
  },
  {
   "cell_type": "code",
   "execution_count": null,
   "metadata": {},
   "outputs": [],
   "source": []
  },
  {
   "cell_type": "code",
   "execution_count": 245,
   "metadata": {},
   "outputs": [
    {
     "data": {
      "text/html": [
       "<div>\n",
       "<style scoped>\n",
       "    .dataframe tbody tr th:only-of-type {\n",
       "        vertical-align: middle;\n",
       "    }\n",
       "\n",
       "    .dataframe tbody tr th {\n",
       "        vertical-align: top;\n",
       "    }\n",
       "\n",
       "    .dataframe thead th {\n",
       "        text-align: right;\n",
       "    }\n",
       "</style>\n",
       "<table border=\"1\" class=\"dataframe\">\n",
       "  <thead>\n",
       "    <tr style=\"text-align: right;\">\n",
       "      <th></th>\n",
       "      <th>WEEK</th>\n",
       "      <th>PLN</th>\n",
       "      <th>PLN_LABEL</th>\n",
       "      <th>PRODUCT_CATEGORY</th>\n",
       "      <th>PRODUCT_CATEGORY_LABEL</th>\n",
       "      <th>OPSTUDY</th>\n",
       "      <th>OPSTUDY_LABEL</th>\n",
       "      <th>ACTUAL</th>\n",
       "      <th>BU</th>\n",
       "      <th>SEG</th>\n",
       "      <th>PROMO</th>\n",
       "    </tr>\n",
       "  </thead>\n",
       "  <tbody>\n",
       "    <tr>\n",
       "      <th>0</th>\n",
       "      <td>1160529</td>\n",
       "      <td>40000223091</td>\n",
       "      <td>NIDO MILK PWDR NIDO FCRM  28.16OZ</td>\n",
       "      <td>006-108</td>\n",
       "      <td>ETHNIC</td>\n",
       "      <td>6</td>\n",
       "      <td>GENERAL GROCERIES</td>\n",
       "      <td>2</td>\n",
       "      <td>Consumables</td>\n",
       "      <td>B</td>\n",
       "      <td>N</td>\n",
       "    </tr>\n",
       "    <tr>\n",
       "      <th>1</th>\n",
       "      <td>1160529</td>\n",
       "      <td>40000223091</td>\n",
       "      <td>NIDO MILK PWDR NIDO FCRM  28.16OZ</td>\n",
       "      <td>006-108</td>\n",
       "      <td>ETHNIC</td>\n",
       "      <td>6</td>\n",
       "      <td>GENERAL GROCERIES</td>\n",
       "      <td>36</td>\n",
       "      <td>Consumables</td>\n",
       "      <td>C4</td>\n",
       "      <td>N</td>\n",
       "    </tr>\n",
       "    <tr>\n",
       "      <th>2</th>\n",
       "      <td>1160529</td>\n",
       "      <td>40000755059</td>\n",
       "      <td>FUNGICURE ANTIFUNGL LIQ       1OZ</td>\n",
       "      <td>047-001</td>\n",
       "      <td>ANTI-FUNGAL</td>\n",
       "      <td>47</td>\n",
       "      <td>FOOT NEEDS</td>\n",
       "      <td>1198</td>\n",
       "      <td>Health/Wellness</td>\n",
       "      <td>A</td>\n",
       "      <td>Y</td>\n",
       "    </tr>\n",
       "    <tr>\n",
       "      <th>3</th>\n",
       "      <td>1160529</td>\n",
       "      <td>40000755059</td>\n",
       "      <td>FUNGICURE ANTIFUNGL LIQ       1OZ</td>\n",
       "      <td>047-001</td>\n",
       "      <td>ANTI-FUNGAL</td>\n",
       "      <td>47</td>\n",
       "      <td>FOOT NEEDS</td>\n",
       "      <td>9</td>\n",
       "      <td>Health/Wellness</td>\n",
       "      <td>A</td>\n",
       "      <td>N</td>\n",
       "    </tr>\n",
       "    <tr>\n",
       "      <th>4</th>\n",
       "      <td>1160529</td>\n",
       "      <td>40000755059</td>\n",
       "      <td>FUNGICURE ANTIFUNGL LIQ       1OZ</td>\n",
       "      <td>047-001</td>\n",
       "      <td>ANTI-FUNGAL</td>\n",
       "      <td>47</td>\n",
       "      <td>FOOT NEEDS</td>\n",
       "      <td>1479</td>\n",
       "      <td>Health/Wellness</td>\n",
       "      <td>C1</td>\n",
       "      <td>Y</td>\n",
       "    </tr>\n",
       "  </tbody>\n",
       "</table>\n",
       "</div>"
      ],
      "text/plain": [
       "      WEEK          PLN                          PLN_LABEL PRODUCT_CATEGORY  \\\n",
       "0  1160529  40000223091  NIDO MILK PWDR NIDO FCRM  28.16OZ          006-108   \n",
       "1  1160529  40000223091  NIDO MILK PWDR NIDO FCRM  28.16OZ          006-108   \n",
       "2  1160529  40000755059  FUNGICURE ANTIFUNGL LIQ       1OZ          047-001   \n",
       "3  1160529  40000755059  FUNGICURE ANTIFUNGL LIQ       1OZ          047-001   \n",
       "4  1160529  40000755059  FUNGICURE ANTIFUNGL LIQ       1OZ          047-001   \n",
       "\n",
       "  PRODUCT_CATEGORY_LABEL OPSTUDY      OPSTUDY_LABEL ACTUAL               BU  \\\n",
       "0                 ETHNIC       6  GENERAL GROCERIES      2      Consumables   \n",
       "1                 ETHNIC       6  GENERAL GROCERIES     36      Consumables   \n",
       "2            ANTI-FUNGAL      47         FOOT NEEDS   1198  Health/Wellness   \n",
       "3            ANTI-FUNGAL      47         FOOT NEEDS      9  Health/Wellness   \n",
       "4            ANTI-FUNGAL      47         FOOT NEEDS   1479  Health/Wellness   \n",
       "\n",
       "  SEG PROMO  \n",
       "0   B     N  \n",
       "1  C4     N  \n",
       "2   A     Y  \n",
       "3   A     N  \n",
       "4  C1     Y  "
      ]
     },
     "execution_count": 245,
     "metadata": {},
     "output_type": "execute_result"
    }
   ],
   "source": [
    "data.head()"
   ]
  },
  {
   "cell_type": "code",
   "execution_count": 246,
   "metadata": {},
   "outputs": [],
   "source": [
    "consum = data[data['BU']=='Consumables']"
   ]
  },
  {
   "cell_type": "code",
   "execution_count": 247,
   "metadata": {},
   "outputs": [
    {
     "name": "stdout",
     "output_type": "stream",
     "text": [
      "EASTER\n"
     ]
    }
   ],
   "source": [
    "for i in range(len(consum)):\n",
    "    if 'EASTER' in consum.iloc[i]['PRODUCT_CATEGORY_LABEL']:\n",
    "        print(consum.iloc[i]['PRODUCT_CATEGORY_LABEL'])\n",
    "        break"
   ]
  },
  {
   "cell_type": "code",
   "execution_count": 248,
   "metadata": {},
   "outputs": [],
   "source": [
    "easter = consum[consum['PRODUCT_CATEGORY_LABEL']=='EASTER']"
   ]
  },
  {
   "cell_type": "code",
   "execution_count": 249,
   "metadata": {},
   "outputs": [
    {
     "data": {
      "text/html": [
       "<div>\n",
       "<style scoped>\n",
       "    .dataframe tbody tr th:only-of-type {\n",
       "        vertical-align: middle;\n",
       "    }\n",
       "\n",
       "    .dataframe tbody tr th {\n",
       "        vertical-align: top;\n",
       "    }\n",
       "\n",
       "    .dataframe thead th {\n",
       "        text-align: right;\n",
       "    }\n",
       "</style>\n",
       "<table border=\"1\" class=\"dataframe\">\n",
       "  <thead>\n",
       "    <tr style=\"text-align: right;\">\n",
       "      <th></th>\n",
       "      <th>WEEK</th>\n",
       "      <th>PLN</th>\n",
       "      <th>PLN_LABEL</th>\n",
       "      <th>PRODUCT_CATEGORY</th>\n",
       "      <th>PRODUCT_CATEGORY_LABEL</th>\n",
       "      <th>OPSTUDY</th>\n",
       "      <th>OPSTUDY_LABEL</th>\n",
       "      <th>ACTUAL</th>\n",
       "      <th>BU</th>\n",
       "      <th>SEG</th>\n",
       "      <th>PROMO</th>\n",
       "    </tr>\n",
       "  </thead>\n",
       "  <tbody>\n",
       "    <tr>\n",
       "      <th>105112</th>\n",
       "      <td>1160529</td>\n",
       "      <td>40000925255</td>\n",
       "      <td>CADBURY DAIRY MILK FRUIT&amp;NUT 5.4Z</td>\n",
       "      <td>050-004</td>\n",
       "      <td>EASTER</td>\n",
       "      <td>50</td>\n",
       "      <td>CANDY BAG</td>\n",
       "      <td>3289</td>\n",
       "      <td>Consumables</td>\n",
       "      <td>C4</td>\n",
       "      <td>Y</td>\n",
       "    </tr>\n",
       "    <tr>\n",
       "      <th>105113</th>\n",
       "      <td>1160529</td>\n",
       "      <td>40000925255</td>\n",
       "      <td>CADBURY DAIRY MILK FRUIT&amp;NUT 5.4Z</td>\n",
       "      <td>050-004</td>\n",
       "      <td>EASTER</td>\n",
       "      <td>50</td>\n",
       "      <td>CANDY BAG</td>\n",
       "      <td>873</td>\n",
       "      <td>Consumables</td>\n",
       "      <td>C4</td>\n",
       "      <td>N</td>\n",
       "    </tr>\n",
       "    <tr>\n",
       "      <th>105114</th>\n",
       "      <td>1160529</td>\n",
       "      <td>40000925255</td>\n",
       "      <td>CADBURY DAIRY MILK FRUIT&amp;NUT 5.4Z</td>\n",
       "      <td>050-004</td>\n",
       "      <td>EASTER</td>\n",
       "      <td>50</td>\n",
       "      <td>CANDY BAG</td>\n",
       "      <td>0</td>\n",
       "      <td>Consumables</td>\n",
       "      <td>B</td>\n",
       "      <td>Y</td>\n",
       "    </tr>\n",
       "    <tr>\n",
       "      <th>105115</th>\n",
       "      <td>1160529</td>\n",
       "      <td>40000925255</td>\n",
       "      <td>CADBURY DAIRY MILK FRUIT&amp;NUT 5.4Z</td>\n",
       "      <td>050-004</td>\n",
       "      <td>EASTER</td>\n",
       "      <td>50</td>\n",
       "      <td>CANDY BAG</td>\n",
       "      <td>51</td>\n",
       "      <td>Consumables</td>\n",
       "      <td>NoSegment-C</td>\n",
       "      <td>N</td>\n",
       "    </tr>\n",
       "    <tr>\n",
       "      <th>113849</th>\n",
       "      <td>1160529</td>\n",
       "      <td>40000925592</td>\n",
       "      <td>NICE JELLY BEANS 7OZ</td>\n",
       "      <td>050-004</td>\n",
       "      <td>EASTER</td>\n",
       "      <td>50</td>\n",
       "      <td>CANDY BAG</td>\n",
       "      <td>11153</td>\n",
       "      <td>Consumables</td>\n",
       "      <td>A</td>\n",
       "      <td>N</td>\n",
       "    </tr>\n",
       "  </tbody>\n",
       "</table>\n",
       "</div>"
      ],
      "text/plain": [
       "           WEEK          PLN                          PLN_LABEL  \\\n",
       "105112  1160529  40000925255  CADBURY DAIRY MILK FRUIT&NUT 5.4Z   \n",
       "105113  1160529  40000925255  CADBURY DAIRY MILK FRUIT&NUT 5.4Z   \n",
       "105114  1160529  40000925255  CADBURY DAIRY MILK FRUIT&NUT 5.4Z   \n",
       "105115  1160529  40000925255  CADBURY DAIRY MILK FRUIT&NUT 5.4Z   \n",
       "113849  1160529  40000925592               NICE JELLY BEANS 7OZ   \n",
       "\n",
       "       PRODUCT_CATEGORY PRODUCT_CATEGORY_LABEL OPSTUDY OPSTUDY_LABEL ACTUAL  \\\n",
       "105112          050-004                 EASTER      50     CANDY BAG   3289   \n",
       "105113          050-004                 EASTER      50     CANDY BAG    873   \n",
       "105114          050-004                 EASTER      50     CANDY BAG      0   \n",
       "105115          050-004                 EASTER      50     CANDY BAG     51   \n",
       "113849          050-004                 EASTER      50     CANDY BAG  11153   \n",
       "\n",
       "                 BU          SEG PROMO  \n",
       "105112  Consumables           C4     Y  \n",
       "105113  Consumables           C4     N  \n",
       "105114  Consumables            B     Y  \n",
       "105115  Consumables  NoSegment-C     N  \n",
       "113849  Consumables            A     N  "
      ]
     },
     "execution_count": 249,
     "metadata": {},
     "output_type": "execute_result"
    }
   ],
   "source": [
    "easter.head()"
   ]
  },
  {
   "cell_type": "code",
   "execution_count": 250,
   "metadata": {},
   "outputs": [],
   "source": [
    "easter.drop(['PRODUCT_CATEGORY', 'PRODUCT_CATEGORY_LABEL', 'OPSTUDY', 'OPSTUDY_LABEL', 'BU'], axis=1, inplace=True)"
   ]
  },
  {
   "cell_type": "code",
   "execution_count": 251,
   "metadata": {
    "scrolled": false
   },
   "outputs": [],
   "source": [
    "easter['WEEK'] = easter['WEEK'].apply(lambda x: str(x))"
   ]
  },
  {
   "cell_type": "code",
   "execution_count": 252,
   "metadata": {},
   "outputs": [],
   "source": [
    "easter['PLN'] = easter['PLN'].apply(lambda x: str(x))"
   ]
  },
  {
   "cell_type": "code",
   "execution_count": 253,
   "metadata": {},
   "outputs": [],
   "source": [
    "easter['PLN_LABEL'] = easter['PLN_LABEL'].apply(lambda x: str(x))"
   ]
  },
  {
   "cell_type": "code",
   "execution_count": 254,
   "metadata": {},
   "outputs": [],
   "source": [
    "easter['ACTUAL'] = easter['ACTUAL'].apply(lambda x: float(x))"
   ]
  },
  {
   "cell_type": "code",
   "execution_count": 255,
   "metadata": {},
   "outputs": [],
   "source": [
    "easter['SEG'] = easter['SEG'].apply(lambda x: str(x))"
   ]
  },
  {
   "cell_type": "code",
   "execution_count": 256,
   "metadata": {
    "scrolled": true
   },
   "outputs": [],
   "source": [
    "easter['PROMO'] = easter['PROMO'].apply(lambda x: str(x))"
   ]
  },
  {
   "cell_type": "markdown",
   "metadata": {},
   "source": [
    "## Преобразуем признак WEEK в datetime и создадим три новых колонки: YEAR, MONTH, DAY для того, чтобы, например, посмотреть как менялись продажи товара каждый месяц в разные года"
   ]
  },
  {
   "cell_type": "markdown",
   "metadata": {},
   "source": [
    "### Колонка WEEK имеет неподходящий вид для перевода в тип datetime, поэтому напишем функцию, чтобы немного преобразовать данные в этой колонке"
   ]
  },
  {
   "cell_type": "code",
   "execution_count": 257,
   "metadata": {
    "scrolled": true
   },
   "outputs": [],
   "source": [
    "easter['WEEK'] = easter['WEEK'].apply(lambda x: date_divide(x))"
   ]
  },
  {
   "cell_type": "markdown",
   "metadata": {},
   "source": [
    "### Переводим данные в дату "
   ]
  },
  {
   "cell_type": "code",
   "execution_count": 258,
   "metadata": {},
   "outputs": [],
   "source": [
    "easter['WEEK'] = pd.to_datetime(easter['WEEK'])"
   ]
  },
  {
   "cell_type": "markdown",
   "metadata": {},
   "source": [
    "### Создаем новые три колонки с годом, месяцем и днем (неделей) "
   ]
  },
  {
   "cell_type": "code",
   "execution_count": 259,
   "metadata": {},
   "outputs": [],
   "source": [
    "easter['YEAR'] = [d.year for d in easter['WEEK']]\n",
    "easter['MONTH'] = [d.month for d in easter['WEEK']]\n",
    "easter['DAY'] = [d.day for d in easter['WEEK']]"
   ]
  },
  {
   "cell_type": "markdown",
   "metadata": {},
   "source": [
    "## Заменим значения признака SEG на числовые "
   ]
  },
  {
   "cell_type": "markdown",
   "metadata": {},
   "source": [
    "### Создаем словарь, дге каждому строковому значению признака соответствует число "
   ]
  },
  {
   "cell_type": "code",
   "execution_count": 260,
   "metadata": {},
   "outputs": [],
   "source": [
    "easter['SEG'] = easter['SEG'].replace(seg_dic)"
   ]
  },
  {
   "cell_type": "markdown",
   "metadata": {},
   "source": [
    "## Если в датасете имеются отрицательные значения продаж, то заменим их на нулевые"
   ]
  },
  {
   "cell_type": "code",
   "execution_count": 261,
   "metadata": {},
   "outputs": [],
   "source": [
    "easter['ACTUAL'] = easter['ACTUAL'].apply(lambda x: replace_negative(x))"
   ]
  },
  {
   "cell_type": "markdown",
   "metadata": {},
   "source": [
    "## Заменим значения PROMO 'Y', 'N' на 1, 0"
   ]
  },
  {
   "cell_type": "code",
   "execution_count": 262,
   "metadata": {},
   "outputs": [],
   "source": [
    "easter['PROMO'] = easter['PROMO'].replace(promo_dic)"
   ]
  },
  {
   "cell_type": "markdown",
   "metadata": {},
   "source": [
    "## Взглянем на получившейся набор после преобразований "
   ]
  },
  {
   "cell_type": "code",
   "execution_count": 263,
   "metadata": {},
   "outputs": [
    {
     "data": {
      "text/html": [
       "<div>\n",
       "<style scoped>\n",
       "    .dataframe tbody tr th:only-of-type {\n",
       "        vertical-align: middle;\n",
       "    }\n",
       "\n",
       "    .dataframe tbody tr th {\n",
       "        vertical-align: top;\n",
       "    }\n",
       "\n",
       "    .dataframe thead th {\n",
       "        text-align: right;\n",
       "    }\n",
       "</style>\n",
       "<table border=\"1\" class=\"dataframe\">\n",
       "  <thead>\n",
       "    <tr style=\"text-align: right;\">\n",
       "      <th></th>\n",
       "      <th>WEEK</th>\n",
       "      <th>PLN</th>\n",
       "      <th>PLN_LABEL</th>\n",
       "      <th>ACTUAL</th>\n",
       "      <th>SEG</th>\n",
       "      <th>PROMO</th>\n",
       "      <th>YEAR</th>\n",
       "      <th>MONTH</th>\n",
       "      <th>DAY</th>\n",
       "    </tr>\n",
       "  </thead>\n",
       "  <tbody>\n",
       "    <tr>\n",
       "      <th>105112</th>\n",
       "      <td>2016-05-29</td>\n",
       "      <td>40000925255</td>\n",
       "      <td>CADBURY DAIRY MILK FRUIT&amp;NUT 5.4Z</td>\n",
       "      <td>3289.0</td>\n",
       "      <td>7</td>\n",
       "      <td>1</td>\n",
       "      <td>2016</td>\n",
       "      <td>5</td>\n",
       "      <td>29</td>\n",
       "    </tr>\n",
       "    <tr>\n",
       "      <th>105113</th>\n",
       "      <td>2016-05-29</td>\n",
       "      <td>40000925255</td>\n",
       "      <td>CADBURY DAIRY MILK FRUIT&amp;NUT 5.4Z</td>\n",
       "      <td>873.0</td>\n",
       "      <td>7</td>\n",
       "      <td>0</td>\n",
       "      <td>2016</td>\n",
       "      <td>5</td>\n",
       "      <td>29</td>\n",
       "    </tr>\n",
       "    <tr>\n",
       "      <th>105114</th>\n",
       "      <td>2016-05-29</td>\n",
       "      <td>40000925255</td>\n",
       "      <td>CADBURY DAIRY MILK FRUIT&amp;NUT 5.4Z</td>\n",
       "      <td>0.0</td>\n",
       "      <td>2</td>\n",
       "      <td>1</td>\n",
       "      <td>2016</td>\n",
       "      <td>5</td>\n",
       "      <td>29</td>\n",
       "    </tr>\n",
       "    <tr>\n",
       "      <th>105115</th>\n",
       "      <td>2016-05-29</td>\n",
       "      <td>40000925255</td>\n",
       "      <td>CADBURY DAIRY MILK FRUIT&amp;NUT 5.4Z</td>\n",
       "      <td>51.0</td>\n",
       "      <td>8</td>\n",
       "      <td>0</td>\n",
       "      <td>2016</td>\n",
       "      <td>5</td>\n",
       "      <td>29</td>\n",
       "    </tr>\n",
       "    <tr>\n",
       "      <th>113849</th>\n",
       "      <td>2016-05-29</td>\n",
       "      <td>40000925592</td>\n",
       "      <td>NICE JELLY BEANS 7OZ</td>\n",
       "      <td>11153.0</td>\n",
       "      <td>0</td>\n",
       "      <td>0</td>\n",
       "      <td>2016</td>\n",
       "      <td>5</td>\n",
       "      <td>29</td>\n",
       "    </tr>\n",
       "  </tbody>\n",
       "</table>\n",
       "</div>"
      ],
      "text/plain": [
       "             WEEK          PLN                          PLN_LABEL   ACTUAL  \\\n",
       "105112 2016-05-29  40000925255  CADBURY DAIRY MILK FRUIT&NUT 5.4Z   3289.0   \n",
       "105113 2016-05-29  40000925255  CADBURY DAIRY MILK FRUIT&NUT 5.4Z    873.0   \n",
       "105114 2016-05-29  40000925255  CADBURY DAIRY MILK FRUIT&NUT 5.4Z      0.0   \n",
       "105115 2016-05-29  40000925255  CADBURY DAIRY MILK FRUIT&NUT 5.4Z     51.0   \n",
       "113849 2016-05-29  40000925592               NICE JELLY BEANS 7OZ  11153.0   \n",
       "\n",
       "        SEG PROMO  YEAR  MONTH  DAY  \n",
       "105112    7     1  2016      5   29  \n",
       "105113    7     0  2016      5   29  \n",
       "105114    2     1  2016      5   29  \n",
       "105115    8     0  2016      5   29  \n",
       "113849    0     0  2016      5   29  "
      ]
     },
     "execution_count": 263,
     "metadata": {},
     "output_type": "execute_result"
    }
   ],
   "source": [
    "easter.head()"
   ]
  },
  {
   "cell_type": "code",
   "execution_count": 264,
   "metadata": {},
   "outputs": [
    {
     "data": {
      "image/png": "[encoded data removed]",
      "text/plain": [
       "<Figure size 432x288 with 1 Axes>"
      ]
     },
     "metadata": {
      "needs_background": "light"
     },
     "output_type": "display_data"
    }
   ],
   "source": [
    "easter['ACTUAL'].hist(bins=100);"
   ]
  },
  {
   "cell_type": "markdown",
   "metadata": {},
   "source": [
    "## Выведем диаграмму продаж помесячно в разные года "
   ]
  },
  {
   "cell_type": "code",
   "execution_count": 265,
   "metadata": {
    "scrolled": true
   },
   "outputs": [
    {
     "data": {
      "image/png": "[encoded data removed]",
      "text/plain": [
       "<Figure size 421.375x360 with 1 Axes>"
      ]
     },
     "metadata": {
      "needs_background": "light"
     },
     "output_type": "display_data"
    }
   ],
   "source": [
    "sns.catplot(x='MONTH', y='ACTUAL', hue='YEAR', data=easter, kind='bar', palette='muted');"
   ]
  },
  {
   "cell_type": "markdown",
   "metadata": {},
   "source": [
    "### Сразу видно, что товары сезонные, так как продаются только весной перед пасхой "
   ]
  },
  {
   "cell_type": "markdown",
   "metadata": {},
   "source": [
    "## Исходя из диаграммы продаж, видно, что в 2015 году товары продавались гораздо активнее по сравнению с другими годами. Возможно это как-то связано с акциями "
   ]
  },
  {
   "cell_type": "code",
   "execution_count": 266,
   "metadata": {},
   "outputs": [
    {
     "data": {
      "image/png": "[encoded data removed]",
      "text/plain": [
       "<Figure size 432x288 with 1 Axes>"
      ]
     },
     "metadata": {
      "needs_background": "light"
     },
     "output_type": "display_data"
    }
   ],
   "source": [
    "sns.countplot(x='YEAR', hue='PROMO', data=easter);"
   ]
  },
  {
   "cell_type": "markdown",
   "metadata": {},
   "source": [
    "### Однако диаграмма количества акций говорит нам об обратном. Оказывается наибольшее число акций было в 2016 году "
   ]
  },
  {
   "cell_type": "code",
   "execution_count": 267,
   "metadata": {},
   "outputs": [
    {
     "data": {
      "text/plain": [
       "SCATCH BALL & DISC CTCH GAME         180\n",
       "(E)MARS M&MS MALT ESTR 9.9OZ          58\n",
       "(E)PLUSH ANIMAL PPR AST               45\n",
       "(E)R/S COCONUT/ALMND EGG      1OZ     40\n",
       "(E)R/S EXT CRNCHY PNT BTR EGG 1OZ     36\n",
       "(E)R/S MILK CHOC TRUFFLE EGG  1OZ     36\n",
       "(E)R/S MILK CHOC STRWBRY CR EGG1Z     36\n",
       "(E)R/S MILK CHOC VANILA CRM EGG1Z     36\n",
       "(E)R/S CHOC MARSHMALLOW EGG   1OZ     36\n",
       "(E)R/S MC M/MALLOW EGG 364    1OZ     36\n",
       "(E)R/S S/F MARSHMALLOW EGG    1OZ     36\n",
       "(E)R/S DARK CHOC M/MLW EGG    1OZ     36\n",
       "(E)R/S MAPLE CREAM EGG 375    1OZ     36\n",
       "(E)RUSSELL STOVER D/CH RSP EGG1OZ     36\n",
       "(E)R/S COCONUT CR EGG 372     1OZ     36\n",
       "(E)R/S MILK CHOC CARAMEL EGG  1OZ     36\n",
       "(E)R/S COCONUT NEST CHOCOLATE 1OZ     36\n",
       "(E)WHITMAN S M/C FLTB RABBIT  3OZ     35\n",
       "(E)R/S BUNNY MLK CHOC 843     3OZ     35\n",
       "(E)MARS DOVE DRK/CHOC EGG  8.87OZ     34\n",
       "(E)R/S COOKIES N CREAM RABBIT 3OZ     31\n",
       "(E)HELLO KITTY GREETER    PPR AST     31\n",
       "(E)R/S MILK CHOC PB RABBIT    3OZ     31\n",
       "(E)BUTTERFINGER PB CUP MINI 10.5Z     30\n",
       "(E)MARS DOVE M/C COCONT EGG7.94OZ     30\n",
       "(E)LINDT LINDOR MILK MINI EGG4.4Z     30\n",
       "(E)MILK CHOC KEY LIME PIE EGG 1OZ     30\n",
       "(E)CADBURY WHITE EGGS BAG 7OZ         30\n",
       "(E)R/S M/MALLOW EGG CRATE 317 9OZ     28\n",
       "(E)MARS M&MS CRISPY ESTR 9.9OZ        28\n",
       "                                    ... \n",
       "(E)R/S BUNNY HOLW CHOC 834    3OZ      6\n",
       "(E)R/S WHT CHOC WDNG CAKE RBIT 7Z      6\n",
       "(E)R/S BUNNY SOL CHC 842    1.5OZ      6\n",
       "(E)STARBURST FVRDS JELLY BEAN 14Z      6\n",
       "(E)HOP SCOTCH             PPR AST      6\n",
       "(E)R/S MC DIP-IT RABBIT W/PB 6Z        6\n",
       "(E)JUNGLE ANIMALS         PPR AST      6\n",
       "(E)R/S J/BEANS MINI BAG 83271.5OZ      6\n",
       "R/S MRSHMLLOW BUNNY S/F 1.75OZ         6\n",
       "(E)DOVE WHT CHOC EASTR BUNNY 4.5Z      6\n",
       "(E)R/S CKS-N-CR FLB RBT 1.5Z DISP      6\n",
       "(E)RS CARROT CAKE EGG         1OZ      6\n",
       "(E)BASHFUL BUNNY    14.5 PPR AST       6\n",
       "(E)R/S DC RED VELVET EGG 1OZ DISP      6\n",
       "(E)R/S EGG MARSHMALLOW EGG    1OZ      6\n",
       "(E)RUMPEES                PPR AST      6\n",
       "(E)LINDT GOLD BUNNY BASKET  3.5OZ      6\n",
       "(E)LINDT MINI GLD BNY M/C 1.7OZ5S      6\n",
       "(E)REAL M/PLSH BUNNIES 7.5PPRAST       6\n",
       "(E)SITTING ANIMALS 6     PPR AST       6\n",
       "(E)R/S MC CKIE DOUGH EGG 1OZ DISP      6\n",
       "(E)RS CKIE DOUGH FLTB RABBIT  3OZ      6\n",
       "(E)RS BREAK-IT RABBIT S/F   4.5OZ      6\n",
       "(E)LINDT SOLID MILK MINI EGGS4.4Z      6\n",
       "(E)PLUSH PUPPY 7 PPR AST               6\n",
       "(E)R/S BUNNY M/M 342          2OZ      6\n",
       "(E)R/S JLLY BEANS 12OZ DRC12 DISP      4\n",
       "(E)R/S MLK CHOC HOLLOW BNNY 1.5OZ      4\n",
       "(E)MARS DOVE MLK CHOC EGG  8.87OZ      4\n",
       "(E)SWEETART JELLY BEANS 14OZ           4\n",
       "Name: PLN_LABEL, Length: 149, dtype: int64"
      ]
     },
     "execution_count": 267,
     "metadata": {},
     "output_type": "execute_result"
    }
   ],
   "source": [
    "easter['PLN_LABEL'].value_counts()"
   ]
  },
  {
   "cell_type": "code",
   "execution_count": 268,
   "metadata": {},
   "outputs": [
    {
     "data": {
      "text/plain": [
       "SCATCH BALL & DISC CTCH GAME         44\n",
       "R/S M/M BUNNY 341             2OZ     6\n",
       "(E)R/S PEANUT BUTTER EGG      1OZ     6\n",
       "(E)RS CARROT CAKE EGG         1OZ     6\n",
       "(E)R/S MILK CHOC STRWBRY CR EGG1Z     6\n",
       "(E)PLUSH FRIENDS W/BOW 7.5 PPR A      6\n",
       "(E)R/S WHT PSTL FLAT RABBIT   7OZ     6\n",
       "(E)R/S CHOC MARSHMALLOW EGG   1OZ     6\n",
       "(E)LINDT CHOC CARROTS    1.8OZ 4S     6\n",
       "(E)R/S DARK CHOC M/MLW EGG    1OZ     6\n",
       "(E)HOPPY BUNNY 14.5      PPR AST      6\n",
       "(E)PEEP SOFT BUNNY 17    PPR AST      6\n",
       "(E)LAYING ANIMAL    23.5 PPR AST      6\n",
       "(E)JUNGLE ANIMALS         PPR AST     6\n",
       "(E)R/S BUNNY HOLW CHOC      1.5OZ     6\n",
       "(E)R/S J/BEANS MINI BAG 83271.5OZ     6\n",
       "R/S MRSHMLLOW BUNNY S/F 1.75OZ        6\n",
       "(E)DOVE WHT CHOC EASTR BUNNY 4.5Z     6\n",
       "(E)R/S CKS-N-CR FLB RBT 1.5Z DISP     6\n",
       "(E)PLUSH PUPPY 7 PPR AST              6\n",
       "(E)BASHFUL BUNNY    14.5 PPR AST      6\n",
       "(E)R/S DC RED VELVET EGG 1OZ DISP     6\n",
       "(E)R/S EGG MARSHMALLOW EGG    1OZ     6\n",
       "(E)RUMPEES                PPR AST     6\n",
       "(E)PLUSH LAMB/WOOLY BUNNY PPR AST     6\n",
       "(E)R/S DK CHOC FLTB RABBIT    3OZ     6\n",
       "(E)R/S EXT CRNCHY PNT BTR EGG 1OZ     6\n",
       "(E)LINDT M/CHOC GOLD BUNNY  3.5OZ     6\n",
       "(E)R/S BUNNY M/M 342          2OZ     6\n",
       "(E)R/S COOKIES N CREAM RABBIT 3OZ     6\n",
       "                                     ..\n",
       "(E)RUSSELL STOVER D/CH RSP EGG1OZ     6\n",
       "(E)R/S M/C BRK-IT FLATBCK RBT 5OZ     6\n",
       "(E)R/S BUNNY MONEY M/CHOC BAR 2OZ     6\n",
       "(E)LINDT LINDOR MILK MINI EGG4.4Z     6\n",
       "(E)R/S COCONUT NEST CHOCOLATE 1OZ     6\n",
       "(E)R/S WHT DIP-IT RABBIT W/CHC 6Z     6\n",
       "(E)PALMER ASSRTD BUNNY BITES 26OZ     6\n",
       "(E)WHITMAN S M/C FLTB RABBIT  3OZ     6\n",
       "(E)LINDT MINI GLD BNY M/C 1.7OZ5S     6\n",
       "(E)FERRERO HAZLNT EGGS 3.5OZ DISP     6\n",
       "(E)MARS DOVE SLD M/CHOC BNNY4.5OZ     6\n",
       "(E)MARS DOVE SLD D/CHOC BNNY4.5OZ     6\n",
       "(E)REAL M/PLSH BUNNIES 7.5PPRAST      6\n",
       "(E)SITTING ANIMALS 6     PPR AST      6\n",
       "(E)R/S MC CKIE DOUGH EGG 1OZ DISP     6\n",
       "(E)RS CKIE DOUGH FLTB RABBIT  3OZ     6\n",
       "(E)RS BREAK-IT RABBIT S/F   4.5OZ     6\n",
       "(E)R/S M/C P/B FLATBACK RBT 1.5OZ     6\n",
       "(E)LINDT SOLID MILK MINI EGGS4.4Z     6\n",
       "(E)HELLO KITTY GREETER    PPR AST     6\n",
       "(E)HOP SCOTCH             PPR AST     6\n",
       "(E)DOVE M/CHOC EGGS  8.87OZ DRC12     6\n",
       "(E)R/S BUNNY SOL CHC 842    1.5OZ     6\n",
       "(E)GHIR MK&WHT IMPR MN SQ BG .91Z     6\n",
       "(E)R/S CHOC WEDDING CAKE EGG 1Z       6\n",
       "(E)R/S BUNNY MLK CHOC 843     3OZ     6\n",
       "(E)FERRERO COCOA EGGS  3.5OZ DISP     6\n",
       "(E)R/S COCONUT CR EGG 372     1OZ     6\n",
       "(E)R/S HOLLOW M/C BUNNY 836WG 6OZ     6\n",
       "(E)R/S BUNNY HOLW CHOC 834    3OZ     6\n",
       "Name: PLN_LABEL, Length: 101, dtype: int64"
      ]
     },
     "execution_count": 268,
     "metadata": {},
     "output_type": "execute_result"
    }
   ],
   "source": [
    "easter[easter['YEAR']==2015]['PLN_LABEL'].value_counts()"
   ]
  },
  {
   "cell_type": "code",
   "execution_count": 269,
   "metadata": {},
   "outputs": [
    {
     "data": {
      "text/plain": [
       "SCATCH BALL & DISC CTCH GAME         78\n",
       "(E)MARS M&MS MALT ESTR 9.9OZ         58\n",
       "(E)PLUSH ANIMAL PPR AST              39\n",
       "(E)R/S COCONUT/ALMND EGG      1OZ    34\n",
       "(E)MARS DOVE DRK/CHOC EGG  8.87OZ    34\n",
       "(E)R/S MILK CHOC STRWBRY CR EGG1Z    30\n",
       "(E)R/S MILK CHOC VANILA CRM EGG1Z    30\n",
       "(E)R/S DARK CHOC M/MLW EGG    1OZ    30\n",
       "(E)MILK CHOC KEY LIME PIE EGG 1OZ    30\n",
       "(E)R/S MILK CHOC CARAMEL EGG  1OZ    30\n",
       "(E)R/S MC M/MALLOW EGG 364    1OZ    30\n",
       "(E)R/S CHOC MARSHMALLOW EGG   1OZ    30\n",
       "(E)CADBURY WHITE EGGS BAG 7OZ        30\n",
       "(E)R/S COCONUT CR EGG 372     1OZ    30\n",
       "(E)R/S EXT CRNCHY PNT BTR EGG 1OZ    30\n",
       "(E)MARS DOVE M/C COCONT EGG7.94OZ    30\n",
       "(E)R/S S/F MARSHMALLOW EGG    1OZ    30\n",
       "(E)R/S MILK CHOC TRUFFLE EGG  1OZ    30\n",
       "(E)BUTTERFINGER PB CUP MINI 10.5Z    30\n",
       "(E)RUSSELL STOVER D/CH RSP EGG1OZ    30\n",
       "(E)R/S COCONUT NEST CHOCOLATE 1OZ    30\n",
       "(E)R/S MAPLE CREAM EGG 375    1OZ    30\n",
       "(E)R/S BUNNY MLK CHOC 843     3OZ    29\n",
       "(E)WHITMAN S M/C FLTB RABBIT  3OZ    29\n",
       "(E)MARS M&MS CRISPY ESTR 9.9OZ       28\n",
       "(E)SMARTIES JELLY BEANS 14OZ         28\n",
       "(E)MARSHMALLOW BUN/CHICK/EGG 10Z     26\n",
       "(E)HELLO KITTY GREETER    PPR AST    25\n",
       "(E)R/S COOKIES N CREAM RABBIT 3OZ    25\n",
       "(E)R/S MILK CHOC PB RABBIT    3OZ    25\n",
       "                                     ..\n",
       "(E)SITTING ANML W/BNY ERS9\"PPRAST    20\n",
       "(E)FERRERO HAZLNT EGGS 3.5OZ DISP    20\n",
       "CADBURY RYL DRK CREAMY MNT 5.5Z8S    20\n",
       "CADBURY DAIRY MC ENGSH TOFFEE5.4Z    20\n",
       "(E)FURY FRIEND W/BOW 9.5\" PPR AST    20\n",
       "(E)REALISTIC BUNNY 15\" PPR AST       19\n",
       "(E)LAYING EASTER ANIMAL 26\" PPR A    19\n",
       "(E)PLUSH ANIMAL 10\" PPR AST          18\n",
       "(E)SITTNG ANIMAL W/BOW14\" PPR AST    18\n",
       "(E)R/S BUNNY MONEY M/CHOC BAR 2OZ    18\n",
       "(E)MOM & BABY ANIMAL 15\" PPR AST     18\n",
       "(E)PLUSH BUNNY 13\" PPR AST           18\n",
       "(E)12\"CLAPPING HANDS DNCE CHK PPR    18\n",
       "(E)FURRY FRND W/GIFTS 14\" PPR AST    16\n",
       "(E)ANIMATED PEEKABOO ANML9\"PPRAST    16\n",
       "(E)PLUSH ANIMAL 9\"  PPR AST          16\n",
       "(E)COLORFUL BUNNY 21\" PPR AST        16\n",
       "(E)PLUSH BUNNY 14\" PPR AST           16\n",
       "NICE JELLY BEANS 7OZ                 15\n",
       "(E)DOVE M/CHOC EGGS  8.87OZ DRC12    14\n",
       "(E)PEEPS PLUSH BUNNY 17 PPR AST      12\n",
       "(E)PEEPS BNY EARS HDBND10.5PPRAST    10\n",
       "(E)MARS M&MS PB SPECKLED EGG 9.9Z    10\n",
       "(E)TURTLES ORIG SPRING SU BAG4.7Z     7\n",
       "(E)STARBURST FVRDS JELLY BEAN 14Z     6\n",
       "(E)R/S JELLY BEANS 809   DIR 12OZ     5\n",
       "(E)R/S MLK CHOC HOLLOW BNNY 1.5OZ     4\n",
       "(E)MARS DOVE MLK CHOC EGG  8.87OZ     4\n",
       "(E)SWEETART JELLY BEANS 14OZ          4\n",
       "(E)R/S JLLY BEANS 12OZ DRC12 DISP     4\n",
       "Name: PLN_LABEL, Length: 77, dtype: int64"
      ]
     },
     "execution_count": 269,
     "metadata": {},
     "output_type": "execute_result"
    }
   ],
   "source": [
    "easter[easter['YEAR']==2016]['PLN_LABEL'].value_counts()"
   ]
  },
  {
   "cell_type": "code",
   "execution_count": 270,
   "metadata": {},
   "outputs": [
    {
     "data": {
      "text/plain": [
       "SCATCH BALL & DISC CTCH GAME    58\n",
       "Name: PLN_LABEL, dtype: int64"
      ]
     },
     "execution_count": 270,
     "metadata": {},
     "output_type": "execute_result"
    }
   ],
   "source": [
    "easter[easter['YEAR']==2017]['PLN_LABEL'].value_counts()"
   ]
  },
  {
   "cell_type": "code",
   "execution_count": 271,
   "metadata": {
    "scrolled": true
   },
   "outputs": [
    {
     "data": {
      "image/png": "[encoded data removed]",
      "text/plain": [
       "<Figure size 432x288 with 1 Axes>"
      ]
     },
     "metadata": {
      "needs_background": "light"
     },
     "output_type": "display_data"
    }
   ],
   "source": [
    "sns.countplot(x='YEAR', hue='PROMO', data=easter[easter['PLN_LABEL']=='SCATCH BALL & DISC CTCH GAME']);"
   ]
  },
  {
   "cell_type": "code",
   "execution_count": 272,
   "metadata": {},
   "outputs": [
    {
     "data": {
      "text/plain": [
       "SCATCH BALL & DISC CTCH GAME         89\n",
       "CADBURY RYL DRK SLTD CRMLO 5.5Z8S     9\n",
       "CADBURY DAIRY MILK FRUIT&NUT 5.4Z     8\n",
       "NICE JELLY BEANS 7OZ                  8\n",
       "CADBURY DAIRY MC ENGSH TOFFEE5.4Z     6\n",
       "CADBURY RYL DRK CREAMY MNT 5.5Z8S     6\n",
       "Name: PLN_LABEL, dtype: int64"
      ]
     },
     "execution_count": 272,
     "metadata": {},
     "output_type": "execute_result"
    }
   ],
   "source": [
    "easter[easter['MONTH']>=6]['PLN_LABEL'].value_counts()"
   ]
  },
  {
   "cell_type": "code",
   "execution_count": 273,
   "metadata": {},
   "outputs": [],
   "source": [
    "ball = easter[easter['PLN_LABEL']=='SCATCH BALL & DISC CTCH GAME'].copy()"
   ]
  },
  {
   "cell_type": "code",
   "execution_count": 274,
   "metadata": {},
   "outputs": [],
   "source": [
    "ball.drop(['PLN', 'PLN_LABEL', 'YEAR', 'MONTH', 'DAY'], axis=1, inplace=True)"
   ]
  },
  {
   "cell_type": "code",
   "execution_count": 275,
   "metadata": {},
   "outputs": [],
   "source": [
    "weeks = np.unique(ball['WEEK'].values)\n",
    "sums = []\n",
    "promos = []\n",
    "indexes = ball.index"
   ]
  },
  {
   "cell_type": "code",
   "execution_count": 276,
   "metadata": {},
   "outputs": [],
   "source": [
    "for w in weeks:\n",
    "    s = 0\n",
    "    promo = 0\n",
    "    for i in indexes:\n",
    "        if ball.at[i, 'WEEK']==w:\n",
    "            s=s+ball.at[i, 'ACTUAL']\n",
    "            if ball.at[i, 'PROMO']==1:\n",
    "                promo = 1\n",
    "    sums.append(s)\n",
    "    promos.append(promo)"
   ]
  },
  {
   "cell_type": "code",
   "execution_count": 277,
   "metadata": {},
   "outputs": [],
   "source": [
    "ball1 = pd.DataFrame({'WEEK': weeks, 'ACTUAL': sums, 'PROMO': promos})"
   ]
  },
  {
   "cell_type": "code",
   "execution_count": 278,
   "metadata": {},
   "outputs": [
    {
     "data": {
      "text/html": [
       "<div>\n",
       "<style scoped>\n",
       "    .dataframe tbody tr th:only-of-type {\n",
       "        vertical-align: middle;\n",
       "    }\n",
       "\n",
       "    .dataframe tbody tr th {\n",
       "        vertical-align: top;\n",
       "    }\n",
       "\n",
       "    .dataframe thead th {\n",
       "        text-align: right;\n",
       "    }\n",
       "</style>\n",
       "<table border=\"1\" class=\"dataframe\">\n",
       "  <thead>\n",
       "    <tr style=\"text-align: right;\">\n",
       "      <th></th>\n",
       "      <th>WEEK</th>\n",
       "      <th>ACTUAL</th>\n",
       "      <th>PROMO</th>\n",
       "    </tr>\n",
       "  </thead>\n",
       "  <tbody>\n",
       "    <tr>\n",
       "      <th>0</th>\n",
       "      <td>2015-03-01</td>\n",
       "      <td>71.0</td>\n",
       "      <td>0</td>\n",
       "    </tr>\n",
       "    <tr>\n",
       "      <th>1</th>\n",
       "      <td>2015-03-08</td>\n",
       "      <td>148.0</td>\n",
       "      <td>0</td>\n",
       "    </tr>\n",
       "    <tr>\n",
       "      <th>2</th>\n",
       "      <td>2015-03-15</td>\n",
       "      <td>207.0</td>\n",
       "      <td>0</td>\n",
       "    </tr>\n",
       "    <tr>\n",
       "      <th>3</th>\n",
       "      <td>2015-03-22</td>\n",
       "      <td>165.0</td>\n",
       "      <td>0</td>\n",
       "    </tr>\n",
       "    <tr>\n",
       "      <th>4</th>\n",
       "      <td>2015-03-29</td>\n",
       "      <td>401.0</td>\n",
       "      <td>0</td>\n",
       "    </tr>\n",
       "  </tbody>\n",
       "</table>\n",
       "</div>"
      ],
      "text/plain": [
       "        WEEK  ACTUAL  PROMO\n",
       "0 2015-03-01    71.0      0\n",
       "1 2015-03-08   148.0      0\n",
       "2 2015-03-15   207.0      0\n",
       "3 2015-03-22   165.0      0\n",
       "4 2015-03-29   401.0      0"
      ]
     },
     "execution_count": 278,
     "metadata": {},
     "output_type": "execute_result"
    }
   ],
   "source": [
    "ball1.head()"
   ]
  },
  {
   "cell_type": "code",
   "execution_count": 279,
   "metadata": {},
   "outputs": [],
   "source": [
    "ball1.set_index('WEEK', inplace=True)"
   ]
  },
  {
   "cell_type": "code",
   "execution_count": 280,
   "metadata": {},
   "outputs": [
    {
     "data": {
      "image/png": "[encoded data removed]",
      "text/plain": [
       "<Figure size 432x288 with 1 Axes>"
      ]
     },
     "metadata": {
      "needs_background": "light"
     },
     "output_type": "display_data"
    }
   ],
   "source": [
    "ball1['ACTUAL'].plot();"
   ]
  },
  {
   "cell_type": "code",
   "execution_count": 281,
   "metadata": {},
   "outputs": [],
   "source": [
    "train = ball1.copy()[:'2017-01-01'].drop(['PROMO'], axis=1)\n",
    "test = ball1.copy()['2017-01-01':].drop(['PROMO'], axis=1)"
   ]
  },
  {
   "cell_type": "code",
   "execution_count": 282,
   "metadata": {},
   "outputs": [
    {
     "name": "stdout",
     "output_type": "stream",
     "text": [
      "предсказанное=1.909264, ожидаемое=2.000000\n",
      "предсказанное=1.980612, ожидаемое=1.000000\n",
      "предсказанное=1.209538, ожидаемое=3.000000\n",
      "предсказанное=2.617385, ожидаемое=0.000000\n",
      "предсказанное=0.559415, ожидаемое=0.000000\n",
      "предсказанное=0.119554, ожидаемое=0.000000\n",
      "предсказанное=0.025550, ожидаемое=1.000000\n",
      "предсказанное=0.791735, ожидаемое=2.000000\n",
      "предсказанное=1.741776, ожидаемое=0.000000\n",
      "предсказанное=0.372277, ожидаемое=0.000000\n",
      "предсказанное=0.079567, ожидаемое=0.000000\n",
      "предсказанное=0.017005, ожидаемое=0.000000\n",
      "предсказанное=0.003635, ожидаемое=0.000000\n",
      "предсказанное=0.000777, ожидаемое=1.000000\n",
      "предсказанное=0.786438, ожидаемое=0.000000\n",
      "предсказанное=0.168091, ожидаемое=0.000000\n",
      "предсказанное=0.035927, ожидаемое=0.000000\n",
      "предсказанное=0.007679, ожидаемое=0.000000\n",
      "предсказанное=0.001641, ожидаемое=0.000000\n",
      "предсказанное=0.000351, ожидаемое=1.000000\n",
      "предсказанное=0.786336, ожидаемое=0.000000\n",
      "предсказанное=0.168075, ожидаемое=0.000000\n",
      "предсказанное=0.035924, ожидаемое=0.000000\n",
      "предсказанное=0.007679, ожидаемое=1.000000\n",
      "предсказанное=0.787896, ожидаемое=1.000000\n",
      "предсказанное=0.954664, ожидаемое=3.000000\n",
      "предсказанное=2.562837, ожидаемое=2.000000\n",
      "предсказанное=2.120300, ожидаемое=0.000000\n",
      "предсказанное=0.453203, ожидаемое=1.000000\n",
      "предсказанное=0.883124, ожидаемое=1.000000\n",
      "предсказанное=0.975017, ожидаемое=0.000000\n",
      "предсказанное=0.208415, ожидаемое=0.000000\n",
      "предсказанное=0.044550, ожидаемое=0.000000\n",
      "предсказанное=0.009522, ожидаемое=0.000000\n",
      "предсказанное=0.002036, ожидаемое=0.000000\n",
      "предсказанное=0.000435, ожидаемое=0.000000\n",
      "предсказанное=0.000093, ожидаемое=0.000000\n",
      "предсказанное=0.000020, ожидаемое=0.000000\n",
      "предсказанное=0.000004, ожидаемое=0.000000\n",
      "предсказанное=0.000001, ожидаемое=0.000000\n",
      "предсказанное=0.000000, ожидаемое=1.000000\n",
      "предсказанное=0.786245, ожидаемое=0.000000\n",
      "предсказанное=0.168067, ожидаемое=0.000000\n"
     ]
    }
   ],
   "source": [
    "train1 = train.values\n",
    "test1 = test.values\n",
    "new_train = [x for x in train1]\n",
    "prediction = []\n",
    "for i in range(len(test)):\n",
    "    es_model = SimpleExpSmoothing(new_train)\n",
    "    es_model_fit = es_model.fit()\n",
    "    pred = es_model_fit.predict(len(new_train), len(new_train))\n",
    "    prediction.append(pred[0])\n",
    "    new_train.append(test1[i])\n",
    "    print('предсказанное=%f, ожидаемое=%f' % (pred[0], test1[i]))"
   ]
  },
  {
   "cell_type": "code",
   "execution_count": 283,
   "metadata": {},
   "outputs": [
    {
     "data": {
      "image/png": "[encoded data removed]",
      "text/plain": [
       "<Figure size 1152x576 with 1 Axes>"
      ]
     },
     "metadata": {
      "needs_background": "light"
     },
     "output_type": "display_data"
    }
   ],
   "source": [
    "plt.figure(figsize=(16,8))\n",
    "plt.plot(np.asarray(test['ACTUAL']))\n",
    "plt.plot(prediction)\n",
    "plt.show()"
   ]
  },
  {
   "cell_type": "code",
   "execution_count": 284,
   "metadata": {},
   "outputs": [],
   "source": [
    "new_es = [x for x in ball1.copy().drop(['PROMO'], axis=1).values]\n",
    "prediction = []\n",
    "for i in range(52):\n",
    "    es_model = ExponentialSmoothing(new_es)\n",
    "    es_model_fit = es_model.fit()\n",
    "    pred = es_model_fit.forecast()\n",
    "    prediction.append(pred[0])\n",
    "    new_es.append(pred[0])"
   ]
  },
  {
   "cell_type": "code",
   "execution_count": 285,
   "metadata": {},
   "outputs": [
    {
     "data": {
      "text/plain": [
       "[0.03592685718855348,\n",
       " 0.03592674950967605,\n",
       " 0.03592680199066482,\n",
       " 0.03592679755173297,\n",
       " 0.03592679784492075,\n",
       " 0.035926797831054395,\n",
       " 0.03592679777560568,\n",
       " 0.03592679777954245,\n",
       " 0.03592679778262691,\n",
       " 0.0359267977823464,\n",
       " 0.03592679778241438,\n",
       " 0.03592679778241944,\n",
       " 0.03592679778240891,\n",
       " 0.0359267977824095,\n",
       " 0.035926797782409724,\n",
       " 0.03592679778240969,\n",
       " 0.035926797782409696,\n",
       " 0.035926797782409696,\n",
       " 0.035926797782409696,\n",
       " 0.035926797782409696,\n",
       " 0.035926797782409696,\n",
       " 0.035926797782409696,\n",
       " 0.035926797782409696,\n",
       " 0.035926797782409696,\n",
       " 0.035926797782409696,\n",
       " 0.035926797782409696,\n",
       " 0.035926797782409696,\n",
       " 0.035926797782409696,\n",
       " 0.035926797782409696,\n",
       " 0.035926797782409696,\n",
       " 0.035926797782409696,\n",
       " 0.035926797782409696,\n",
       " 0.035926797782409696,\n",
       " 0.035926797782409696,\n",
       " 0.035926797782409696,\n",
       " 0.035926797782409696,\n",
       " 0.035926797782409696,\n",
       " 0.035926797782409696,\n",
       " 0.035926797782409696,\n",
       " 0.035926797782409696,\n",
       " 0.035926797782409696,\n",
       " 0.035926797782409696,\n",
       " 0.035926797782409696,\n",
       " 0.035926797782409696,\n",
       " 0.035926797782409696,\n",
       " 0.035926797782409696,\n",
       " 0.035926797782409696,\n",
       " 0.035926797782409696,\n",
       " 0.035926797782409696,\n",
       " 0.035926797782409696,\n",
       " 0.035926797782409696,\n",
       " 0.035926797782409696]"
      ]
     },
     "execution_count": 285,
     "metadata": {},
     "output_type": "execute_result"
    }
   ],
   "source": [
    "prediction"
   ]
  },
  {
   "cell_type": "code",
   "execution_count": 286,
   "metadata": {},
   "outputs": [
    {
     "data": {
      "image/png": "[encoded data removed]",
      "text/plain": [
       "<Figure size 432x288 with 1 Axes>"
      ]
     },
     "metadata": {
      "needs_background": "light"
     },
     "output_type": "display_data"
    }
   ],
   "source": [
    "plt.plot(prediction);"
   ]
  }
 ],
 "metadata": {
  "kernelspec": {
   "display_name": "Python 3",
   "language": "python",
   "name": "python3"
  },
  "language_info": {
   "codemirror_mode": {
    "name": "ipython",
    "version": 3
   },
   "file_extension": ".py",
   "mimetype": "text/x-python",
   "name": "python",
   "nbconvert_exporter": "python",
   "pygments_lexer": "ipython3",
   "version": "3.7.1"
  }
 },
 "nbformat": 4,
 "nbformat_minor": 2
}
