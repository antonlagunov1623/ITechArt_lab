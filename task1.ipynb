{
 "cells": [
  {
   "cell_type": "code",
   "execution_count": 1,
   "metadata": {},
   "outputs": [],
   "source": [
    "import pandas as pd\n",
    "import numpy as np\n",
    "import matplotlib.pyplot as plt\n",
    "import scipy as sp\n",
    "import seaborn as sns"
   ]
  },
  {
   "cell_type": "code",
   "execution_count": 2,
   "metadata": {
    "scrolled": true
   },
   "outputs": [
    {
     "name": "stderr",
     "output_type": "stream",
     "text": [
      "C:\\Users\\Anton.Lahunou\\AppData\\Local\\Continuum\\anaconda3\\lib\\site-packages\\IPython\\core\\interactiveshell.py:3020: DtypeWarning: Columns (0,1,5,7,10) have mixed types. Specify dtype option on import or set low_memory=False.\n",
      "  interactivity=interactivity, compiler=compiler, result=result)\n"
     ]
    }
   ],
   "source": [
    "data = pd.read_csv('products.csv', sep='|', error_bad_lines=False)"
   ]
  },
  {
   "cell_type": "code",
   "execution_count": 3,
   "metadata": {},
   "outputs": [],
   "source": [
    "health_data = data[data['BU']=='Health/Wellness']"
   ]
  },
  {
   "cell_type": "code",
   "execution_count": 4,
   "metadata": {},
   "outputs": [
    {
     "data": {
      "text/plain": [
       "COLD/FLU RE          75259\n",
       "SYRUP                75104\n",
       "BANDAGES             68857\n",
       "MULTI-GENERAL        64671\n",
       "LIP BALMS            61420\n",
       "THROAT LOZ/          56941\n",
       "HOMEOPATHIC          55075\n",
       "IBUPROFEN            53174\n",
       "TABLETS/CAPSU        51141\n",
       "THIN MAXIS           49685\n",
       "HOSIERY              48805\n",
       "PAIN/FEVER           48443\n",
       "DRY EYE              47915\n",
       "JOINT                47511\n",
       "PILLS/TABLET         45565\n",
       "LUB/MOISTURE         45316\n",
       "ACETAMINOPHEN        45257\n",
       "FISH OIL             44270\n",
       "MAXI PADS            43642\n",
       "ALLERGY              43203\n",
       "TOPICALS             42887\n",
       "COUGH/COLD           42785\n",
       "WOUND DRESSI         41739\n",
       "LUBRICATED           41254\n",
       "HIGH FA              40333\n",
       "CALCIUM              39413\n",
       "MEAL REPL BARS S     39051\n",
       "CORE                 38808\n",
       "VIT B                37493\n",
       "ETHNIC               36805\n",
       "                     ...  \n",
       "OSTOMY                 144\n",
       "CLEANSE/DETOX          131\n",
       "2.75                   114\n",
       "DIABETIC SUPP           76\n",
       "VITAMINS/S              76\n",
       "VITAMINS/SUPPL          75\n",
       "INCONTINENCE            65\n",
       "DIABETES MISC           59\n",
       "SOUND/AROMA THERA       55\n",
       "HAIR DRESS              55\n",
       "SNORE                   53\n",
       "MAGNIFY                 48\n",
       "NUTRITIO                42\n",
       "FIRST AID               30\n",
       "WEB EXCLUSI             26\n",
       "VIT A                   25\n",
       "LIFT CHA                23\n",
       "SUGAR FREE/BFY          15\n",
       "WEB BATH                10\n",
       "DIABETIC SUPPL           9\n",
       "BOTTLES/DINNERWAR        7\n",
       "SPORTS ME                6\n",
       "TOILETRY                 6\n",
       "WEB DIAB                 5\n",
       "WEB ASIS                 5\n",
       "WEB HOSI                 5\n",
       "WEB MOB                  5\n",
       "WEB MAST                 5\n",
       "HOME MEDICAL C           1\n",
       "CANES                    1\n",
       "Name: PRODUCT_CATEGORY_LABEL, Length: 359, dtype: int64"
      ]
     },
     "execution_count": 4,
     "metadata": {},
     "output_type": "execute_result"
    }
   ],
   "source": [
    "health_data['PRODUCT_CATEGORY_LABEL'].value_counts()"
   ]
  },
  {
   "cell_type": "code",
   "execution_count": 5,
   "metadata": {},
   "outputs": [],
   "source": [
    "dry_eye = health_data[health_data['PRODUCT_CATEGORY_LABEL']=='DRY EYE']"
   ]
  },
  {
   "cell_type": "code",
   "execution_count": 6,
   "metadata": {},
   "outputs": [],
   "source": [
    "alergy = health_data[health_data['PRODUCT_CATEGORY_LABEL']=='ALERGY']"
   ]
  },
  {
   "cell_type": "code",
   "execution_count": 7,
   "metadata": {},
   "outputs": [],
   "source": [
    "vit_b = health_data[health_data['PRODUCT_CATEGORY_LABEL']=='VIT B']"
   ]
  },
  {
   "cell_type": "code",
   "execution_count": 9,
   "metadata": {},
   "outputs": [
    {
     "name": "stderr",
     "output_type": "stream",
     "text": [
      "C:\\Users\\Anton.Lahunou\\AppData\\Local\\Continuum\\anaconda3\\lib\\site-packages\\pandas\\core\\frame.py:3697: SettingWithCopyWarning: \n",
      "A value is trying to be set on a copy of a slice from a DataFrame\n",
      "\n",
      "See the caveats in the documentation: http://pandas.pydata.org/pandas-docs/stable/indexing.html#indexing-view-versus-copy\n",
      "  errors=errors)\n"
     ]
    }
   ],
   "source": [
    "dry_eye.drop(['BU', 'PRODUCT_CATEGORY_LABEL', 'PRODUCT_CATEGORY', 'OPSTUDY', 'OPSTUDY_LABEL'], axis=1, inplace=True)"
   ]
  },
  {
   "cell_type": "code",
   "execution_count": 10,
   "metadata": {},
   "outputs": [
    {
     "data": {
      "text/html": [
       "<div>\n",
       "<style scoped>\n",
       "    .dataframe tbody tr th:only-of-type {\n",
       "        vertical-align: middle;\n",
       "    }\n",
       "\n",
       "    .dataframe tbody tr th {\n",
       "        vertical-align: top;\n",
       "    }\n",
       "\n",
       "    .dataframe thead th {\n",
       "        text-align: right;\n",
       "    }\n",
       "</style>\n",
       "<table border=\"1\" class=\"dataframe\">\n",
       "  <thead>\n",
       "    <tr style=\"text-align: right;\">\n",
       "      <th></th>\n",
       "      <th>WEEK</th>\n",
       "      <th>PLN</th>\n",
       "      <th>PLN_LABEL</th>\n",
       "      <th>ACTUAL</th>\n",
       "      <th>SEG</th>\n",
       "      <th>PROMO</th>\n",
       "    </tr>\n",
       "  </thead>\n",
       "  <tbody>\n",
       "    <tr>\n",
       "      <th>1673</th>\n",
       "      <td>1160529</td>\n",
       "      <td>40000415307</td>\n",
       "      <td>REFRESH OPTIVE ADVANCED      10ML</td>\n",
       "      <td>150</td>\n",
       "      <td>A</td>\n",
       "      <td>N</td>\n",
       "    </tr>\n",
       "    <tr>\n",
       "      <th>1674</th>\n",
       "      <td>1160529</td>\n",
       "      <td>40000415307</td>\n",
       "      <td>REFRESH OPTIVE ADVANCED      10ML</td>\n",
       "      <td>1113</td>\n",
       "      <td>C1</td>\n",
       "      <td>N</td>\n",
       "    </tr>\n",
       "    <tr>\n",
       "      <th>1675</th>\n",
       "      <td>1160529</td>\n",
       "      <td>40000415307</td>\n",
       "      <td>REFRESH OPTIVE ADVANCED      10ML</td>\n",
       "      <td>295</td>\n",
       "      <td>B</td>\n",
       "      <td>N</td>\n",
       "    </tr>\n",
       "    <tr>\n",
       "      <th>1676</th>\n",
       "      <td>1160529</td>\n",
       "      <td>40000415307</td>\n",
       "      <td>REFRESH OPTIVE ADVANCED      10ML</td>\n",
       "      <td>15</td>\n",
       "      <td>NoSegment-C</td>\n",
       "      <td>N</td>\n",
       "    </tr>\n",
       "    <tr>\n",
       "      <th>2474</th>\n",
       "      <td>1160529</td>\n",
       "      <td>40000684179</td>\n",
       "      <td>THERA TEARS LUB EYE DROPS    15ML</td>\n",
       "      <td>153</td>\n",
       "      <td>A</td>\n",
       "      <td>N</td>\n",
       "    </tr>\n",
       "  </tbody>\n",
       "</table>\n",
       "</div>"
      ],
      "text/plain": [
       "         WEEK          PLN                          PLN_LABEL ACTUAL  \\\n",
       "1673  1160529  40000415307  REFRESH OPTIVE ADVANCED      10ML    150   \n",
       "1674  1160529  40000415307  REFRESH OPTIVE ADVANCED      10ML   1113   \n",
       "1675  1160529  40000415307  REFRESH OPTIVE ADVANCED      10ML    295   \n",
       "1676  1160529  40000415307  REFRESH OPTIVE ADVANCED      10ML     15   \n",
       "2474  1160529  40000684179  THERA TEARS LUB EYE DROPS    15ML    153   \n",
       "\n",
       "              SEG PROMO  \n",
       "1673            A     N  \n",
       "1674           C1     N  \n",
       "1675            B     N  \n",
       "1676  NoSegment-C     N  \n",
       "2474            A     N  "
      ]
     },
     "execution_count": 10,
     "metadata": {},
     "output_type": "execute_result"
    }
   ],
   "source": [
    "dry_eye.head()"
   ]
  },
  {
   "cell_type": "code",
   "execution_count": 13,
   "metadata": {
    "scrolled": false
   },
   "outputs": [
    {
     "name": "stderr",
     "output_type": "stream",
     "text": [
      "C:\\Users\\Anton.Lahunou\\AppData\\Local\\Continuum\\anaconda3\\lib\\site-packages\\ipykernel_launcher.py:1: SettingWithCopyWarning: \n",
      "A value is trying to be set on a copy of a slice from a DataFrame.\n",
      "Try using .loc[row_indexer,col_indexer] = value instead\n",
      "\n",
      "See the caveats in the documentation: http://pandas.pydata.org/pandas-docs/stable/indexing.html#indexing-view-versus-copy\n",
      "  \"\"\"Entry point for launching an IPython kernel.\n"
     ]
    }
   ],
   "source": [
    "dry_eye['WEEK'] = dry_eye['WEEK'].apply(lambda x: str(x))"
   ]
  },
  {
   "cell_type": "code",
   "execution_count": 14,
   "metadata": {},
   "outputs": [
    {
     "name": "stderr",
     "output_type": "stream",
     "text": [
      "C:\\Users\\Anton.Lahunou\\AppData\\Local\\Continuum\\anaconda3\\lib\\site-packages\\ipykernel_launcher.py:1: SettingWithCopyWarning: \n",
      "A value is trying to be set on a copy of a slice from a DataFrame.\n",
      "Try using .loc[row_indexer,col_indexer] = value instead\n",
      "\n",
      "See the caveats in the documentation: http://pandas.pydata.org/pandas-docs/stable/indexing.html#indexing-view-versus-copy\n",
      "  \"\"\"Entry point for launching an IPython kernel.\n"
     ]
    }
   ],
   "source": [
    "dry_eye['PLN'] = dry_eye['PLN'].apply(lambda x: str(x))"
   ]
  },
  {
   "cell_type": "code",
   "execution_count": 15,
   "metadata": {},
   "outputs": [
    {
     "name": "stderr",
     "output_type": "stream",
     "text": [
      "C:\\Users\\Anton.Lahunou\\AppData\\Local\\Continuum\\anaconda3\\lib\\site-packages\\ipykernel_launcher.py:1: SettingWithCopyWarning: \n",
      "A value is trying to be set on a copy of a slice from a DataFrame.\n",
      "Try using .loc[row_indexer,col_indexer] = value instead\n",
      "\n",
      "See the caveats in the documentation: http://pandas.pydata.org/pandas-docs/stable/indexing.html#indexing-view-versus-copy\n",
      "  \"\"\"Entry point for launching an IPython kernel.\n"
     ]
    }
   ],
   "source": [
    "dry_eye['PLN_LABEL'] = dry_eye['PLN_LABEL'].apply(lambda x: str(x))"
   ]
  },
  {
   "cell_type": "code",
   "execution_count": 16,
   "metadata": {},
   "outputs": [
    {
     "name": "stderr",
     "output_type": "stream",
     "text": [
      "C:\\Users\\Anton.Lahunou\\AppData\\Local\\Continuum\\anaconda3\\lib\\site-packages\\ipykernel_launcher.py:1: SettingWithCopyWarning: \n",
      "A value is trying to be set on a copy of a slice from a DataFrame.\n",
      "Try using .loc[row_indexer,col_indexer] = value instead\n",
      "\n",
      "See the caveats in the documentation: http://pandas.pydata.org/pandas-docs/stable/indexing.html#indexing-view-versus-copy\n",
      "  \"\"\"Entry point for launching an IPython kernel.\n"
     ]
    }
   ],
   "source": [
    "dry_eye['ACTUAL'] = dry_eye['ACTUAL'].apply(lambda x: float(x))"
   ]
  },
  {
   "cell_type": "code",
   "execution_count": 17,
   "metadata": {},
   "outputs": [
    {
     "name": "stderr",
     "output_type": "stream",
     "text": [
      "C:\\Users\\Anton.Lahunou\\AppData\\Local\\Continuum\\anaconda3\\lib\\site-packages\\ipykernel_launcher.py:1: SettingWithCopyWarning: \n",
      "A value is trying to be set on a copy of a slice from a DataFrame.\n",
      "Try using .loc[row_indexer,col_indexer] = value instead\n",
      "\n",
      "See the caveats in the documentation: http://pandas.pydata.org/pandas-docs/stable/indexing.html#indexing-view-versus-copy\n",
      "  \"\"\"Entry point for launching an IPython kernel.\n"
     ]
    }
   ],
   "source": [
    "dry_eye['SEG'] = dry_eye['SEG'].apply(lambda x: str(x))"
   ]
  },
  {
   "cell_type": "code",
   "execution_count": 18,
   "metadata": {},
   "outputs": [
    {
     "name": "stderr",
     "output_type": "stream",
     "text": [
      "C:\\Users\\Anton.Lahunou\\AppData\\Local\\Continuum\\anaconda3\\lib\\site-packages\\ipykernel_launcher.py:1: SettingWithCopyWarning: \n",
      "A value is trying to be set on a copy of a slice from a DataFrame.\n",
      "Try using .loc[row_indexer,col_indexer] = value instead\n",
      "\n",
      "See the caveats in the documentation: http://pandas.pydata.org/pandas-docs/stable/indexing.html#indexing-view-versus-copy\n",
      "  \"\"\"Entry point for launching an IPython kernel.\n"
     ]
    }
   ],
   "source": [
    "dry_eye['PROMO'] = dry_eye['PROMO'].apply(lambda x: str(x))"
   ]
  },
  {
   "cell_type": "code",
   "execution_count": 20,
   "metadata": {},
   "outputs": [
    {
     "name": "stdout",
     "output_type": "stream",
     "text": [
      "<class 'pandas.core.frame.DataFrame'>\n",
      "Int64Index: 47915 entries, 1673 to 19461110\n",
      "Data columns (total 6 columns):\n",
      "WEEK         47915 non-null object\n",
      "PLN          47915 non-null object\n",
      "PLN_LABEL    47915 non-null object\n",
      "ACTUAL       47915 non-null float64\n",
      "SEG          47915 non-null object\n",
      "PROMO        47915 non-null object\n",
      "dtypes: float64(1), object(5)\n",
      "memory usage: 2.6+ MB\n"
     ]
    }
   ],
   "source": [
    "dry_eye.info()"
   ]
  },
  {
   "cell_type": "code",
   "execution_count": 21,
   "metadata": {},
   "outputs": [],
   "source": [
    "def date_divide(x):\n",
    "    x=x[1:]\n",
    "    x='20' + x\n",
    "    x=x[:4] + '-' + x[4:]\n",
    "    x=x[:7] + '-' + x[7:]\n",
    "    return x"
   ]
  },
  {
   "cell_type": "code",
   "execution_count": 22,
   "metadata": {
    "scrolled": true
   },
   "outputs": [
    {
     "name": "stderr",
     "output_type": "stream",
     "text": [
      "C:\\Users\\Anton.Lahunou\\AppData\\Local\\Continuum\\anaconda3\\lib\\site-packages\\ipykernel_launcher.py:1: SettingWithCopyWarning: \n",
      "A value is trying to be set on a copy of a slice from a DataFrame.\n",
      "Try using .loc[row_indexer,col_indexer] = value instead\n",
      "\n",
      "See the caveats in the documentation: http://pandas.pydata.org/pandas-docs/stable/indexing.html#indexing-view-versus-copy\n",
      "  \"\"\"Entry point for launching an IPython kernel.\n"
     ]
    }
   ],
   "source": [
    "dry_eye['WEEK'] = dry_eye['WEEK'].apply(lambda x: date_divide(x))"
   ]
  },
  {
   "cell_type": "code",
   "execution_count": 23,
   "metadata": {},
   "outputs": [
    {
     "name": "stderr",
     "output_type": "stream",
     "text": [
      "C:\\Users\\Anton.Lahunou\\AppData\\Local\\Continuum\\anaconda3\\lib\\site-packages\\ipykernel_launcher.py:1: SettingWithCopyWarning: \n",
      "A value is trying to be set on a copy of a slice from a DataFrame.\n",
      "Try using .loc[row_indexer,col_indexer] = value instead\n",
      "\n",
      "See the caveats in the documentation: http://pandas.pydata.org/pandas-docs/stable/indexing.html#indexing-view-versus-copy\n",
      "  \"\"\"Entry point for launching an IPython kernel.\n"
     ]
    }
   ],
   "source": [
    "dry_eye['WEEK'] = pd.to_datetime(dry_eye['WEEK'])"
   ]
  },
  {
   "cell_type": "code",
   "execution_count": 24,
   "metadata": {},
   "outputs": [
    {
     "name": "stderr",
     "output_type": "stream",
     "text": [
      "C:\\Users\\Anton.Lahunou\\AppData\\Local\\Continuum\\anaconda3\\lib\\site-packages\\ipykernel_launcher.py:1: SettingWithCopyWarning: \n",
      "A value is trying to be set on a copy of a slice from a DataFrame.\n",
      "Try using .loc[row_indexer,col_indexer] = value instead\n",
      "\n",
      "See the caveats in the documentation: http://pandas.pydata.org/pandas-docs/stable/indexing.html#indexing-view-versus-copy\n",
      "  \"\"\"Entry point for launching an IPython kernel.\n",
      "C:\\Users\\Anton.Lahunou\\AppData\\Local\\Continuum\\anaconda3\\lib\\site-packages\\ipykernel_launcher.py:2: SettingWithCopyWarning: \n",
      "A value is trying to be set on a copy of a slice from a DataFrame.\n",
      "Try using .loc[row_indexer,col_indexer] = value instead\n",
      "\n",
      "See the caveats in the documentation: http://pandas.pydata.org/pandas-docs/stable/indexing.html#indexing-view-versus-copy\n",
      "  \n",
      "C:\\Users\\Anton.Lahunou\\AppData\\Local\\Continuum\\anaconda3\\lib\\site-packages\\ipykernel_launcher.py:3: SettingWithCopyWarning: \n",
      "A value is trying to be set on a copy of a slice from a DataFrame.\n",
      "Try using .loc[row_indexer,col_indexer] = value instead\n",
      "\n",
      "See the caveats in the documentation: http://pandas.pydata.org/pandas-docs/stable/indexing.html#indexing-view-versus-copy\n",
      "  This is separate from the ipykernel package so we can avoid doing imports until\n"
     ]
    }
   ],
   "source": [
    "dry_eye['YEAR'] = [d.year for d in dry_eye['WEEK']]\n",
    "dry_eye['MONTH'] = [d.month for d in dry_eye['WEEK']]\n",
    "dry_eye['DAY'] = [d.day for d in dry_eye['WEEK']]"
   ]
  },
  {
   "cell_type": "code",
   "execution_count": 26,
   "metadata": {},
   "outputs": [
    {
     "name": "stderr",
     "output_type": "stream",
     "text": [
      "C:\\Users\\Anton.Lahunou\\AppData\\Local\\Continuum\\anaconda3\\lib\\site-packages\\pandas\\core\\frame.py:3697: SettingWithCopyWarning: \n",
      "A value is trying to be set on a copy of a slice from a DataFrame\n",
      "\n",
      "See the caveats in the documentation: http://pandas.pydata.org/pandas-docs/stable/indexing.html#indexing-view-versus-copy\n",
      "  errors=errors)\n"
     ]
    }
   ],
   "source": [
    "dry_eye.drop(['WEEK'], axis=1, inplace=True)"
   ]
  },
  {
   "cell_type": "code",
   "execution_count": 27,
   "metadata": {},
   "outputs": [
    {
     "data": {
      "text/html": [
       "<div>\n",
       "<style scoped>\n",
       "    .dataframe tbody tr th:only-of-type {\n",
       "        vertical-align: middle;\n",
       "    }\n",
       "\n",
       "    .dataframe tbody tr th {\n",
       "        vertical-align: top;\n",
       "    }\n",
       "\n",
       "    .dataframe thead th {\n",
       "        text-align: right;\n",
       "    }\n",
       "</style>\n",
       "<table border=\"1\" class=\"dataframe\">\n",
       "  <thead>\n",
       "    <tr style=\"text-align: right;\">\n",
       "      <th></th>\n",
       "      <th>PLN</th>\n",
       "      <th>PLN_LABEL</th>\n",
       "      <th>ACTUAL</th>\n",
       "      <th>SEG</th>\n",
       "      <th>PROMO</th>\n",
       "      <th>YEAR</th>\n",
       "      <th>MONTH</th>\n",
       "      <th>DAY</th>\n",
       "    </tr>\n",
       "  </thead>\n",
       "  <tbody>\n",
       "    <tr>\n",
       "      <th>1673</th>\n",
       "      <td>40000415307</td>\n",
       "      <td>REFRESH OPTIVE ADVANCED      10ML</td>\n",
       "      <td>150.0</td>\n",
       "      <td>A</td>\n",
       "      <td>N</td>\n",
       "      <td>2016</td>\n",
       "      <td>5</td>\n",
       "      <td>29</td>\n",
       "    </tr>\n",
       "    <tr>\n",
       "      <th>1674</th>\n",
       "      <td>40000415307</td>\n",
       "      <td>REFRESH OPTIVE ADVANCED      10ML</td>\n",
       "      <td>1113.0</td>\n",
       "      <td>C1</td>\n",
       "      <td>N</td>\n",
       "      <td>2016</td>\n",
       "      <td>5</td>\n",
       "      <td>29</td>\n",
       "    </tr>\n",
       "    <tr>\n",
       "      <th>1675</th>\n",
       "      <td>40000415307</td>\n",
       "      <td>REFRESH OPTIVE ADVANCED      10ML</td>\n",
       "      <td>295.0</td>\n",
       "      <td>B</td>\n",
       "      <td>N</td>\n",
       "      <td>2016</td>\n",
       "      <td>5</td>\n",
       "      <td>29</td>\n",
       "    </tr>\n",
       "    <tr>\n",
       "      <th>1676</th>\n",
       "      <td>40000415307</td>\n",
       "      <td>REFRESH OPTIVE ADVANCED      10ML</td>\n",
       "      <td>15.0</td>\n",
       "      <td>NoSegment-C</td>\n",
       "      <td>N</td>\n",
       "      <td>2016</td>\n",
       "      <td>5</td>\n",
       "      <td>29</td>\n",
       "    </tr>\n",
       "    <tr>\n",
       "      <th>2474</th>\n",
       "      <td>40000684179</td>\n",
       "      <td>THERA TEARS LUB EYE DROPS    15ML</td>\n",
       "      <td>153.0</td>\n",
       "      <td>A</td>\n",
       "      <td>N</td>\n",
       "      <td>2016</td>\n",
       "      <td>5</td>\n",
       "      <td>29</td>\n",
       "    </tr>\n",
       "  </tbody>\n",
       "</table>\n",
       "</div>"
      ],
      "text/plain": [
       "              PLN                          PLN_LABEL  ACTUAL          SEG  \\\n",
       "1673  40000415307  REFRESH OPTIVE ADVANCED      10ML   150.0            A   \n",
       "1674  40000415307  REFRESH OPTIVE ADVANCED      10ML  1113.0           C1   \n",
       "1675  40000415307  REFRESH OPTIVE ADVANCED      10ML   295.0            B   \n",
       "1676  40000415307  REFRESH OPTIVE ADVANCED      10ML    15.0  NoSegment-C   \n",
       "2474  40000684179  THERA TEARS LUB EYE DROPS    15ML   153.0            A   \n",
       "\n",
       "     PROMO  YEAR  MONTH  DAY  \n",
       "1673     N  2016      5   29  \n",
       "1674     N  2016      5   29  \n",
       "1675     N  2016      5   29  \n",
       "1676     N  2016      5   29  \n",
       "2474     N  2016      5   29  "
      ]
     },
     "execution_count": 27,
     "metadata": {},
     "output_type": "execute_result"
    }
   ],
   "source": [
    "dry_eye.head()"
   ]
  },
  {
   "cell_type": "code",
   "execution_count": 28,
   "metadata": {},
   "outputs": [
    {
     "data": {
      "text/plain": [
       "False"
      ]
     },
     "execution_count": 28,
     "metadata": {},
     "output_type": "execute_result"
    }
   ],
   "source": [
    "dry_eye['PLN'].isnull().values.any()"
   ]
  },
  {
   "cell_type": "code",
   "execution_count": 29,
   "metadata": {},
   "outputs": [
    {
     "data": {
      "text/plain": [
       "False"
      ]
     },
     "execution_count": 29,
     "metadata": {},
     "output_type": "execute_result"
    }
   ],
   "source": [
    "dry_eye['PLN_LABEL'].isnull().values.any()"
   ]
  },
  {
   "cell_type": "code",
   "execution_count": 30,
   "metadata": {},
   "outputs": [
    {
     "data": {
      "text/plain": [
       "False"
      ]
     },
     "execution_count": 30,
     "metadata": {},
     "output_type": "execute_result"
    }
   ],
   "source": [
    "dry_eye['ACTUAL'].isnull().values.any()"
   ]
  },
  {
   "cell_type": "code",
   "execution_count": 31,
   "metadata": {},
   "outputs": [
    {
     "data": {
      "text/plain": [
       "False"
      ]
     },
     "execution_count": 31,
     "metadata": {},
     "output_type": "execute_result"
    }
   ],
   "source": [
    "dry_eye['SEG'].isnull().values.any()"
   ]
  },
  {
   "cell_type": "code",
   "execution_count": 32,
   "metadata": {},
   "outputs": [
    {
     "data": {
      "text/plain": [
       "False"
      ]
     },
     "execution_count": 32,
     "metadata": {},
     "output_type": "execute_result"
    }
   ],
   "source": [
    "dry_eye['PROMO'].isnull().values.any()"
   ]
  },
  {
   "cell_type": "code",
   "execution_count": 33,
   "metadata": {},
   "outputs": [],
   "source": [
    "seg_dic = {'A':0, 'NoSegmen-A':1, 'B':2, 'NoSegment-B':3, 'C1':4, 'C2':5, 'C3':6, 'C4':7, 'NoSegment-C':8, 'NoBuisnessUnit':9}"
   ]
  },
  {
   "cell_type": "code",
   "execution_count": 34,
   "metadata": {},
   "outputs": [
    {
     "name": "stderr",
     "output_type": "stream",
     "text": [
      "C:\\Users\\Anton.Lahunou\\AppData\\Local\\Continuum\\anaconda3\\lib\\site-packages\\ipykernel_launcher.py:1: SettingWithCopyWarning: \n",
      "A value is trying to be set on a copy of a slice from a DataFrame.\n",
      "Try using .loc[row_indexer,col_indexer] = value instead\n",
      "\n",
      "See the caveats in the documentation: http://pandas.pydata.org/pandas-docs/stable/indexing.html#indexing-view-versus-copy\n",
      "  \"\"\"Entry point for launching an IPython kernel.\n"
     ]
    }
   ],
   "source": [
    "dry_eye['SEG'] = dry_eye['SEG'].replace(seg_dic)"
   ]
  },
  {
   "cell_type": "code",
   "execution_count": 35,
   "metadata": {},
   "outputs": [],
   "source": [
    "def replace_negative(x):\n",
    "    if x<0:\n",
    "        return 0\n",
    "    else:\n",
    "        return x"
   ]
  },
  {
   "cell_type": "code",
   "execution_count": 36,
   "metadata": {},
   "outputs": [
    {
     "name": "stderr",
     "output_type": "stream",
     "text": [
      "C:\\Users\\Anton.Lahunou\\AppData\\Local\\Continuum\\anaconda3\\lib\\site-packages\\ipykernel_launcher.py:1: SettingWithCopyWarning: \n",
      "A value is trying to be set on a copy of a slice from a DataFrame.\n",
      "Try using .loc[row_indexer,col_indexer] = value instead\n",
      "\n",
      "See the caveats in the documentation: http://pandas.pydata.org/pandas-docs/stable/indexing.html#indexing-view-versus-copy\n",
      "  \"\"\"Entry point for launching an IPython kernel.\n"
     ]
    }
   ],
   "source": [
    "dry_eye['ACTUAL'] = dry_eye['ACTUAL'].apply(lambda x: replace_negative(x))"
   ]
  },
  {
   "cell_type": "code",
   "execution_count": 37,
   "metadata": {},
   "outputs": [],
   "source": [
    "promo_dict = {'Y':1, 'N':0}"
   ]
  },
  {
   "cell_type": "code",
   "execution_count": 39,
   "metadata": {},
   "outputs": [
    {
     "name": "stderr",
     "output_type": "stream",
     "text": [
      "C:\\Users\\Anton.Lahunou\\AppData\\Local\\Continuum\\anaconda3\\lib\\site-packages\\ipykernel_launcher.py:1: SettingWithCopyWarning: \n",
      "A value is trying to be set on a copy of a slice from a DataFrame.\n",
      "Try using .loc[row_indexer,col_indexer] = value instead\n",
      "\n",
      "See the caveats in the documentation: http://pandas.pydata.org/pandas-docs/stable/indexing.html#indexing-view-versus-copy\n",
      "  \"\"\"Entry point for launching an IPython kernel.\n"
     ]
    }
   ],
   "source": [
    "dry_eye['PROMO'] = dry_eye['PROMO'].replace(promo_dict)"
   ]
  },
  {
   "cell_type": "code",
   "execution_count": 48,
   "metadata": {},
   "outputs": [
    {
     "data": {
      "text/plain": [
       "0      28926\n",
       "1      11587\n",
       "nan     7402\n",
       "Name: PROMO, dtype: int64"
      ]
     },
     "execution_count": 48,
     "metadata": {},
     "output_type": "execute_result"
    }
   ],
   "source": [
    "dry_eye['PROMO'].value_counts()"
   ]
  },
  {
   "cell_type": "code",
   "execution_count": 63,
   "metadata": {},
   "outputs": [],
   "source": [
    "def is_nan(x):\n",
    "    if x=='nan':\n",
    "        return 3\n",
    "    else:\n",
    "        return x"
   ]
  },
  {
   "cell_type": "code",
   "execution_count": 65,
   "metadata": {},
   "outputs": [
    {
     "name": "stderr",
     "output_type": "stream",
     "text": [
      "C:\\Users\\Anton.Lahunou\\AppData\\Local\\Continuum\\anaconda3\\lib\\site-packages\\ipykernel_launcher.py:1: SettingWithCopyWarning: \n",
      "A value is trying to be set on a copy of a slice from a DataFrame.\n",
      "Try using .loc[row_indexer,col_indexer] = value instead\n",
      "\n",
      "See the caveats in the documentation: http://pandas.pydata.org/pandas-docs/stable/indexing.html#indexing-view-versus-copy\n",
      "  \"\"\"Entry point for launching an IPython kernel.\n"
     ]
    }
   ],
   "source": [
    "dry_eye['PROMO'] = dry_eye['PROMO'].apply(lambda x: is_nan(x))"
   ]
  },
  {
   "cell_type": "code",
   "execution_count": 67,
   "metadata": {},
   "outputs": [
    {
     "data": {
      "text/plain": [
       "0    28926\n",
       "1    11587\n",
       "3     7402\n",
       "Name: PROMO, dtype: int64"
      ]
     },
     "execution_count": 67,
     "metadata": {},
     "output_type": "execute_result"
    }
   ],
   "source": [
    "dry_eye['PROMO'].value_counts()"
   ]
  },
  {
   "cell_type": "code",
   "execution_count": 50,
   "metadata": {},
   "outputs": [
    {
     "data": {
      "text/plain": [
       "403.78737347386"
      ]
     },
     "execution_count": 50,
     "metadata": {},
     "output_type": "execute_result"
    }
   ],
   "source": [
    "dry_eye['ACTUAL'].mean()"
   ]
  },
  {
   "cell_type": "code",
   "execution_count": 99,
   "metadata": {},
   "outputs": [],
   "source": [
    "def many_act(x):\n",
    "    if x>=2000:\n",
    "        return 1\n",
    "    else:\n",
    "        return 0"
   ]
  },
  {
   "cell_type": "code",
   "execution_count": 100,
   "metadata": {},
   "outputs": [
    {
     "name": "stderr",
     "output_type": "stream",
     "text": [
      "C:\\Users\\Anton.Lahunou\\AppData\\Local\\Continuum\\anaconda3\\lib\\site-packages\\ipykernel_launcher.py:1: SettingWithCopyWarning: \n",
      "A value is trying to be set on a copy of a slice from a DataFrame.\n",
      "Try using .loc[row_indexer,col_indexer] = value instead\n",
      "\n",
      "See the caveats in the documentation: http://pandas.pydata.org/pandas-docs/stable/indexing.html#indexing-view-versus-copy\n",
      "  \"\"\"Entry point for launching an IPython kernel.\n"
     ]
    }
   ],
   "source": [
    "dry_eye['MANY_ACTUAL'] = [many_act(x) for x in dry_eye['ACTUAL']]"
   ]
  },
  {
   "cell_type": "code",
   "execution_count": 57,
   "metadata": {},
   "outputs": [
    {
     "data": {
      "text/plain": [
       "False"
      ]
     },
     "execution_count": 57,
     "metadata": {},
     "output_type": "execute_result"
    }
   ],
   "source": [
    "dry_eye['PROMO'].equals(dry_eye['MANY_ACTUAL'])"
   ]
  },
  {
   "cell_type": "code",
   "execution_count": 101,
   "metadata": {},
   "outputs": [],
   "source": [
    "comp_vect = []\n",
    "for i in range(len(dry_eye)):\n",
    "    if dry_eye['PROMO'].values[i] != 3:\n",
    "        if dry_eye['PROMO'].values[i]==dry_eye['MANY_ACTUAL'].values[i]:\n",
    "            comp_vect.append(1)\n",
    "        else:\n",
    "            comp_vect.append(0)"
   ]
  },
  {
   "cell_type": "code",
   "execution_count": 102,
   "metadata": {},
   "outputs": [
    {
     "data": {
      "text/plain": [
       "0.7252240021721422"
      ]
     },
     "execution_count": 102,
     "metadata": {},
     "output_type": "execute_result"
    }
   ],
   "source": [
    "comp_vect.count(1)/len(comp_vect)"
   ]
  },
  {
   "cell_type": "code",
   "execution_count": null,
   "metadata": {},
   "outputs": [],
   "source": [
    "for i in range(len(dry_eye)):\n",
    "    if dry_eye['PROMO'].values[i]==3:\n",
    "        dry_eye.loc['PROMO', i] = dry_eye['MANY_ACTUAL'].values[i]"
   ]
  },
  {
   "cell_type": "code",
   "execution_count": 103,
   "metadata": {},
   "outputs": [
    {
     "data": {
      "text/html": [
       "<div>\n",
       "<style scoped>\n",
       "    .dataframe tbody tr th:only-of-type {\n",
       "        vertical-align: middle;\n",
       "    }\n",
       "\n",
       "    .dataframe tbody tr th {\n",
       "        vertical-align: top;\n",
       "    }\n",
       "\n",
       "    .dataframe thead th {\n",
       "        text-align: right;\n",
       "    }\n",
       "</style>\n",
       "<table border=\"1\" class=\"dataframe\">\n",
       "  <thead>\n",
       "    <tr style=\"text-align: right;\">\n",
       "      <th></th>\n",
       "      <th>PLN</th>\n",
       "      <th>PLN_LABEL</th>\n",
       "      <th>ACTUAL</th>\n",
       "      <th>SEG</th>\n",
       "      <th>PROMO</th>\n",
       "      <th>YEAR</th>\n",
       "      <th>MONTH</th>\n",
       "      <th>DAY</th>\n",
       "      <th>MANY_ACTUAL</th>\n",
       "    </tr>\n",
       "  </thead>\n",
       "  <tbody>\n",
       "    <tr>\n",
       "      <th>1673</th>\n",
       "      <td>40000415307</td>\n",
       "      <td>REFRESH OPTIVE ADVANCED      10ML</td>\n",
       "      <td>150.0</td>\n",
       "      <td>0</td>\n",
       "      <td>0</td>\n",
       "      <td>2016</td>\n",
       "      <td>5</td>\n",
       "      <td>29</td>\n",
       "      <td>0</td>\n",
       "    </tr>\n",
       "    <tr>\n",
       "      <th>1674</th>\n",
       "      <td>40000415307</td>\n",
       "      <td>REFRESH OPTIVE ADVANCED      10ML</td>\n",
       "      <td>1113.0</td>\n",
       "      <td>4</td>\n",
       "      <td>0</td>\n",
       "      <td>2016</td>\n",
       "      <td>5</td>\n",
       "      <td>29</td>\n",
       "      <td>0</td>\n",
       "    </tr>\n",
       "    <tr>\n",
       "      <th>1675</th>\n",
       "      <td>40000415307</td>\n",
       "      <td>REFRESH OPTIVE ADVANCED      10ML</td>\n",
       "      <td>295.0</td>\n",
       "      <td>2</td>\n",
       "      <td>0</td>\n",
       "      <td>2016</td>\n",
       "      <td>5</td>\n",
       "      <td>29</td>\n",
       "      <td>0</td>\n",
       "    </tr>\n",
       "    <tr>\n",
       "      <th>1676</th>\n",
       "      <td>40000415307</td>\n",
       "      <td>REFRESH OPTIVE ADVANCED      10ML</td>\n",
       "      <td>15.0</td>\n",
       "      <td>8</td>\n",
       "      <td>0</td>\n",
       "      <td>2016</td>\n",
       "      <td>5</td>\n",
       "      <td>29</td>\n",
       "      <td>0</td>\n",
       "    </tr>\n",
       "    <tr>\n",
       "      <th>2474</th>\n",
       "      <td>40000684179</td>\n",
       "      <td>THERA TEARS LUB EYE DROPS    15ML</td>\n",
       "      <td>153.0</td>\n",
       "      <td>0</td>\n",
       "      <td>0</td>\n",
       "      <td>2016</td>\n",
       "      <td>5</td>\n",
       "      <td>29</td>\n",
       "      <td>0</td>\n",
       "    </tr>\n",
       "    <tr>\n",
       "      <th>2475</th>\n",
       "      <td>40000684179</td>\n",
       "      <td>THERA TEARS LUB EYE DROPS    15ML</td>\n",
       "      <td>1195.0</td>\n",
       "      <td>4</td>\n",
       "      <td>0</td>\n",
       "      <td>2016</td>\n",
       "      <td>5</td>\n",
       "      <td>29</td>\n",
       "      <td>0</td>\n",
       "    </tr>\n",
       "    <tr>\n",
       "      <th>2476</th>\n",
       "      <td>40000684179</td>\n",
       "      <td>THERA TEARS LUB EYE DROPS    15ML</td>\n",
       "      <td>670.0</td>\n",
       "      <td>2</td>\n",
       "      <td>0</td>\n",
       "      <td>2016</td>\n",
       "      <td>5</td>\n",
       "      <td>29</td>\n",
       "      <td>0</td>\n",
       "    </tr>\n",
       "    <tr>\n",
       "      <th>2477</th>\n",
       "      <td>40000684179</td>\n",
       "      <td>THERA TEARS LUB EYE DROPS    15ML</td>\n",
       "      <td>9.0</td>\n",
       "      <td>8</td>\n",
       "      <td>0</td>\n",
       "      <td>2016</td>\n",
       "      <td>5</td>\n",
       "      <td>29</td>\n",
       "      <td>0</td>\n",
       "    </tr>\n",
       "    <tr>\n",
       "      <th>6278</th>\n",
       "      <td>40000358396</td>\n",
       "      <td>WALG ULTR LUBRI EYE DRP .33OZ 2PK</td>\n",
       "      <td>524.0</td>\n",
       "      <td>6</td>\n",
       "      <td>0</td>\n",
       "      <td>2016</td>\n",
       "      <td>5</td>\n",
       "      <td>29</td>\n",
       "      <td>0</td>\n",
       "    </tr>\n",
       "    <tr>\n",
       "      <th>6279</th>\n",
       "      <td>40000358396</td>\n",
       "      <td>WALG ULTR LUBRI EYE DRP .33OZ 2PK</td>\n",
       "      <td>3.0</td>\n",
       "      <td>2</td>\n",
       "      <td>0</td>\n",
       "      <td>2016</td>\n",
       "      <td>5</td>\n",
       "      <td>29</td>\n",
       "      <td>0</td>\n",
       "    </tr>\n",
       "    <tr>\n",
       "      <th>10196</th>\n",
       "      <td>40000529197</td>\n",
       "      <td>BLINK GEL TEAR LUB EYE DROPS.34OZ</td>\n",
       "      <td>120.0</td>\n",
       "      <td>0</td>\n",
       "      <td>0</td>\n",
       "      <td>2016</td>\n",
       "      <td>5</td>\n",
       "      <td>29</td>\n",
       "      <td>0</td>\n",
       "    </tr>\n",
       "    <tr>\n",
       "      <th>10197</th>\n",
       "      <td>40000529197</td>\n",
       "      <td>BLINK GEL TEAR LUB EYE DROPS.34OZ</td>\n",
       "      <td>699.0</td>\n",
       "      <td>7</td>\n",
       "      <td>0</td>\n",
       "      <td>2016</td>\n",
       "      <td>5</td>\n",
       "      <td>29</td>\n",
       "      <td>0</td>\n",
       "    </tr>\n",
       "    <tr>\n",
       "      <th>10198</th>\n",
       "      <td>40000529197</td>\n",
       "      <td>BLINK GEL TEAR LUB EYE DROPS.34OZ</td>\n",
       "      <td>393.0</td>\n",
       "      <td>2</td>\n",
       "      <td>0</td>\n",
       "      <td>2016</td>\n",
       "      <td>5</td>\n",
       "      <td>29</td>\n",
       "      <td>0</td>\n",
       "    </tr>\n",
       "    <tr>\n",
       "      <th>10199</th>\n",
       "      <td>40000529197</td>\n",
       "      <td>BLINK GEL TEAR LUB EYE DROPS.34OZ</td>\n",
       "      <td>12.0</td>\n",
       "      <td>8</td>\n",
       "      <td>0</td>\n",
       "      <td>2016</td>\n",
       "      <td>5</td>\n",
       "      <td>29</td>\n",
       "      <td>0</td>\n",
       "    </tr>\n",
       "    <tr>\n",
       "      <th>10909</th>\n",
       "      <td>40000353199</td>\n",
       "      <td>B&amp;L SOOTHE XP                15ML</td>\n",
       "      <td>28.0</td>\n",
       "      <td>0</td>\n",
       "      <td>1</td>\n",
       "      <td>2016</td>\n",
       "      <td>5</td>\n",
       "      <td>29</td>\n",
       "      <td>0</td>\n",
       "    </tr>\n",
       "    <tr>\n",
       "      <th>10910</th>\n",
       "      <td>40000353199</td>\n",
       "      <td>B&amp;L SOOTHE XP                15ML</td>\n",
       "      <td>976.0</td>\n",
       "      <td>5</td>\n",
       "      <td>1</td>\n",
       "      <td>2016</td>\n",
       "      <td>5</td>\n",
       "      <td>29</td>\n",
       "      <td>0</td>\n",
       "    </tr>\n",
       "    <tr>\n",
       "      <th>10911</th>\n",
       "      <td>40000353199</td>\n",
       "      <td>B&amp;L SOOTHE XP                15ML</td>\n",
       "      <td>116.0</td>\n",
       "      <td>5</td>\n",
       "      <td>0</td>\n",
       "      <td>2016</td>\n",
       "      <td>5</td>\n",
       "      <td>29</td>\n",
       "      <td>0</td>\n",
       "    </tr>\n",
       "    <tr>\n",
       "      <th>10912</th>\n",
       "      <td>40000353199</td>\n",
       "      <td>B&amp;L SOOTHE XP                15ML</td>\n",
       "      <td>241.0</td>\n",
       "      <td>2</td>\n",
       "      <td>1</td>\n",
       "      <td>2016</td>\n",
       "      <td>5</td>\n",
       "      <td>29</td>\n",
       "      <td>0</td>\n",
       "    </tr>\n",
       "    <tr>\n",
       "      <th>10913</th>\n",
       "      <td>40000353199</td>\n",
       "      <td>B&amp;L SOOTHE XP                15ML</td>\n",
       "      <td>2.0</td>\n",
       "      <td>2</td>\n",
       "      <td>0</td>\n",
       "      <td>2016</td>\n",
       "      <td>5</td>\n",
       "      <td>29</td>\n",
       "      <td>0</td>\n",
       "    </tr>\n",
       "    <tr>\n",
       "      <th>10914</th>\n",
       "      <td>40000353199</td>\n",
       "      <td>B&amp;L SOOTHE XP                15ML</td>\n",
       "      <td>13.0</td>\n",
       "      <td>8</td>\n",
       "      <td>0</td>\n",
       "      <td>2016</td>\n",
       "      <td>5</td>\n",
       "      <td>29</td>\n",
       "      <td>0</td>\n",
       "    </tr>\n",
       "  </tbody>\n",
       "</table>\n",
       "</div>"
      ],
      "text/plain": [
       "               PLN                          PLN_LABEL  ACTUAL  SEG  PROMO  \\\n",
       "1673   40000415307  REFRESH OPTIVE ADVANCED      10ML   150.0    0      0   \n",
       "1674   40000415307  REFRESH OPTIVE ADVANCED      10ML  1113.0    4      0   \n",
       "1675   40000415307  REFRESH OPTIVE ADVANCED      10ML   295.0    2      0   \n",
       "1676   40000415307  REFRESH OPTIVE ADVANCED      10ML    15.0    8      0   \n",
       "2474   40000684179  THERA TEARS LUB EYE DROPS    15ML   153.0    0      0   \n",
       "2475   40000684179  THERA TEARS LUB EYE DROPS    15ML  1195.0    4      0   \n",
       "2476   40000684179  THERA TEARS LUB EYE DROPS    15ML   670.0    2      0   \n",
       "2477   40000684179  THERA TEARS LUB EYE DROPS    15ML     9.0    8      0   \n",
       "6278   40000358396  WALG ULTR LUBRI EYE DRP .33OZ 2PK   524.0    6      0   \n",
       "6279   40000358396  WALG ULTR LUBRI EYE DRP .33OZ 2PK     3.0    2      0   \n",
       "10196  40000529197  BLINK GEL TEAR LUB EYE DROPS.34OZ   120.0    0      0   \n",
       "10197  40000529197  BLINK GEL TEAR LUB EYE DROPS.34OZ   699.0    7      0   \n",
       "10198  40000529197  BLINK GEL TEAR LUB EYE DROPS.34OZ   393.0    2      0   \n",
       "10199  40000529197  BLINK GEL TEAR LUB EYE DROPS.34OZ    12.0    8      0   \n",
       "10909  40000353199  B&L SOOTHE XP                15ML    28.0    0      1   \n",
       "10910  40000353199  B&L SOOTHE XP                15ML   976.0    5      1   \n",
       "10911  40000353199  B&L SOOTHE XP                15ML   116.0    5      0   \n",
       "10912  40000353199  B&L SOOTHE XP                15ML   241.0    2      1   \n",
       "10913  40000353199  B&L SOOTHE XP                15ML     2.0    2      0   \n",
       "10914  40000353199  B&L SOOTHE XP                15ML    13.0    8      0   \n",
       "\n",
       "       YEAR  MONTH  DAY  MANY_ACTUAL  \n",
       "1673   2016      5   29            0  \n",
       "1674   2016      5   29            0  \n",
       "1675   2016      5   29            0  \n",
       "1676   2016      5   29            0  \n",
       "2474   2016      5   29            0  \n",
       "2475   2016      5   29            0  \n",
       "2476   2016      5   29            0  \n",
       "2477   2016      5   29            0  \n",
       "6278   2016      5   29            0  \n",
       "6279   2016      5   29            0  \n",
       "10196  2016      5   29            0  \n",
       "10197  2016      5   29            0  \n",
       "10198  2016      5   29            0  \n",
       "10199  2016      5   29            0  \n",
       "10909  2016      5   29            0  \n",
       "10910  2016      5   29            0  \n",
       "10911  2016      5   29            0  \n",
       "10912  2016      5   29            0  \n",
       "10913  2016      5   29            0  \n",
       "10914  2016      5   29            0  "
      ]
     },
     "execution_count": 103,
     "metadata": {},
     "output_type": "execute_result"
    }
   ],
   "source": [
    "dry_eye.head(20)"
   ]
  },
  {
   "cell_type": "code",
   "execution_count": 43,
   "metadata": {},
   "outputs": [
    {
     "name": "stderr",
     "output_type": "stream",
     "text": [
      "C:\\Users\\Anton.Lahunou\\AppData\\Local\\Continuum\\anaconda3\\lib\\site-packages\\scipy\\stats\\stats.py:1713: FutureWarning: Using a non-tuple sequence for multidimensional indexing is deprecated; use `arr[tuple(seq)]` instead of `arr[seq]`. In the future this will be interpreted as an array index, `arr[np.array(seq)]`, which will result either in an error or a different result.\n",
      "  return np.add.reduce(sorted[indexer] * weights, axis=axis) / sumval\n"
     ]
    },
    {
     "data": {
      "image/png": "[encoded data removed]",
      "text/plain": [
       "<Figure size 421.375x360 with 1 Axes>"
      ]
     },
     "metadata": {
      "needs_background": "light"
     },
     "output_type": "display_data"
    }
   ],
   "source": [
    "sns.catplot(x='MONTH', y='ACTUAL', hue='YEAR', data=dry_eye, kind='bar', palette='muted');"
   ]
  },
  {
   "cell_type": "code",
   "execution_count": 45,
   "metadata": {},
   "outputs": [
    {
     "data": {
      "image/png": "[encoded data removed]",
      "text/plain": [
       "<Figure size 432x288 with 1 Axes>"
      ]
     },
     "metadata": {
      "needs_background": "light"
     },
     "output_type": "display_data"
    }
   ],
   "source": [
    "sns.countplot(x='PROMO', data=dry_eye);"
   ]
  },
  {
   "cell_type": "code",
   "execution_count": 74,
   "metadata": {},
   "outputs": [
    {
     "data": {
      "image/png": "[encoded data removed]",
      "text/plain": [
       "<Figure size 432x288 with 1 Axes>"
      ]
     },
     "metadata": {
      "needs_background": "light"
     },
     "output_type": "display_data"
    }
   ],
   "source": [
    "plt.hist(x='ACTUAL', data=dry_eye, bins=100);"
   ]
  },
  {
   "cell_type": "code",
   "execution_count": 108,
   "metadata": {},
   "outputs": [
    {
     "data": {
      "text/plain": [
       "BLINK GEL TEAR LUB EYE DROPS.34OZ    939\n",
       "BLINK TEARS LUBRICATING DRPS .5OZ    931\n",
       "BLINK TEARS LUBRICATING DROPS 1OZ    895\n",
       "WALG ARTIFICIAL TEAR LBRCNT .5OZ     867\n",
       "B&L SOOTHE LUB EYE DRPS .02OZ 28S    845\n",
       "VISINE TEARS FOR DRY EYES    .5OZ    832\n",
       "VISINE TEARS L/LST RLF DRYEYE.5OZ    821\n",
       "SOOTHE HYDRATION DRY EYE DROP.5OZ    820\n",
       "WALG LUB E DRP SNGL USE .01OZ 30S    813\n",
       "SYSTANE ULT HIGH PERFORMANC .33OZ    791\n",
       "WALG SODIUM CHLR OPTH ONT 5%.13OZ    782\n",
       "B&L SOOTHE XP                15ML    776\n",
       "SYSTANE LUB EYE DRP          .5OZ    775\n",
       "SYSTANE BLNC LBRCNT EYE DROP.33OZ    770\n",
       "SYSTANE PM LUBE EYE OINTMENT.12OZ    760\n",
       "SYSTANE ULTRA            .33OZ 2S    748\n",
       "SYSTANE BALANCE EYE DROP .33OZ 2S    747\n",
       "WALG LUB E DRP SNGL USE .01OZ 70S    745\n",
       "SIMILASAN E/DROP D/EYE 30014.33OZ    744\n",
       "SIMILASAN CMPLT E RLF DRPS .33OZ     738\n",
       "WALGREENS MURO 128 DROPS    .500Z    733\n",
       "WALG ULT LUB EYEDRP VIAL .01OZ25S    723\n",
       "SYSTANE LUB EYE DRP          30ML    718\n",
       "SYSTANE ULTRA POCKET PACK.14OZ 2S    715\n",
       "SYSTANE GEL DROPS           .33OZ    709\n",
       "GENTEAL SEVERE LUB EYE GEL   10ML    706\n",
       "SYSTANE GEL OVERNIGHT THERPY.35OZ    689\n",
       "REFRESH LIQUIGEL LUB 92056   .5OZ    687\n",
       "REFRESH TEARS LUB EYE DROPS  15ML    687\n",
       "REFRESH PLUS            .01OZ 70S    686\n",
       "                                    ... \n",
       "GENTEAL MILD/MOD LUB EYE DROP15ML    270\n",
       "WALGREEN STYE OINTMENT      .12OZ    261\n",
       "WALG LUBRICANT EYEDROPS .5OZ         217\n",
       "TRP AGING EYE RELIEF DROPS   .5OZ    216\n",
       "TEARS NATURALE II 0418-15  15ML X    190\n",
       "WALGREEN STYE OINTMENT     .125OZ    187\n",
       "WALG ART TEARS VIALS .02OZ 32S       180\n",
       "WALG OPTIVE LUB EYE DRP   .5OZ 2S    180\n",
       "REFRESH PLUS.01OZ 30S                173\n",
       "REFRESH ARTIFCL TEARS .01OZ 30S X    129\n",
       "REFRESH PLUS          .01OZ 50S X    126\n",
       "THERATEARS UNIT DOSE 3.2OZ    32S    121\n",
       "W(WALG)ART TEARS VIALS .02OZ 32S     116\n",
       "ROHTO DRY AID EYE DROPS .34OZ        116\n",
       "GENTEAL TEARS MILD LUB DROPS 15ML    114\n",
       "WALG EYE DROPS FORMULA .5OZ 2S       110\n",
       "REFRESH OPTIVE MEGA-3 PRSRVTV 30S    107\n",
       "REFRESH LIQUIGEL LUB 92057    1OZ    105\n",
       "OCUSOFT RETAINE PM INTMENT 0.18OZ     96\n",
       "SYSTANE PF ARTF TRS VIALS.7ML 30S     70\n",
       "SYSTANE ULT LUB EYE DROP .7ML 25S     70\n",
       "WALG LUBRICANT EYE DROPS .5OZ 2S      60\n",
       "WALGREENS PF A/TEARS VIAL 30S         26\n",
       "WALGREENS SENS EYE DROPS 60S          24\n",
       "GENTEAL PM LUB EYE OINTMNT .125OZ     12\n",
       "REFRESH LACRI-LUBE OPTH ONT 3.5GM      8\n",
       "B&L ADV EYE RELIEF REJUVENTN .5OZ      8\n",
       "REFRESH CELVSC 1%OPHT SOL .1OZ30S      8\n",
       "WALG BLNC LBRCNT EYE DROP   .33OZ      5\n",
       "CLEAR EYES PURE RLF DRY EYE .33OZ      4\n",
       "Name: PLN_LABEL, Length: 102, dtype: int64"
      ]
     },
     "execution_count": 108,
     "metadata": {},
     "output_type": "execute_result"
    }
   ],
   "source": [
    "dry_eye['PLN_LABEL'].value_counts()"
   ]
  },
  {
   "cell_type": "code",
   "execution_count": null,
   "metadata": {},
   "outputs": [],
   "source": []
  },
  {
   "cell_type": "code",
   "execution_count": null,
   "metadata": {},
   "outputs": [],
   "source": []
  },
  {
   "cell_type": "code",
   "execution_count": null,
   "metadata": {},
   "outputs": [],
   "source": []
  },
  {
   "cell_type": "code",
   "execution_count": null,
   "metadata": {},
   "outputs": [],
   "source": []
  }
 ],
 "metadata": {
  "kernelspec": {
   "display_name": "Python 3",
   "language": "python",
   "name": "python3"
  },
  "language_info": {
   "codemirror_mode": {
    "name": "ipython",
    "version": 3
   },
   "file_extension": ".py",
   "mimetype": "text/x-python",
   "name": "python",
   "nbconvert_exporter": "python",
   "pygments_lexer": "ipython3",
   "version": "3.7.1"
  }
 },
 "nbformat": 4,
 "nbformat_minor": 2
}
